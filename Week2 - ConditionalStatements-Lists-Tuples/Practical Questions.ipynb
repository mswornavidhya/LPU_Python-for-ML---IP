{
 "cells": [
  {
   "cell_type": "markdown",
   "id": "7f45e57c",
   "metadata": {},
   "source": [
    "# Practical Session cover:\n",
    "### I. Conditional Statements\n",
    "### II. Lists\n",
    "### III. Tuples"
   ]
  },
  {
   "cell_type": "markdown",
   "id": "4163eeb1",
   "metadata": {},
   "source": [
    "### I. Conditional Statements"
   ]
  },
  {
   "cell_type": "markdown",
   "id": "74fe7779",
   "metadata": {},
   "source": [
    "__Tip:__ In order to indent text you can use your ***[Tab]*** key or you can press your ***[space key]*** five times. The ***[backspace]*** key will remove indents."
   ]
  },
  {
   "cell_type": "markdown",
   "id": "cab45c7f",
   "metadata": {},
   "source": [
    "You can use the different comparison and logical operators in the condition statement of your if statement"
   ]
  },
  {
   "cell_type": "markdown",
   "id": "165eb954",
   "metadata": {},
   "source": [
    "#### Questions"
   ]
  },
  {
   "cell_type": "markdown",
   "id": "79f905c4",
   "metadata": {},
   "source": [
    "1. Ask for two numbers. If the first one is larger than the second, display the second number first and then the first number, otherwise show the first number first and then the second."
   ]
  },
  {
   "cell_type": "code",
   "execution_count": 5,
   "id": "843ff9b8",
   "metadata": {},
   "outputs": [
    {
     "name": "stdout",
     "output_type": "stream",
     "text": [
      "34\n",
      "Enter Second number : 12\n",
      "12\n",
      "34\n"
     ]
    }
   ],
   "source": [
    "f_num = int(input())\n",
    "s_num = int(input(\"Enter Second number : \"))\n",
    "\n",
    "if f_num > s_num:\n",
    "    print(s_num)\n",
    "    print(f_num)\n",
    "else:\n",
    "    print(f_num)\n",
    "    print(s_num)"
   ]
  },
  {
   "cell_type": "code",
   "execution_count": 4,
   "id": "9e46038d",
   "metadata": {},
   "outputs": [
    {
     "name": "stdout",
     "output_type": "stream",
     "text": [
      "5\n",
      "5 <class 'str'>\n"
     ]
    }
   ],
   "source": [
    "num = input()\n",
    "print(num, type(num))"
   ]
  },
  {
   "cell_type": "code",
   "execution_count": 7,
   "id": "6bd7bdd2",
   "metadata": {},
   "outputs": [
    {
     "name": "stdout",
     "output_type": "stream",
     "text": [
      "First : 34\n",
      "Second : 54\n",
      "34 54\n"
     ]
    }
   ],
   "source": [
    "a=int(input(\"First : \"))\n",
    "b=int(input(\"Second : \"))\n",
    "\n",
    "if a>b:\n",
    "    print(b,a)\n",
    "else:\n",
    "    print(a,b)"
   ]
  },
  {
   "cell_type": "markdown",
   "id": "7a13c57b",
   "metadata": {},
   "source": [
    "2. Write a program to check whether a person is eligible for voting or not. (accept age from user)"
   ]
  },
  {
   "cell_type": "code",
   "execution_count": 9,
   "id": "ae0577a0",
   "metadata": {},
   "outputs": [
    {
     "name": "stdout",
     "output_type": "stream",
     "text": [
      " enter age : 23\n",
      " eligible to vote\n"
     ]
    }
   ],
   "source": [
    "age=int(input(\" enter age : \"))\n",
    "if age>=18:\n",
    "    print(\" eligible to vote\")\n",
    "else:\n",
    "    print(\"not eligible\")"
   ]
  },
  {
   "cell_type": "code",
   "execution_count": 11,
   "id": "49ee2e34",
   "metadata": {},
   "outputs": [
    {
     "name": "stdout",
     "output_type": "stream",
     "text": [
      "Enter your age : 23\n",
      "you are eligible to vote :)\n"
     ]
    }
   ],
   "source": [
    "age=int(input(\"Enter your age : \"))\n",
    "if age>=18 :\n",
    " print(\"you are eligible to vote :)\")\n",
    "else:\n",
    " print(\"you are not eligible to vote :(\")"
   ]
  },
  {
   "cell_type": "markdown",
   "id": "8a9116f4",
   "metadata": {},
   "source": [
    "3. Ask the user to enter a number that is under 20. If they enter a number that is 20 or more, display the message “Too high”, otherwise display “Thank you”."
   ]
  },
  {
   "cell_type": "code",
   "execution_count": 13,
   "id": "188c4a20",
   "metadata": {},
   "outputs": [
    {
     "name": "stdout",
     "output_type": "stream",
     "text": [
      "enter number lessthan 20 : 20\n",
      "Too High\n"
     ]
    }
   ],
   "source": [
    "num = int(input(\"enter number lessthan 20 : \"))\n",
    "if num<20:\n",
    "    print(\"Thank You\")\n",
    "else:\n",
    "    print(\"Too High\")"
   ]
  },
  {
   "cell_type": "code",
   "execution_count": 14,
   "id": "e0d73714",
   "metadata": {},
   "outputs": [
    {
     "name": "stdout",
     "output_type": "stream",
     "text": [
      "Enter a number 20: 12\n",
      "Thank you\n"
     ]
    }
   ],
   "source": [
    "a = int(input(\"Enter a number 20: \"))\n",
    "\n",
    "print(\"too high\") if a>=20 else print(\"Thank you\")"
   ]
  },
  {
   "cell_type": "code",
   "execution_count": 15,
   "id": "fb847f1c",
   "metadata": {},
   "outputs": [
    {
     "name": "stdout",
     "output_type": "stream",
     "text": [
      "enter a number under 20: 45\n",
      "Too high\n"
     ]
    }
   ],
   "source": [
    "n = int(input(\"enter a number under 20: \"))\n",
    "print(\"Too high\") if n>=20 else print(\"Thank you\")"
   ]
  },
  {
   "cell_type": "markdown",
   "id": "9847d4da",
   "metadata": {},
   "source": [
    "4. Ask the user to enter a\n",
    "number between 10 and 20\n",
    "(inclusive). If they enter a\n",
    "number within this range,\n",
    "display the message “Thank\n",
    "you”, otherwise display the\n",
    "message “Incorrect\n",
    "answer”."
   ]
  },
  {
   "cell_type": "markdown",
   "id": "79367651",
   "metadata": {},
   "source": [
    "5. Ask the user to enter their favourite colour. If they enter “red”, “RED” or\n",
    "“Red” display the message “I like red too”, otherwise display the message\n",
    "“I don’t like [colour], I prefer red”."
   ]
  },
  {
   "cell_type": "markdown",
   "id": "c06f2224",
   "metadata": {},
   "source": [
    "6. Ask the user if it is raining and convert their answer to lower case\n",
    "so it doesn’t matter what case they type it in. If they answer “yes”,\n",
    "ask if it is windy. If they answer “yes” to this second question,\n",
    "display the answer “It is too windy for an umbrella”, otherwise\n",
    "display the message “Take an umbrella”. If they did not answer yes\n",
    "to the first question, display the answer “Enjoy your day”."
   ]
  },
  {
   "cell_type": "markdown",
   "id": "a6609730",
   "metadata": {},
   "source": [
    "7. Ask the user’s age. If they\n",
    "are 18 or over, display the\n",
    "message “You can vote”, if\n",
    "they are aged 17, display the\n",
    "message “You can learn to\n",
    "drive”, if they are 16, display\n",
    "the message “You can buy a\n",
    "lottery ticket”, if they are\n",
    "under 16, display the\n",
    "message “You can go Trickor-\n",
    "Treating”."
   ]
  },
  {
   "cell_type": "markdown",
   "id": "350b6ac1",
   "metadata": {},
   "source": [
    "8. Ask the user to enter a number. If it is under 10,\n",
    "display the message “Too low”, if their number is\n",
    "between 10 and 20, display “Correct”, otherwise\n",
    "display “Too high”."
   ]
  },
  {
   "cell_type": "markdown",
   "id": "fd418134",
   "metadata": {},
   "source": [
    "9. Ask the user to enter 1, 2 or 3. If they enter a 1, display\n",
    "the message “Thank you”, if they enter a 2, display\n",
    "“Well done”, if they enter a 3, display “Correct”. If\n",
    "they enter anything else, display “Error message”."
   ]
  },
  {
   "cell_type": "code",
   "execution_count": 17,
   "id": "c8f28ce4",
   "metadata": {},
   "outputs": [
    {
     "name": "stdout",
     "output_type": "stream",
     "text": [
      "Enter a number 1, 2 or 3 : 3\n",
      "Correct\n"
     ]
    }
   ],
   "source": [
    "num_input = int(input(\"Enter a number 1, 2 or 3 : \"))\n",
    "if num_input == 1:\n",
    "    print(\"Thank you\")\n",
    "elif num_input == 2:\n",
    "    print(\"Well Done\")\n",
    "elif num_input == 3:\n",
    "    print(\"Correct\")\n",
    "else:\n",
    "    print(\"Error message\")"
   ]
  },
  {
   "cell_type": "code",
   "execution_count": 16,
   "id": "6e8c5a10",
   "metadata": {},
   "outputs": [
    {
     "name": "stdout",
     "output_type": "stream",
     "text": [
      "enter a no 32323\n",
      "Error message\n"
     ]
    }
   ],
   "source": [
    "n=int(input(\"enter a no \"))\n",
    "if n==1:\n",
    "    print(\"Thank you \")\n",
    "elif n==2:\n",
    "    print(\" Well done\")\n",
    "elif n==3:\n",
    "    print(\"correct\")\n",
    "else:\n",
    "    print(\"Error message\")"
   ]
  },
  {
   "cell_type": "code",
   "execution_count": 18,
   "id": "5ac2adc3",
   "metadata": {},
   "outputs": [
    {
     "name": "stdout",
     "output_type": "stream",
     "text": [
      "Enter a number 1,2 or 3 3\n",
      "Correct\n"
     ]
    }
   ],
   "source": [
    "a = int(input(\"Enter a number 1,2 or 3 \"))\n",
    "print(\"Thank You\") if a==1 else print(\"Well done\") if a==2 else print(\"Correct\") if a==3 else print(\"Error\")"
   ]
  },
  {
   "cell_type": "markdown",
   "id": "e5d207ed",
   "metadata": {},
   "source": [
    "10. Write a program to calculate the electricity bill (accept number of unit from user) according to the following criteria :\n",
    "<pre>\n",
    "    Unit                Price  \n",
    "    First 100 units   no charge\n",
    "    Next 100 units    Rs 5 per unit\n",
    "    After 200 units   Rs 10 per unit\n",
    "(For example if input unit is 350 than total bill amount is Rs2000)"
   ]
  },
  {
   "cell_type": "code",
   "execution_count": 20,
   "id": "53cf3457",
   "metadata": {},
   "outputs": [
    {
     "name": "stdout",
     "output_type": "stream",
     "text": [
      "Number of unit : 156\n",
      "Bill = 780\n"
     ]
    }
   ],
   "source": [
    "unit = int(input(\"Number of unit : \"))\n",
    "bill = 0\n",
    "if unit <= 100 :\n",
    "    print(\"bill = {}\".format(bill))\n",
    "elif unit <= 200:\n",
    "    bill = unit *5\n",
    "    print(f\"Bill = {bill}\")\n",
    "elif unit >200:\n",
    "    bill = unit*10\n",
    "    print(f\"bill = {bill}\")"
   ]
  },
  {
   "cell_type": "code",
   "execution_count": 19,
   "id": "33161789",
   "metadata": {},
   "outputs": [
    {
     "name": "stdout",
     "output_type": "stream",
     "text": [
      "Enter your name : sworna\n",
      " \"This is sworna's laptop '\"\n"
     ]
    }
   ],
   "source": [
    "name = input(\"Enter your name : \")\n",
    "print(f''' \"This is {name}'s laptop '\"''')"
   ]
  },
  {
   "cell_type": "code",
   "execution_count": 21,
   "id": "a6129c78",
   "metadata": {},
   "outputs": [
    {
     "name": "stdout",
     "output_type": "stream",
     "text": [
      "enter a units of electricity consumed: 156\n",
      "You have to pay:  280\n"
     ]
    }
   ],
   "source": [
    "bill = int(input(\"enter a units of electricity consumed: \"))\n",
    "if bill<=100:\n",
    "    print(\"No charge\")\n",
    "elif bill>100 and bill<=200:\n",
    "    print(\"You have to pay: \",(bill-100)*5)\n",
    "else:\n",
    "    print(\"You have to pay: \",(bill-200)*10+(bill-250)*5)"
   ]
  },
  {
   "cell_type": "code",
   "execution_count": 25,
   "id": "9f1ecb74",
   "metadata": {},
   "outputs": [
    {
     "name": "stdout",
     "output_type": "stream",
     "text": [
      "units used : 256\n",
      "3\n",
      "charge :  563\n"
     ]
    }
   ],
   "source": [
    "x=int(input(\"units used : \"))\n",
    "\n",
    "if x<=100:\n",
    " print(\"no charge\")\n",
    "elif x<=200:\n",
    " a=(x-100)*5\n",
    " print(\"charge : \",a)\n",
    "else:\n",
    " b= a + (x-200)*10\n",
    " print(a)\n",
    " print(\"charge : \",b)"
   ]
  },
  {
   "cell_type": "code",
   "execution_count": 33,
   "id": "0ab41aec",
   "metadata": {},
   "outputs": [
    {
     "name": "stdout",
     "output_type": "stream",
     "text": [
      "34\n",
      "No Charge\n",
      "test\n",
      "45\n"
     ]
    },
    {
     "ename": "TypeError",
     "evalue": "can only concatenate str (not \"int\") to str",
     "output_type": "error",
     "traceback": [
      "\u001b[1;31m---------------------------------------------------------------------------\u001b[0m",
      "\u001b[1;31mTypeError\u001b[0m                                 Traceback (most recent call last)",
      "Input \u001b[1;32mIn [33]\u001b[0m, in \u001b[0;36m<module>\u001b[1;34m\u001b[0m\n\u001b[0;32m     12\u001b[0m      \u001b[38;5;28mprint\u001b[39m(\u001b[38;5;124m\"\u001b[39m\u001b[38;5;124mYou have to pay: \u001b[39m\u001b[38;5;124m\"\u001b[39m,bill)\n\u001b[0;32m     13\u001b[0m unit \u001b[38;5;241m=\u001b[39m \u001b[38;5;28minput\u001b[39m()\n\u001b[1;32m---> 14\u001b[0m unit \u001b[38;5;241m=\u001b[39m \u001b[43munit\u001b[49m\u001b[43m \u001b[49m\u001b[38;5;241;43m+\u001b[39;49m\u001b[43m \u001b[49m\u001b[38;5;241;43m5\u001b[39;49m\n\u001b[0;32m     15\u001b[0m unit\n",
      "\u001b[1;31mTypeError\u001b[0m: can only concatenate str (not \"int\") to str"
     ]
    }
   ],
   "source": [
    "unit= int(input())\n",
    "bill=0\n",
    "if unit<=100:\n",
    "    print(\"No Charge\")\n",
    "    print('test')\n",
    "\n",
    "elif unit>100 and unit<=200:\n",
    "     bill=(unit-100)*5\n",
    "     print(\"You have to pay: \",bill)\n",
    "else:\n",
    "     bill=((unit-200)*10) + (100*5)\n",
    "     print(\"You have to pay: \",bill)\n",
    "unit = input()\n",
    "unit = unit + 5\n",
    "unit"
   ]
  },
  {
   "cell_type": "markdown",
   "id": "36d78976",
   "metadata": {},
   "source": [
    "11. Write a program to display the last digit of a number ( entered by user ) is \n",
    "divisible by 3 or not.\n",
    "(hint : any number % 10 will return the last digit)"
   ]
  },
  {
   "cell_type": "markdown",
   "id": "1add5525",
   "metadata": {},
   "source": [
    "12. Write a program to check whether an years is leap year or not."
   ]
  },
  {
   "cell_type": "markdown",
   "id": "a8c69502",
   "metadata": {},
   "source": [
    "13. Write the logical expression for the following:\n",
    "\n",
    "A is greater than B and C is greater than D"
   ]
  },
  {
   "cell_type": "markdown",
   "id": "f275c01e",
   "metadata": {},
   "source": [
    "14. Write the output of the following if a = 9\n",
    "<pre>\n",
    "    if (a > 5 and a <=10):    \n",
    "         print(\"Hello\")    \n",
    "    else:    \n",
    "        print(\"Bye\")"
   ]
  },
  {
   "cell_type": "markdown",
   "id": "b75f6b50",
   "metadata": {},
   "source": [
    "15. In python, a block is a group of _______statement having same indentation level.***(consecutive/alternate)***"
   ]
  },
  {
   "cell_type": "markdown",
   "id": "5bf744c4",
   "metadata": {},
   "source": [
    "16. Out of “elif” and “else if”, which is the correct statement in python?"
   ]
  },
  {
   "cell_type": "markdown",
   "id": "f2857617",
   "metadata": {},
   "source": [
    "17.  A company decided to give bonus to employee according to following criteria:\n",
    "<pre>\n",
    "    Time period of Service             Bonus\n",
    "        More than 10 years             10%\n",
    "        >=6 and <=10                   8%\n",
    "        Less than 6 years              5%\n",
    "\n",
    "    Ask user for their salary and years of service and print the net bonus amount."
   ]
  },
  {
   "cell_type": "markdown",
   "id": "234eb967",
   "metadata": {},
   "source": [
    "18. Accept three sides of a triangle and check whether it is an equilateral, isosceles or scalene triangle.\n",
    "<pre>\n",
    "Note :\n",
    "An equilateral triangle is a triangle in which all three sides are equal.\n",
    "A scalene triangle is a triangle that has three unequal sides.\n",
    "An isosceles triangle is a triangle with (at least) two equal sides.\n",
    "    </pre>"
   ]
  },
  {
   "attachments": {
    "image.png": {
     "image/png": "[encoded data removed]"
    }
   },
   "cell_type": "markdown",
   "id": "e0e99b0d",
   "metadata": {},
   "source": [
    "19. ![image.png](attachment:image.png)\n",
    "\n",
    "What will the above code print if the variables i, j, and k have the following values?\n",
    "* i = 3, j = 5, k = 7\n",
    "* i = -2, j = -5, k = 9\n",
    "* i = 8, j = 15, k = 12 \n",
    "* i = 13, j = 15, k = 13"
   ]
  },
  {
   "cell_type": "markdown",
   "id": "bf6ec9f1",
   "metadata": {},
   "source": [
    "### II. Lists"
   ]
  },
  {
   "cell_type": "markdown",
   "id": "a0571f98",
   "metadata": {},
   "source": [
    "1. What is the difference between append and extend?"
   ]
  },
  {
   "cell_type": "markdown",
   "id": "8583ad13",
   "metadata": {},
   "source": [
    "2. Do python lists store values or pointers?\n",
    "\n"
   ]
  },
  {
   "cell_type": "markdown",
   "id": "0b0e88c9",
   "metadata": {},
   "source": [
    "3. What does “del” do?"
   ]
  },
  {
   "cell_type": "markdown",
   "id": "cd565272",
   "metadata": {},
   "source": [
    "4. What is the difference between “remove” and “pop”? "
   ]
  },
  {
   "cell_type": "markdown",
   "id": "abb03a4c",
   "metadata": {},
   "source": [
    "5. What is the output of this code?\n",
    "<pre>\n",
    "my_list = [1,2,3,4,5,6,7]\n",
    "del my_list[3] <font color=\"red\" style=><b># Which <u>element</u> is deleted</b></font>\n",
    "print(my_list)\n",
    "del my_list   # What it do?\n",
    "my_list\n",
    "</pre>"
   ]
  },
  {
   "cell_type": "markdown",
   "id": "4eec671f",
   "metadata": {},
   "source": [
    "6. What is the output of this code?\n",
    "<pre>\n",
    "my_list = [1,1,2,2,3,3]\n",
    "my_list.remove(2)        \n",
    "print(my_list)\n",
    "my_list.remove(12)"
   ]
  },
  {
   "cell_type": "markdown",
   "id": "8825d17f",
   "metadata": {},
   "source": [
    "7. Difference between indexing and Slicing?"
   ]
  },
  {
   "cell_type": "code",
   "execution_count": 13,
   "id": "25207cf0",
   "metadata": {},
   "outputs": [
    {
     "name": "stdout",
     "output_type": "stream",
     "text": [
      "7\n",
      "['sworna', 'vidhya', 'mahadevan', 'mansi', 'abhay', 'sai bargav']\n",
      "<class 'list'>\n",
      "sai bargav\n"
     ]
    },
    {
     "data": {
      "text/plain": [
       "str"
      ]
     },
     "execution_count": 13,
     "metadata": {},
     "output_type": "execute_result"
    }
   ],
   "source": [
    "names = ['sworna','vidhya','mahadevan','mansi','abhay','sai bargav','parmeet']\n",
    "print(len(names))\n",
    "print(names[:6])\n",
    "print(type(names[:6]))\n",
    "print(names[5])\n",
    "type(names[5])"
   ]
  },
  {
   "cell_type": "code",
   "execution_count": 15,
   "id": "eebbf879",
   "metadata": {},
   "outputs": [
    {
     "name": "stdout",
     "output_type": "stream",
     "text": [
      "5\n",
      "('sai bargav',)\n"
     ]
    },
    {
     "data": {
      "text/plain": [
       "tuple"
      ]
     },
     "execution_count": 15,
     "metadata": {},
     "output_type": "execute_result"
    }
   ],
   "source": [
    "names = [('sworna','vidhya'),('mahadevan','mansi'),('abhay',),('sai bargav',),('parmeet',)]\n",
    "print(len(names))\n",
    "# print(names[:6])\n",
    "# print(type(names[:6]))\n",
    "print(names[3])\n",
    "type(names[3])"
   ]
  },
  {
   "cell_type": "markdown",
   "id": "764db4c7",
   "metadata": {},
   "source": [
    "8. What is sorted() will do to list?"
   ]
  },
  {
   "cell_type": "markdown",
   "id": "baad8e0b",
   "metadata": {},
   "source": [
    "9. Difference between sort() and sorted() in list"
   ]
  },
  {
   "cell_type": "markdown",
   "id": "369b1abf",
   "metadata": {},
   "source": [
    "9. Difference between sort() and sorted()\n",
    "\n",
    "Sort() and sorted() are two different functions. In fact, the sort() is a list method whereas sorted() is a built-in function.\n",
    "\n",
    "Even both sort() and sorted() sorts the elements in the list, they are different.\n",
    "<pre>\n",
    "sorted() Built-In Function\n",
    "sort() Python List Method"
   ]
  },
  {
   "cell_type": "code",
   "execution_count": 28,
   "id": "fcdf32db",
   "metadata": {},
   "outputs": [
    {
     "name": "stdout",
     "output_type": "stream",
     "text": [
      "before sort: [34, 17, 56]\n",
      "[17, 34, 56]\n"
     ]
    },
    {
     "data": {
      "text/plain": [
       "[34, 17, 56]"
      ]
     },
     "execution_count": 28,
     "metadata": {},
     "output_type": "execute_result"
    }
   ],
   "source": [
    "listObj=[34,17,56]\n",
    "print(\"before sort:\",listObj)\n",
    "sortval = sorted(listObj)\n",
    "print(sortval)\n",
    "listObj"
   ]
  },
  {
   "cell_type": "code",
   "execution_count": 29,
   "id": "cbf316ca",
   "metadata": {},
   "outputs": [
    {
     "name": "stdout",
     "output_type": "stream",
     "text": [
      "before sort: [34, 17, 56]\n"
     ]
    },
    {
     "data": {
      "text/plain": [
       "[17, 34, 56]"
      ]
     },
     "execution_count": 29,
     "metadata": {},
     "output_type": "execute_result"
    }
   ],
   "source": [
    "listObj=[34,17,56]\n",
    "print(\"before sort:\",listObj)\n",
    "listObj.sort()\n",
    "listObj"
   ]
  },
  {
   "cell_type": "code",
   "execution_count": 32,
   "id": "655e54b4",
   "metadata": {
    "scrolled": true
   },
   "outputs": [
    {
     "name": "stdout",
     "output_type": "stream",
     "text": [
      "[56, 34, 17]\n"
     ]
    },
    {
     "data": {
      "text/plain": [
       "[34, 17, 56]"
      ]
     },
     "execution_count": 32,
     "metadata": {},
     "output_type": "execute_result"
    }
   ],
   "source": [
    "# 10. What is the output?\n",
    "\n",
    "listObj=[34,17,56]\n",
    "print(sorted(listObj, reverse=True))\n",
    "listObj"
   ]
  },
  {
   "cell_type": "code",
   "execution_count": 34,
   "id": "4342b708",
   "metadata": {},
   "outputs": [
    {
     "data": {
      "text/plain": [
       "[56, 34, 17]"
      ]
     },
     "execution_count": 34,
     "metadata": {},
     "output_type": "execute_result"
    }
   ],
   "source": [
    "listObj=[34,17,56]\n",
    "listObj.sort(reverse=True)\n",
    "listObj"
   ]
  },
  {
   "cell_type": "markdown",
   "id": "a74d84bc",
   "metadata": {},
   "source": [
    "11. Difference between copy and deepcopy?"
   ]
  },
  {
   "cell_type": "markdown",
   "id": "34cfcaf2",
   "metadata": {},
   "source": [
    "12. How to check whether the list is empty or not?"
   ]
  },
  {
   "cell_type": "markdown",
   "id": "13e291fd",
   "metadata": {},
   "source": [
    "13. How to find the first and last element of the list?"
   ]
  },
  {
   "cell_type": "markdown",
   "id": "e9c0354a",
   "metadata": {},
   "source": [
    "14. How to find the occurrences of an element in the python list?"
   ]
  },
  {
   "cell_type": "markdown",
   "id": "485c01e3",
   "metadata": {},
   "source": [
    "15. Create a list of two sports. Ask the\n",
    "user what their favourite sport is and\n",
    "add this to the end of the list. Sort the\n",
    "list and display it."
   ]
  },
  {
   "cell_type": "markdown",
   "id": "a6db4b24",
   "metadata": {},
   "source": [
    "16. What is the output.\n",
    "<pre>\n",
    "fruit = ['pear', 'orange', 'apple', 'grapefruit', 'apple', 'pear']\n",
    "fruit.index('apple')\n",
    "fruit.index('pear')\n"
   ]
  },
  {
   "cell_type": "markdown",
   "id": "97dad7f1",
   "metadata": {},
   "source": [
    "17. How to concatenate two lists\n",
    "<pre>\n",
    "one = ['a', 'b', 'c']\n",
    "two = [1, 2, 3]"
   ]
  },
  {
   "cell_type": "markdown",
   "id": "d947f530",
   "metadata": {},
   "source": [
    "18. Create a list of six school subjects. Ask the user which of these\n",
    "subjects they don’t like. Delete the subject they have chosen from the\n",
    "list before you display the list again."
   ]
  },
  {
   "cell_type": "markdown",
   "id": "9c355309",
   "metadata": {},
   "source": [
    "19. Enter a list of ten colours. Ask the user for a starting number between 0 and 4 and an end number between 5 and 9. Display\n",
    "the list for those colours between the start and end numbers the user input."
   ]
  },
  {
   "cell_type": "markdown",
   "id": "feae6fd3",
   "metadata": {},
   "source": [
    "20. Create a list of four three-digit\n",
    "numbers. Display the list to the\n",
    "user, showing each item from\n",
    "the list on a separate line. Ask\n",
    "the user to enter a three-digit\n",
    "number. If the number they\n",
    "have typed in matches one in\n",
    "the list, display the position of\n",
    "that number in the list with a message \"number is in Position indexPosition\",\n",
    "otherwise display the message\n",
    "“That is not in the list”."
   ]
  },
  {
   "cell_type": "markdown",
   "id": "294055c0",
   "metadata": {},
   "source": [
    "21. Ask the user to enter the names of three people they want to invite to a party and store them in a list. After they have entered all three names, ask them if they want to add another. If they give yes, allow them to add these list of names girish, bhavana, samyuktha, terecy, nidhish to the existing list and if they answer “no”, display display how many people they have invited to the party. Print the list. Now, ask them to type in one of the names on the list. Display the position of that name in the list. Ask the user if they still want that person  to come to the party. If they answer “no”, delete that entry from the list and display the list again."
   ]
  },
  {
   "cell_type": "markdown",
   "id": "2f47ad2d",
   "metadata": {},
   "source": [
    "22. What is the output\n",
    "<pre>\n",
    "colors = ['red','green','pink','violet','blue','yellow','white','purple','orange','black']\n",
    "start = input(\"Enter a starting number (0-4) : \")\n",
    "end = input(\"Enter a ending number (5-9) : \")\n",
    "colors[start:end]"
   ]
  },
  {
   "cell_type": "markdown",
   "id": "719ecc83",
   "metadata": {},
   "source": [
    "23. Create a list of four-digit numbers. Is this right? What is the output?\n",
    "\n",
    "nums = ['1234', '2345', '3456', '5678']\n",
    "print nums"
   ]
  },
  {
   "cell_type": "markdown",
   "id": "f2e1ba39",
   "metadata": {},
   "source": [
    "21/01/2022"
   ]
  },
  {
   "cell_type": "markdown",
   "id": "81ca6ec3",
   "metadata": {},
   "source": [
    "24. How to convert a given a list of weekdays into a string?"
   ]
  },
  {
   "cell_type": "markdown",
   "id": "b408b0b3",
   "metadata": {},
   "source": [
    "25. What is the difference between list and tuples in Python?"
   ]
  },
  {
   "attachments": {},
   "cell_type": "markdown",
   "id": "6fcf4357",
   "metadata": {},
   "source": [
    "26. What is slicing in Python?"
   ]
  },
  {
   "cell_type": "markdown",
   "id": "97015662",
   "metadata": {},
   "source": [
    "### Tuples\n"
   ]
  },
  {
   "cell_type": "markdown",
   "id": "ae518210",
   "metadata": {},
   "source": [
    "1. How many ways are there to create tuple? What are they?"
   ]
  },
  {
   "cell_type": "markdown",
   "id": "e56b89d9",
   "metadata": {},
   "source": [
    "2. How to Sort List Of Tuples By The First Element"
   ]
  },
  {
   "cell_type": "markdown",
   "id": "73e7d7ed",
   "metadata": {},
   "source": [
    "3. Write a program to create mixed datatype tuple in Python"
   ]
  },
  {
   "cell_type": "markdown",
   "id": "1a318e0d",
   "metadata": {},
   "source": [
    "4. What will be the output of tuple slicing program\n",
    "<pre>\n",
    "Langtuple = (1, \"C#\", 3.4,'C++',False,True)\n",
    "print( Langtuple[::5])\n",
    "print( Langtuple[::2])\n",
    "print( Langtuple[:-3])"
   ]
  },
  {
   "cell_type": "markdown",
   "id": "bd6b6937",
   "metadata": {},
   "source": [
    "5. How you find the length of tuple? Give an example."
   ]
  },
  {
   "cell_type": "markdown",
   "id": "eae9818e",
   "metadata": {},
   "source": [
    "6. Can I remove tuple items? "
   ]
  },
  {
   "cell_type": "markdown",
   "id": "7c76431a",
   "metadata": {},
   "source": [
    "7. What is the output of this code?\n",
    "\n",
    "<pre>\n",
    "thistuple = (\"apple\", \"banana\", \"cherry\")\n",
    "del thistuple\n",
    "print(thistuple)"
   ]
  },
  {
   "cell_type": "markdown",
   "id": "3b6ade3b",
   "metadata": {},
   "source": [
    "8. How you join two tuples - \n",
    "<pre>\n",
    "tuple1 = (\"a\", \"b\" , \"c\")\n",
    "tuple2 = (1, 2, 3)"
   ]
  },
  {
   "cell_type": "markdown",
   "id": "c1865902",
   "metadata": {},
   "source": [
    "9. Can I convert tuple to string? "
   ]
  },
  {
   "cell_type": "markdown",
   "id": "6d254464",
   "metadata": {},
   "source": [
    "10. How to convert tuples to list without using list()?"
   ]
  },
  {
   "cell_type": "markdown",
   "id": "00529dab",
   "metadata": {},
   "source": [
    "11. Write a program to \n",
    "* Initialize List of Tuples, display the list\n",
    "* append a tuple to the list, display the list\n",
    "* Update a Tuple in List of Tuples, display the list\n",
    "* Remove a Tuple from List of tuples, display the list\n",
    "* Print the length of final list"
   ]
  },
  {
   "cell_type": "markdown",
   "id": "69a971a0",
   "metadata": {},
   "source": [
    "12. Can I change values in tuples?"
   ]
  },
  {
   "cell_type": "code",
   "execution_count": null,
   "id": "aaae1e9a",
   "metadata": {},
   "outputs": [],
   "source": []
  }
 ],
 "metadata": {
  "kernelspec": {
   "display_name": "Python 3 (ipykernel)",
   "language": "python",
   "name": "python3"
  },
  "language_info": {
   "codemirror_mode": {
    "name": "ipython",
    "version": 3
   },
   "file_extension": ".py",
   "mimetype": "text/x-python",
   "name": "python",
   "nbconvert_exporter": "python",
   "pygments_lexer": "ipython3",
   "version": "3.9.7"
  }
 },
 "nbformat": 4,
 "nbformat_minor": 5
}
