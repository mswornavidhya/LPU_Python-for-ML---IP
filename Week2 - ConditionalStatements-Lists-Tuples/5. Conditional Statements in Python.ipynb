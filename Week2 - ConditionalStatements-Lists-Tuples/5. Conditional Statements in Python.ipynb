{
 "cells": [
  {
   "cell_type": "markdown",
   "id": "7eef81b2",
   "metadata": {},
   "source": [
    "# Python has six conditional statements that are used in decision-making\n",
    "1. If statement\n",
    "\n",
    "2. If else statement\n",
    "\n",
    "3. Nested if statement\n",
    "\n",
    "4. If…Elif ladder\n",
    "\n",
    "5. Short Hand if statement\n",
    "\n",
    "6. Short Hand if-else statement"
   ]
  },
  {
   "cell_type": "markdown",
   "id": "5a27f967",
   "metadata": {},
   "source": [
    "# 1. if statement"
   ]
  },
  {
   "cell_type": "markdown",
   "id": "15b4c2d1",
   "metadata": {},
   "source": [
    "- ### Syntax\n",
    "<b>if expression:<br>\n",
    "&emsp;&emsp;statement\n",
    "<br>  \n",
    "- If the condition is true, the statement will be executed"
   ]
  },
  {
   "cell_type": "code",
   "execution_count": 1,
   "id": "ea3e0dc4",
   "metadata": {},
   "outputs": [
    {
     "name": "stdout",
     "output_type": "stream",
     "text": [
      "5 is a positive number.\n",
      "This statement is true.\n"
     ]
    }
   ],
   "source": [
    "#Example-1\n",
    "num = 5\n",
    "if num > 0:\n",
    "    print(num, \"is a positive number.\")\n",
    "print(\"This statement is true.\")"
   ]
  },
  {
   "cell_type": "code",
   "execution_count": 2,
   "id": "31474486",
   "metadata": {},
   "outputs": [
    {
     "name": "stdout",
     "output_type": "stream",
     "text": [
      "b is greater than a\n"
     ]
    }
   ],
   "source": [
    "#Example-2\n",
    "a = 25\n",
    "b = 170\n",
    "if b > a:\n",
    "  print(\"b is greater than a\")"
   ]
  },
  {
   "cell_type": "markdown",
   "id": "06a8cd1b",
   "metadata": {},
   "source": [
    "# 2. If Else Statement\n",
    "\n",
    "This statement is used when both the true and false parts of a given condition are specified to be executed. When the condition is true, the statement inside the if block is executed; if the condition is false, the statement outside the if block is executed.\n",
    "\n",
    "### Syntax\n",
    "<b>if condition :<br>\n",
    "&emsp;              #Will executes this block if the condition is true<br>\n",
    "    else :<br>\n",
    "&emsp;              #Will executes this block if the condition is false"
   ]
  },
  {
   "cell_type": "code",
   "execution_count": 3,
   "id": "7310e740",
   "metadata": {},
   "outputs": [
    {
     "name": "stdout",
     "output_type": "stream",
     "text": [
      "Positive or Zero\n"
     ]
    }
   ],
   "source": [
    "#Example-1\n",
    "num = 5\n",
    "if num >= 0:\n",
    "    print(\"Positive or Zero\")\n",
    "else:\n",
    "     print(\"Negative number\")"
   ]
  },
  {
   "cell_type": "markdown",
   "id": "354e9d34",
   "metadata": {},
   "source": [
    "# 3. If…Elif..else Statement\n",
    "\n",
    "In this case, the If condition is evaluated first. If it is false, the Elif statement will be executed; if it also comes false, the Else statement will be executed.\n",
    "\n",
    "### Syntax\n",
    "<b>if condition :<br>\n",
    "&emsp;    Body of if<br>\n",
    "elif condition :<br>\n",
    "&emsp;    Body of elif<br>\n",
    "else: <br>\n",
    "&emsp;    Body of else"
   ]
  },
  {
   "cell_type": "code",
   "execution_count": 4,
   "id": "193d312c",
   "metadata": {},
   "outputs": [
    {
     "name": "stdout",
     "output_type": "stream",
     "text": [
      "Positive number\n"
     ]
    }
   ],
   "source": [
    "#Example\n",
    "num = 7\n",
    "if num > 0:\n",
    "    print(\"Positive number\")\n",
    "elif num == 0:\n",
    "    print(\"Zero\")\n",
    "else:\n",
    "    print(\"Negative number\")"
   ]
  },
  {
   "cell_type": "markdown",
   "id": "8a836980",
   "metadata": {},
   "source": [
    "# 4. Nested IF Statement\n",
    "\n",
    "A Nested IF statement is one in which an If statement is nestled inside another If statement. This is used when a variable must be processed more than once. If, If-else, and If…elif…else statements can be used in the program. In Nested If statements, the indentation (whitespace at the beginning) to determine the scope of each statement should take precedence.\n",
    "\n",
    "### Syntax\n",
    "<b> if (condition1):<br>\n",
    "&emsp;#Executes if condition 1 is true<br>\n",
    "if (condition 2):<br>\n",
    "  &emsp;#Executes if condition 2 is true<br>\n",
    "  &emsp;#Condition 2 ends here<br>\n",
    "Condition 1 ends here<br>"
   ]
  },
  {
   "cell_type": "code",
   "execution_count": 5,
   "id": "a2f027c1",
   "metadata": {},
   "outputs": [
    {
     "name": "stdout",
     "output_type": "stream",
     "text": [
      "Positive number\n"
     ]
    }
   ],
   "source": [
    "#Example-1\n",
    "num = 8\n",
    "if num >= 0:\n",
    "    if num == 0:\n",
    "        print(\"zero\")\n",
    "    else:\n",
    "        print(\"Positive number\")\n",
    "else:\n",
    "    print(\"Negative number\")"
   ]
  },
  {
   "cell_type": "code",
   "execution_count": 6,
   "id": "e8933563",
   "metadata": {},
   "outputs": [
    {
     "name": "stdout",
     "output_type": "stream",
     "text": [
      "The amount is between 400 and 1000\n"
     ]
    }
   ],
   "source": [
    "#Example-2\n",
    "price=50\n",
    "quantity=10\n",
    "amount = price*quantity\n",
    "if amount > 200:\n",
    "    if amount >1000:\n",
    "        print(\"The amount is greater than 1000\")\n",
    "    else:\n",
    "        if amount >= 800:\n",
    "            print(\"The amount is between 800 and 1000\")\n",
    "        elif amount >= 600:\n",
    "            print(\"The amount is between 600 and 1000\")\n",
    "        else:\n",
    "            print(\"The amount is between 400 and 1000\")\n",
    "elif amount == 200:\n",
    "    print(\"Amount is 200\")\n",
    "else:\n",
    "    print(\"Amount is less than 200\")"
   ]
  },
  {
   "cell_type": "markdown",
   "id": "81a7dece",
   "metadata": {},
   "source": [
    "# 5.Short Hand if statement\n",
    "\n",
    "Short Hand if statement is used when only one statement needs to be executed inside the if block. This statement can be mentioned in the same line which holds the If statement.\n",
    "\n",
    "### Syntax\n",
    "<b>if condition: &emsp;statement"
   ]
  },
  {
   "cell_type": "code",
   "execution_count": 7,
   "id": "3b982f75",
   "metadata": {},
   "outputs": [
    {
     "name": "stdout",
     "output_type": "stream",
     "text": [
      "i is greater than 11\n"
     ]
    }
   ],
   "source": [
    "i=15\n",
    "# One line if statement\n",
    "if i>11 : print (\"i is greater than 11\")"
   ]
  },
  {
   "cell_type": "markdown",
   "id": "67a50dba",
   "metadata": {},
   "source": [
    "# 6. Short Hand if-else statement\n",
    "\n",
    "It is used to mention If-else statements in one line in which there is only one statement to execute in both if and else blocks. In simple words, If you have only one statement to execute, one for if, and one for else, you can put it all on the same line.\n",
    "\n",
    "### Syntax\n",
    "<b>if condition:&emsp;  statement else: &emsp; statement"
   ]
  },
  {
   "cell_type": "code",
   "execution_count": 8,
   "id": "a3e801fb",
   "metadata": {},
   "outputs": [
    {
     "name": "stdout",
     "output_type": "stream",
     "text": [
      "B\n"
     ]
    }
   ],
   "source": [
    "#Example-1 with two conditions\n",
    "a = 3\n",
    "b = 5\n",
    "print(\"A\") if a > b else print(\"B\")"
   ]
  },
  {
   "cell_type": "code",
   "execution_count": 9,
   "id": "befe9260",
   "metadata": {},
   "outputs": [
    {
     "name": "stdout",
     "output_type": "stream",
     "text": [
      "B is greater\n"
     ]
    }
   ],
   "source": [
    "#Example-2 with three conditions\n",
    "a = 3\n",
    "b = 5\n",
    "print(\"A is greater\") if a > b else print(\"=\") if a == b else print(\"B is greater\")"
   ]
  },
  {
   "cell_type": "markdown",
   "id": "f39c1f34",
   "metadata": {},
   "source": [
    "**Conclusion**\n",
    "\n",
    "- The If condition is used to print the result when only one of the conditions listed is true or false.\n",
    "\n",
    "- When one of the conditions is false, the If-else condition is used to print the statement.\n",
    "\n",
    "- When there is a third possible outcome, the Elif statement is used. In a program, any number of Elif conditions can be used.\n",
    "\n",
    "- By declaring all of the conditions in a single statement, we can reduce the number of codes that must be executed.\n",
    "\n",
    "- Nested if statements can be used to nest one If condition inside another."
   ]
  },
  {
   "cell_type": "markdown",
   "id": "b0cb7089",
   "metadata": {},
   "source": [
    "# The pass Statement\n",
    "- if statements cannot be empty, but if you for some reason have an if statement with no content, put in the pass statement to avoid getting an error."
   ]
  },
  {
   "cell_type": "code",
   "execution_count": 10,
   "id": "150fd17a",
   "metadata": {},
   "outputs": [],
   "source": [
    "a = 33\n",
    "b = 200\n",
    "\n",
    "if b > a:\n",
    "    pass"
   ]
  }
 ],
 "metadata": {
  "kernelspec": {
   "display_name": "Python 3 (ipykernel)",
   "language": "python",
   "name": "python3"
  },
  "language_info": {
   "codemirror_mode": {
    "name": "ipython",
    "version": 3
   },
   "file_extension": ".py",
   "mimetype": "text/x-python",
   "name": "python",
   "nbconvert_exporter": "python",
   "pygments_lexer": "ipython3",
   "version": "3.9.7"
  }
 },
 "nbformat": 4,
 "nbformat_minor": 5
}
