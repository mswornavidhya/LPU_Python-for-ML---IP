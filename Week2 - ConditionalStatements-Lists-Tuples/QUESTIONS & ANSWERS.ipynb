{
 "cells": [
  {
   "cell_type": "markdown",
   "id": "31758697",
   "metadata": {},
   "source": [
    "<pre>\n",
    "\n",
    "PYTHON BY EXAMPLE\n",
    "Learning to Program in 150 Challenges\n",
    "\n",
    "\n",
    "PYTHON FOR BEGINNERS\n",
    "Data Analysis, Machine Learning, and Data Science Projects. \n",
    "A Crash Course in Python for Absolute Beginners\n",
    "(2022 Guide)"
   ]
  },
  {
   "cell_type": "markdown",
   "id": "2c3df5ac",
   "metadata": {},
   "source": [
    "Adds together num1 and num2 and stores the answer in a variable called answer."
   ]
  },
  {
   "cell_type": "markdown",
   "id": "abcbe1f7",
   "metadata": {},
   "source": [
    "1. Displays the question “Enter a text value: ” and stores the value the user enters in a variable called textValue. Print the received input value."
   ]
  },
  {
   "cell_type": "markdown",
   "id": "0d5c5523",
   "metadata": {},
   "source": [
    "2. What will be the type of output variable for the following scenario"
   ]
  },
  {
   "cell_type": "code",
   "execution_count": 13,
   "id": "eeb90908",
   "metadata": {},
   "outputs": [
    {
     "name": "stdout",
     "output_type": "stream",
     "text": [
      "23\n",
      "23\n",
      "<class 'str'>\n"
     ]
    }
   ],
   "source": [
    "num1, num2 = input(),  input()\n",
    "answer = num1+num2\n",
    "result = \"num 1: {},num2:{}\\nanswer:{}\"\n",
    "print(type(result.format(num1, num2, answer)))"
   ]
  },
  {
   "cell_type": "markdown",
   "id": "b13eff06",
   "metadata": {},
   "source": [
    "3. Get input of two numbers num1 and num2. Add and stores the answer in a variable called answer which must be an integer type. Print the input numbers in 1st line and the answer in the second line using one single print statement using format() method takes the passed arguments."
   ]
  },
  {
   "cell_type": "markdown",
   "id": "9960fba1",
   "metadata": {},
   "source": [
    "4. What will the following program print out:"
   ]
  },
  {
   "cell_type": "code",
   "execution_count": 14,
   "id": "2d4d3773",
   "metadata": {},
   "outputs": [
    {
     "name": "stdout",
     "output_type": "stream",
     "text": [
      "44\n"
     ]
    }
   ],
   "source": [
    "x = 43\n",
    "x = x + 1\n",
    "print(x)"
   ]
  },
  {
   "cell_type": "markdown",
   "id": "c29c019e",
   "metadata": {},
   "source": [
    "5. What is the output of the following code?"
   ]
  },
  {
   "cell_type": "code",
   "execution_count": 15,
   "id": "b7c6e748",
   "metadata": {},
   "outputs": [],
   "source": [
    "# num1,num2 = input(),  input()\n",
    "# if num1 > 2:\n",
    "#     print(\"Five is greater than two!\")"
   ]
  },
  {
   "cell_type": "markdown",
   "id": "ca3a13b8",
   "metadata": {},
   "source": [
    "6. What is the symbol used in an assignment statement?\n",
    "+ ~\n",
    "+ &\n",
    "+ =\n",
    "+ |"
   ]
  },
  {
   "cell_type": "markdown",
   "id": "97e95772",
   "metadata": {},
   "source": [
    "7. Create and assign values to the variables \"name, language, curr_semester\" in a single line."
   ]
  },
  {
   "cell_type": "code",
   "execution_count": 16,
   "id": "4bf15dab",
   "metadata": {},
   "outputs": [],
   "source": [
    "name, language, curr_semester = 'anjali', 'python', 23"
   ]
  },
  {
   "cell_type": "markdown",
   "id": "cf50186f",
   "metadata": {},
   "source": [
    "8. What is the output of the following code?"
   ]
  },
  {
   "cell_type": "code",
   "execution_count": 17,
   "id": "2b5a6bbc",
   "metadata": {},
   "outputs": [
    {
     "name": "stdout",
     "output_type": "stream",
     "text": [
      "I am python learning 23 during my anjali semester.\n"
     ]
    }
   ],
   "source": [
    "print(\"I am {2} learning {0} during my {1} semester.\".format(curr_semester, name, language))"
   ]
  },
  {
   "cell_type": "markdown",
   "id": "0c6ca720",
   "metadata": {},
   "source": [
    "9. Do the floor division by reading values from segments, segment_count."
   ]
  },
  {
   "cell_type": "code",
   "execution_count": 18,
   "id": "7077b4c6",
   "metadata": {},
   "outputs": [
    {
     "name": "stdout",
     "output_type": "stream",
     "text": [
      "8\n"
     ]
    }
   ],
   "source": [
    "segments, segment_count = 34,4\n",
    "print(segments//segment_count) # Floor division means the “//“ will always take the floor or the lower number"
   ]
  },
  {
   "cell_type": "markdown",
   "id": "056f865d",
   "metadata": {},
   "source": [
    "10. What is the output of the following?"
   ]
  },
  {
   "cell_type": "code",
   "execution_count": null,
   "id": "c1be98ee",
   "metadata": {},
   "outputs": [],
   "source": [
    "x=d=12\n",
    "(x + (d-1)) // d"
   ]
  },
  {
   "cell_type": "markdown",
   "id": "9a3cc787",
   "metadata": {},
   "source": [
    "11. What is the output of the following?"
   ]
  },
  {
   "cell_type": "code",
   "execution_count": 21,
   "id": "75933159",
   "metadata": {},
   "outputs": [
    {
     "data": {
      "text/plain": [
       "29"
      ]
     },
     "execution_count": 21,
     "metadata": {},
     "output_type": "execute_result"
    }
   ],
   "source": [
    "x,d=339, 12\n",
    "(x + (d-1)) // d"
   ]
  },
  {
   "cell_type": "markdown",
   "id": "78268aae",
   "metadata": {},
   "source": [
    "12. Customizations in a markdown cell\n",
    "\n",
    "Create a Title as \"Python for ML\", heading as \"Practical Session 1\", subheading as \"basic operations in python\". Now do a italic heading with \"Coding done by <yourname>\""
   ]
  },
  {
   "cell_type": "markdown",
   "id": "236b128b",
   "metadata": {},
   "source": [
    "<pre>\n",
    "# One shortcut to do formatting - Escape press 1. -- Title\n",
    "\n",
    "## Keep in line 2 the cursor - create a Heading\n",
    "\n",
    "### Subheading\n"
   ]
  },
  {
   "cell_type": "markdown",
   "id": "123d6da1",
   "metadata": {},
   "source": [
    "13. Output of the following"
   ]
  },
  {
   "cell_type": "code",
   "execution_count": 23,
   "id": "a5829760",
   "metadata": {},
   "outputs": [
    {
     "ename": "SyntaxError",
     "evalue": "cannot assign to literal (<ipython-input-23-8aa8b37769e1>, line 1)",
     "output_type": "error",
     "traceback": [
      "\u001b[1;36m  File \u001b[1;32m\"<ipython-input-23-8aa8b37769e1>\"\u001b[1;36m, line \u001b[1;32m1\u001b[0m\n\u001b[1;33m    x=34,d=9\u001b[0m\n\u001b[1;37m      ^\u001b[0m\n\u001b[1;31mSyntaxError\u001b[0m\u001b[1;31m:\u001b[0m cannot assign to literal\n"
     ]
    }
   ],
   "source": [
    "x=34,d=9\n",
    "((x - 1) // d) + 1"
   ]
  },
  {
   "cell_type": "markdown",
   "id": "4004424f",
   "metadata": {},
   "source": [
    "The “SyntaxError: can’t assign to literal” error occurs when you try to assign a value to a literal value such as a boolean, a string, a list, or a number. To solve this error, ensure your variable names are names rather than values."
   ]
  },
  {
   "cell_type": "code",
   "execution_count": 24,
   "id": "702a1030",
   "metadata": {},
   "outputs": [
    {
     "data": {
      "text/plain": [
       "4"
      ]
     },
     "execution_count": 24,
     "metadata": {},
     "output_type": "execute_result"
    }
   ],
   "source": [
    "x=34\n",
    "d=9\n",
    "((x - 1) // d) + 1"
   ]
  },
  {
   "cell_type": "code",
   "execution_count": 25,
   "id": "e28525c1",
   "metadata": {},
   "outputs": [
    {
     "data": {
      "text/plain": [
       "4"
      ]
     },
     "execution_count": 25,
     "metadata": {},
     "output_type": "execute_result"
    }
   ],
   "source": [
    "x=34;d=9\n",
    "((x - 1) // d) + 1"
   ]
  },
  {
   "cell_type": "markdown",
   "id": "d0a0830d",
   "metadata": {},
   "source": [
    "14. Ask the user to enter three numbers. Add together the first two numbers and then multiply this total by the third. Raise the product to power 2 and display the answer as \"The answer is <answer>\"."
   ]
  },
  {
   "cell_type": "code",
   "execution_count": 33,
   "id": "e581f2ff",
   "metadata": {},
   "outputs": [
    {
     "name": "stdout",
     "output_type": "stream",
     "text": [
      "32\n"
     ]
    }
   ],
   "source": [
    "x = 2\n",
    "y = 5\n",
    "\n",
    "print(x ** y) #same as 2*2*2*2*2"
   ]
  },
  {
   "cell_type": "markdown",
   "id": "50919955",
   "metadata": {},
   "source": [
    "15. What is the output of the following"
   ]
  },
  {
   "cell_type": "code",
   "execution_count": null,
   "id": "9eb23ca7",
   "metadata": {},
   "outputs": [],
   "source": [
    "num1=input();num2=input();num3=input()\n",
    "print(((int(num1)+int(num2)) * int(num3)**2)"
   ]
  },
  {
   "cell_type": "markdown",
   "id": "962d9158",
   "metadata": {},
   "source": [
    "16. What is the output of the following"
   ]
  },
  {
   "cell_type": "code",
   "execution_count": 32,
   "id": "f7fcdd69",
   "metadata": {},
   "outputs": [
    {
     "name": "stdout",
     "output_type": "stream",
     "text": [
      "3\n",
      "4\n",
      "2\n",
      "28\n"
     ]
    }
   ],
   "source": [
    "num1=input();num2=input();num3=input()\n",
    "print(((int(num1)+int(num2)) * int(num3)**2))"
   ]
  },
  {
   "cell_type": "markdown",
   "id": "c741fe5f",
   "metadata": {},
   "source": [
    "17. What is the output of the following"
   ]
  },
  {
   "cell_type": "code",
   "execution_count": 31,
   "id": "75c0c77f",
   "metadata": {},
   "outputs": [
    {
     "name": "stdout",
     "output_type": "stream",
     "text": [
      "3\n",
      "4\n",
      "2\n",
      "196\n"
     ]
    }
   ],
   "source": [
    "num1=input();num2=input();num3=input()\n",
    "print(((int(num1)+int(num2)) * int(num3))**2)"
   ]
  },
  {
   "cell_type": "markdown",
   "id": "267bcefa",
   "metadata": {},
   "source": [
    "18. What is the output of :"
   ]
  },
  {
   "cell_type": "code",
   "execution_count": null,
   "id": "3303db30",
   "metadata": {},
   "outputs": [],
   "source": [
    "x = 6\n",
    "y = 2\n",
    "\n",
    "# equal to\n",
    "print(x == y) # False\n",
    "\n",
    "# not equal to\n",
    "print(x != y) # True\n",
    "\n",
    "# greater than\n",
    "print(x > y) # True\n",
    "\n",
    "# less than\n",
    "print(x < y) # False\n",
    "\n",
    "# greater than or equal to\n",
    "print(x >= y) # True\n",
    "\n",
    "# less than or equal to\n",
    "print(x <= y) # False"
   ]
  },
  {
   "cell_type": "markdown",
   "id": "811e35a2",
   "metadata": {},
   "source": [
    "19. Write a program that will ask for a number of days and then will show how many hours, minutes and seconds are in that number of days."
   ]
  },
  {
   "cell_type": "code",
   "execution_count": 34,
   "id": "62833c22",
   "metadata": {},
   "outputs": [
    {
     "name": "stdout",
     "output_type": "stream",
     "text": [
      "Enter number of days :3\n",
      "In 3 days there are....\n",
      "72 hours\n",
      "4320 minutes\n",
      "259200 seconds\n"
     ]
    }
   ],
   "source": [
    "days = int(input(\"Enter number of days :\"))\n",
    "hours = 24*days\n",
    "minutes = hours*60\n",
    "seconds = minutes*60\n",
    "print(\"In\",days,\"days there are....\")\n",
    "print(hours, 'hours')\n",
    "print(minutes, 'minutes')\n",
    "print(seconds, 'seconds')"
   ]
  },
  {
   "cell_type": "markdown",
   "id": "46927c3e",
   "metadata": {},
   "source": [
    "20. What is the error in the following code?"
   ]
  },
  {
   "cell_type": "code",
   "execution_count": 37,
   "id": "6ef5db77",
   "metadata": {},
   "outputs": [
    {
     "name": "stdout",
     "output_type": "stream",
     "text": [
      "Enter larger number :35\n",
      "Enter smaller number :4\n"
     ]
    },
    {
     "ename": "TypeError",
     "evalue": "unsupported operand type(s) for //: 'str' and 'int'",
     "output_type": "error",
     "traceback": [
      "\u001b[1;31m---------------------------------------------------------------------------\u001b[0m",
      "\u001b[1;31mTypeError\u001b[0m                                 Traceback (most recent call last)",
      "\u001b[1;32m<ipython-input-37-37a2cbc0ba3f>\u001b[0m in \u001b[0;36m<module>\u001b[1;34m\u001b[0m\n\u001b[0;32m      1\u001b[0m \u001b[0mlarger\u001b[0m \u001b[1;33m=\u001b[0m \u001b[0minput\u001b[0m\u001b[1;33m(\u001b[0m\u001b[1;34m\"Enter larger number :\"\u001b[0m\u001b[1;33m)\u001b[0m\u001b[1;33m\u001b[0m\u001b[1;33m\u001b[0m\u001b[0m\n\u001b[0;32m      2\u001b[0m \u001b[0msmaller\u001b[0m \u001b[1;33m=\u001b[0m \u001b[0mint\u001b[0m\u001b[1;33m(\u001b[0m\u001b[0minput\u001b[0m\u001b[1;33m(\u001b[0m\u001b[1;34m\"Enter smaller number :\"\u001b[0m\u001b[1;33m)\u001b[0m\u001b[1;33m)\u001b[0m\u001b[1;33m\u001b[0m\u001b[1;33m\u001b[0m\u001b[0m\n\u001b[1;32m----> 3\u001b[1;33m \u001b[0mresult\u001b[0m \u001b[1;33m=\u001b[0m \u001b[0mlarger\u001b[0m\u001b[1;33m//\u001b[0m\u001b[0msmaller\u001b[0m\u001b[1;33m\u001b[0m\u001b[1;33m\u001b[0m\u001b[0m\n\u001b[0m\u001b[0;32m      4\u001b[0m \u001b[0mprint\u001b[0m\u001b[1;33m(\u001b[0m\u001b[0msmaller\u001b[0m\u001b[1;33m,\u001b[0m\u001b[1;34m'goes into '\u001b[0m\u001b[1;33m+\u001b[0m \u001b[0mlarger\u001b[0m\u001b[1;33m,\u001b[0m \u001b[0mresult\u001b[0m\u001b[1;33m,\u001b[0m\u001b[1;34m'times'\u001b[0m\u001b[1;33m)\u001b[0m\u001b[1;33m\u001b[0m\u001b[1;33m\u001b[0m\u001b[0m\n",
      "\u001b[1;31mTypeError\u001b[0m: unsupported operand type(s) for //: 'str' and 'int'"
     ]
    }
   ],
   "source": [
    "larger = input(\"Enter larger number :\")\n",
    "smaller = int(input(\"Enter smaller number :\"))\n",
    "result = larger//smaller\n",
    "print(smaller,'goes into '+ larger, result,'times')"
   ]
  },
  {
   "cell_type": "markdown",
   "id": "400b35c4",
   "metadata": {},
   "source": [
    "21. What is the error in the following code?"
   ]
  },
  {
   "cell_type": "code",
   "execution_count": 38,
   "id": "77dd7ca0",
   "metadata": {},
   "outputs": [
    {
     "name": "stdout",
     "output_type": "stream",
     "text": [
      "Enter larger number :35\n",
      "Enter smaller number :4\n"
     ]
    },
    {
     "ename": "TypeError",
     "evalue": "can only concatenate str (not \"int\") to str",
     "output_type": "error",
     "traceback": [
      "\u001b[1;31m---------------------------------------------------------------------------\u001b[0m",
      "\u001b[1;31mTypeError\u001b[0m                                 Traceback (most recent call last)",
      "\u001b[1;32m<ipython-input-38-806fdcf7db5a>\u001b[0m in \u001b[0;36m<module>\u001b[1;34m\u001b[0m\n\u001b[0;32m      2\u001b[0m \u001b[0msmaller\u001b[0m \u001b[1;33m=\u001b[0m \u001b[0mint\u001b[0m\u001b[1;33m(\u001b[0m\u001b[0minput\u001b[0m\u001b[1;33m(\u001b[0m\u001b[1;34m\"Enter smaller number :\"\u001b[0m\u001b[1;33m)\u001b[0m\u001b[1;33m)\u001b[0m\u001b[1;33m\u001b[0m\u001b[1;33m\u001b[0m\u001b[0m\n\u001b[0;32m      3\u001b[0m \u001b[0mresult\u001b[0m \u001b[1;33m=\u001b[0m \u001b[0mlarger\u001b[0m\u001b[1;33m//\u001b[0m\u001b[0msmaller\u001b[0m\u001b[1;33m\u001b[0m\u001b[1;33m\u001b[0m\u001b[0m\n\u001b[1;32m----> 4\u001b[1;33m \u001b[0mprint\u001b[0m\u001b[1;33m(\u001b[0m\u001b[0msmaller\u001b[0m\u001b[1;33m,\u001b[0m\u001b[1;34m'goes into '\u001b[0m\u001b[1;33m+\u001b[0m \u001b[0mlarger\u001b[0m\u001b[1;33m,\u001b[0m \u001b[0mresult\u001b[0m\u001b[1;33m,\u001b[0m\u001b[1;34m'times'\u001b[0m\u001b[1;33m)\u001b[0m\u001b[1;33m\u001b[0m\u001b[1;33m\u001b[0m\u001b[0m\n\u001b[0m",
      "\u001b[1;31mTypeError\u001b[0m: can only concatenate str (not \"int\") to str"
     ]
    }
   ],
   "source": [
    "larger = int(input(\"Enter larger number :\"))\n",
    "smaller = int(input(\"Enter smaller number :\"))\n",
    "result = larger//smaller\n",
    "print(smaller,'goes into '+ larger, result,'times')"
   ]
  },
  {
   "cell_type": "markdown",
   "id": "e4c65cb6",
   "metadata": {},
   "source": [
    "22. Task the user to enter a number over 100 and then enter a number under 10 and tell them how many times the smaller number goes into the larger number in a user-friendly format."
   ]
  },
  {
   "cell_type": "markdown",
   "id": "65e6ee29",
   "metadata": {},
   "source": [
    "23. Ask the user to enter their first name and surname, convert to lower case and print them. Change the case to title case and join them together. Display the finished result."
   ]
  },
  {
   "cell_type": "code",
   "execution_count": 41,
   "id": "ff3e6af1",
   "metadata": {},
   "outputs": [
    {
     "name": "stdout",
     "output_type": "stream",
     "text": [
      "enter first name: SWORNA\n",
      "enter sur name: VIdhya\n",
      "sworna vidhya\n",
      "Sworna Vidhya\n"
     ]
    }
   ],
   "source": [
    "fname = input(\"enter first name: \")\n",
    "sname = input('enter sur name: ')\n",
    "fname = fname.lower()\n",
    "sname = sname.lower()\n",
    "print(fname,sname)\n",
    "fname = fname.title()\n",
    "sname = sname.title()\n",
    "name = fname + \" \" + sname\n",
    "print(name)"
   ]
  },
  {
   "cell_type": "markdown",
   "id": "2617c6aa",
   "metadata": {},
   "source": [
    "24. Ask the user to enter the capital of their state. If the length of their capital is less than seven characters, ask them to enter their state name and join them together as capital followed by state (without a space) and display the name in upper case. "
   ]
  },
  {
   "cell_type": "code",
   "execution_count": 43,
   "id": "e5689cb5",
   "metadata": {},
   "outputs": [
    {
     "name": "stdout",
     "output_type": "stream",
     "text": [
      "bihar\n",
      "PUNJAB\n",
      "BIHARPUNJAB\n"
     ]
    }
   ],
   "source": [
    "capital = input()\n",
    "if len(capital) < 7:\n",
    "    state = input()\n",
    "    name = (capital+state).upper()\n",
    "    print(name)"
   ]
  },
  {
   "cell_type": "markdown",
   "id": "f8e2d111",
   "metadata": {},
   "source": [
    "\"\"\"25.  Write a Python program to get a string from a given string where all occurrences of its first char have been changed to '$', except the first char itself.\n",
    "Sample String : 'restart'\n",
    "Expected Result : 'resta$t'\"\"\" \n",
    "\n",
    "Having doubt -- parmeet kindly guide me."
   ]
  },
  {
   "cell_type": "code",
   "execution_count": 52,
   "id": "65f0be8f",
   "metadata": {},
   "outputs": [
    {
     "name": "stdout",
     "output_type": "stream",
     "text": [
      "Sample String : SWORNAVIDHYA\n",
      "SWORNAVIDHYA\n"
     ]
    }
   ],
   "source": [
    "# str1 = input('Sample String : ')\n",
    "# char = str1[0]\n",
    "# str1 = str1.replace(char, '$')\n",
    "# str1 = char + str1[1:]\n",
    "# print(str1)"
   ]
  },
  {
   "cell_type": "markdown",
   "id": "366bcaa1",
   "metadata": {},
   "source": [
    "<pre>\n",
    "26. Write a Python program to get a single string from two given strings, separated by a space and swap the first two characters of each string. Go to the editor\n",
    "Sample String : 'abc', 'xyz'\n",
    "Expected Result : 'xyc abz'"
   ]
  },
  {
   "cell_type": "code",
   "execution_count": 45,
   "id": "f0319b63",
   "metadata": {},
   "outputs": [
    {
     "name": "stdout",
     "output_type": "stream",
     "text": [
      "xyc abs\n"
     ]
    }
   ],
   "source": [
    "a='abc'\n",
    "b='xys'\n",
    "new_a = b[:2] + a[2:]\n",
    "new_b = a[:2] + b[2:]\n",
    "result = new_a + ' ' + new_b\n",
    "print(result)"
   ]
  },
  {
   "cell_type": "markdown",
   "id": "36750083",
   "metadata": {},
   "source": [
    "27. Write a Python program to remove the nth index character from a nonempty string."
   ]
  },
  {
   "cell_type": "code",
   "execution_count": null,
   "id": "bca6bd75",
   "metadata": {},
   "outputs": [],
   "source": [
    "string = 'Python'\n",
    "m, n, o = 0,3,5\n",
    "first_part = str[:x] \n",
    "last_part = str[x+1:]\n",
    "print('??? What is the output for each case??')"
   ]
  },
  {
   "cell_type": "markdown",
   "id": "15c90aaf",
   "metadata": {},
   "source": [
    "<pre>\n",
    "30. String operations:\n",
    "    * How would you searches the string for a specified value? \n",
    "        * Search 'python' in the string value 'Today we will learn about Python programming for Machine learning' \n",
    "        \n",
    "        txt = 'Today we will learn about Python programming for Machine learning'\n",
    "        result = txt.find('python')\n",
    "        print(\"Index of Substring 'python':\", result)\n",
    "        \n",
    "    * How would you check if each word in a string begins with a capital letter? \n",
    "        \n",
    "        print( 'The dog'.istitle() ) #=> False\n",
    "        print( 'sticky rice'.istitle() ) #=> False\n",
    "        \n",
    "    * Check  & Find the index of the first occurrence of a substring in a string\n",
    "        * Print the index of 'plane', 'car' for string 'The worlds fastest plane'\n",
    "        \n",
    "        ## Check\n",
    "        print( 'plane' in 'The worlds fastest plane' ) #=> True\n",
    "         print( 'car' in 'The worlds fastest plane' ) #=> False\n",
    "         \n",
    "        ## Find\n",
    "        'The worlds fastest plane'.find('plane') #=> 19\n",
    "        'The worlds fastest plane'.find('car') #=> -1\n",
    "        \n",
    "        ## index() will throw a ValueError.\n",
    "        'The worlds fastest plane'.index('plane') #=> 19\n",
    "        'The worlds fastest plane'.index('car') #=> ValueError: substring not found\n",
    "        \n",
    "    * Count the number of a specific character in a string\n",
    "        * Print the count of letter o in 'The first president of the organization..'\n",
    "        \n",
    "        'The first president of the organization..'.count('o') #=> 3\n",
    "        \n",
    "    * Split a string on a specific character\n",
    "        * print the split string for \"welcome to the jungle\" without any character\n",
    "            \"welcome to the jungle\".split()\n",
    "            \n",
    "        * print the split string for \"hello, my name is Peter, I am 26 years old\" split with character \", \"\n",
    "            \"hello, my name is Peter, I am 26 years old\" split with character \".split(\", \")\n",
    "        \n",
    "        \n",
    "        * print the split string for \"apple#banana#cherry#orange\" split with character \"#\" with max split setting the maxsplit parameter to 1, will return a list with 2 elements!\n",
    "            \"apple#banana#cherry#orange\".split(\"#\", 1)"
   ]
  },
  {
   "cell_type": "code",
   "execution_count": null,
   "id": "7d5ccbe5",
   "metadata": {},
   "outputs": [],
   "source": []
  }
 ],
 "metadata": {
  "kernelspec": {
   "display_name": "Python 3 (ipykernel)",
   "language": "python",
   "name": "python3"
  },
  "language_info": {
   "codemirror_mode": {
    "name": "ipython",
    "version": 3
   },
   "file_extension": ".py",
   "mimetype": "text/x-python",
   "name": "python",
   "nbconvert_exporter": "python",
   "pygments_lexer": "ipython3",
   "version": "3.9.7"
  }
 },
 "nbformat": 4,
 "nbformat_minor": 5
}
