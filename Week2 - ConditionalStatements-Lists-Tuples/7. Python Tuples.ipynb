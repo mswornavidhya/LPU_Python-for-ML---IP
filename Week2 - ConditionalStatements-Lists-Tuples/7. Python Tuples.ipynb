{
 "cells": [
  {
   "cell_type": "markdown",
   "id": "d2eef9c7",
   "metadata": {},
   "source": [
    "# Tuple\n",
    "- Tuples are used to store multiple items in a single variable.\n",
    "\n",
    "- Tuple is one of 4 built-in data types in Python used to store collections of data, the other 3 are List, Set, and Dictionary, all with different qualities and usage.\n",
    "\n",
    "- A tuple is a collection which is ordered and immutable(unchangeable).\n",
    "\n",
    "- Tuples are written with round brackets.\n",
    "\n",
    "# Properties :- \n",
    "## Tuple Items\n",
    "- Tuple items are ordered, unchangeable, and allow duplicate values.\n",
    "\n",
    "- Tuple items are indexed, the first item has index [0], the second item has index [1] etc.\n",
    "\n",
    "## Ordered\n",
    "- When we say that tuples are ordered, it means that the items have a defined order, and that order will not change.\n",
    "\n",
    "## Unchangeable\n",
    "- Tuples are unchangeable, meaning that we cannot change, add or remove items after the tuple has been created.\n",
    "\n",
    "## Allow Duplicates\n",
    "- Since tuples are indexed, they can have items with the same value"
   ]
  },
  {
   "cell_type": "markdown",
   "id": "824871ad",
   "metadata": {},
   "source": [
    "# 1. Python Tuples"
   ]
  },
  {
   "cell_type": "markdown",
   "id": "362fe6be",
   "metadata": {},
   "source": [
    "## a. Creating empty tuple"
   ]
  },
  {
   "cell_type": "code",
   "execution_count": 1,
   "id": "7815b6e5",
   "metadata": {},
   "outputs": [
    {
     "name": "stdout",
     "output_type": "stream",
     "text": [
      "()\n",
      "<class 'tuple'>\n"
     ]
    }
   ],
   "source": [
    "#Method-1\n",
    "tuple1 = ()\n",
    "print(tuple1)\n",
    "print(type(tuple1))"
   ]
  },
  {
   "cell_type": "code",
   "execution_count": 2,
   "id": "3ad72a75",
   "metadata": {},
   "outputs": [
    {
     "name": "stdout",
     "output_type": "stream",
     "text": [
      "()\n",
      "<class 'tuple'>\n"
     ]
    }
   ],
   "source": [
    "#Method-2\n",
    "tuple1 = tuple()\n",
    "print(tuple1)\n",
    "print(type(tuple1))"
   ]
  },
  {
   "cell_type": "markdown",
   "id": "a0419086",
   "metadata": {},
   "source": [
    "## b. Creating tuple with elements"
   ]
  },
  {
   "cell_type": "code",
   "execution_count": 3,
   "id": "ddc32c71",
   "metadata": {},
   "outputs": [
    {
     "name": "stdout",
     "output_type": "stream",
     "text": [
      "('apple', 'banana', 'cherry')\n"
     ]
    }
   ],
   "source": [
    "tuple1 = (\"apple\", \"banana\", \"cherry\")\n",
    "print(tuple1)"
   ]
  },
  {
   "cell_type": "markdown",
   "id": "2e05b370",
   "metadata": {},
   "source": [
    "## c. Allow Duplicates"
   ]
  },
  {
   "cell_type": "code",
   "execution_count": 4,
   "id": "f7113d9f",
   "metadata": {},
   "outputs": [
    {
     "name": "stdout",
     "output_type": "stream",
     "text": [
      "('apple', 'banana', 'cherry', 'apple', 'cherry')\n"
     ]
    }
   ],
   "source": [
    "tuple1 = (\"apple\", \"banana\", \"cherry\", \"apple\", \"cherry\")\n",
    "print(tuple1)"
   ]
  },
  {
   "cell_type": "markdown",
   "id": "7354a62f",
   "metadata": {},
   "source": [
    "## d. Tuple Length\n",
    "- To determine how many items a tuple has, use the len() function:"
   ]
  },
  {
   "cell_type": "code",
   "execution_count": 5,
   "id": "c1ccc284",
   "metadata": {},
   "outputs": [
    {
     "name": "stdout",
     "output_type": "stream",
     "text": [
      "Number of items in tuple1 is :  5\n"
     ]
    }
   ],
   "source": [
    "#Print the number of items in the tuple\n",
    "tuple1 = (\"apple\", \"banana\", \"cherry\", \"apple\", \"cherry\")\n",
    "print(\"Number of items in tuple1 is : \", len(tuple1))"
   ]
  },
  {
   "cell_type": "markdown",
   "id": "aa3e89bf",
   "metadata": {},
   "source": [
    "## e. Create Tuple With One Item\n",
    "- To create a tuple with only one item, you have to add a comma after the item, otherwise Python will not recognize it as a tuple."
   ]
  },
  {
   "cell_type": "code",
   "execution_count": 6,
   "id": "ac8b23e2",
   "metadata": {},
   "outputs": [
    {
     "name": "stdout",
     "output_type": "stream",
     "text": [
      "('apple',)\n",
      "<class 'tuple'>\n"
     ]
    }
   ],
   "source": [
    "#correct way of creating tuple wiht one element\n",
    "tuple1 = (\"apple\",) #creating with comma(,)\n",
    "print(tuple1)\n",
    "print(type(tuple1))"
   ]
  },
  {
   "cell_type": "code",
   "execution_count": 7,
   "id": "66a843fe",
   "metadata": {},
   "outputs": [
    {
     "name": "stdout",
     "output_type": "stream",
     "text": [
      "apple\n",
      "<class 'str'>\n"
     ]
    }
   ],
   "source": [
    "#Incorrect way - This will generate the string\n",
    "tuple1 = (\"apple\") #creating without comma -> it will be treated as string\n",
    "print(tuple1)\n",
    "print(type(tuple1))"
   ]
  },
  {
   "cell_type": "markdown",
   "id": "d09ab9b0",
   "metadata": {},
   "source": [
    "## f. Tuple Items - Data Types\n",
    "- Tuple items can be of any data type:"
   ]
  },
  {
   "cell_type": "code",
   "execution_count": 8,
   "id": "b2f5e764",
   "metadata": {},
   "outputs": [
    {
     "name": "stdout",
     "output_type": "stream",
     "text": [
      "('apple', 'banana', 'cherry') \n",
      " (1, 5, 7, 9, 3) \n",
      " (True, False, False) \n",
      "\n"
     ]
    }
   ],
   "source": [
    "tuple1 = (\"apple\", \"banana\", \"cherry\")\n",
    "tuple2 = (1, 5, 7, 9, 3)\n",
    "tuple3 = (True, False, False)\n",
    "print(tuple1,\"\\n\",tuple2,\"\\n\",tuple3,\"\\n\")"
   ]
  },
  {
   "cell_type": "code",
   "execution_count": 9,
   "id": "dbc7db88",
   "metadata": {},
   "outputs": [
    {
     "name": "stdout",
     "output_type": "stream",
     "text": [
      "('abc', 34, True, 40, 'male')\n"
     ]
    }
   ],
   "source": [
    "#A tuple with strings, integers and boolean values\n",
    "tuple1 = (\"abc\", 34, True, 40, \"male\")\n",
    "print(tuple1)"
   ]
  },
  {
   "cell_type": "markdown",
   "id": "a90bc4e8",
   "metadata": {},
   "source": [
    "# 2. Access Tuple Items"
   ]
  },
  {
   "cell_type": "markdown",
   "id": "f9b17515",
   "metadata": {},
   "source": [
    "## a. Access Tuple Items\n",
    "- You can access tuple items by referring to the index number, inside square brackets"
   ]
  },
  {
   "cell_type": "code",
   "execution_count": 10,
   "id": "233a7ac6",
   "metadata": {},
   "outputs": [
    {
     "name": "stdout",
     "output_type": "stream",
     "text": [
      "cherry\n"
     ]
    }
   ],
   "source": [
    "#print the third item in the tuple\n",
    "tuple1 = (\"apple\", \"banana\", \"cherry\", \"papaya\")\n",
    "print(tuple1[2])"
   ]
  },
  {
   "cell_type": "markdown",
   "id": "bb5f964f",
   "metadata": {},
   "source": [
    "## b. Negative Indexing\n",
    "- Negative indexing means start from the end."
   ]
  },
  {
   "cell_type": "code",
   "execution_count": 11,
   "id": "90c3d9cd",
   "metadata": {},
   "outputs": [
    {
     "name": "stdout",
     "output_type": "stream",
     "text": [
      "papaya\n"
     ]
    }
   ],
   "source": [
    "#print the last item in the tuple\n",
    "tuple1 = (\"apple\", \"banana\", \"cherry\", \"papaya\")\n",
    "print(tuple1[-1])"
   ]
  },
  {
   "cell_type": "markdown",
   "id": "c777eb53",
   "metadata": {},
   "source": [
    "## c. Range of Indexes\n",
    "- You can specify a range of indexes by specifying where to start and where to end the range.\n",
    "\n",
    "- When specifying a range, the return value will be a new tuple with the specified items."
   ]
  },
  {
   "cell_type": "code",
   "execution_count": 12,
   "id": "dd43c25f",
   "metadata": {},
   "outputs": [
    {
     "name": "stdout",
     "output_type": "stream",
     "text": [
      "('cherry', 'orange', 'kiwi')\n"
     ]
    }
   ],
   "source": [
    "# Return the third, fourth, and fifth item\n",
    "tuple1 = (\"apple\", \"banana\", \"cherry\", \"orange\", \"kiwi\", \"melon\", \"mango\")\n",
    "print(tuple1[2:5])"
   ]
  },
  {
   "cell_type": "code",
   "execution_count": 13,
   "id": "72028e87",
   "metadata": {},
   "outputs": [
    {
     "name": "stdout",
     "output_type": "stream",
     "text": [
      "('apple', 'banana', 'cherry', 'orange')\n"
     ]
    }
   ],
   "source": [
    "#starting default by 0th idenx\n",
    "tuple1 = (\"apple\", \"banana\", \"cherry\", \"orange\", \"kiwi\", \"melon\", \"mango\")\n",
    "print(tuple1[:4]) #4th index is not included tuple(start:stop:skip)"
   ]
  },
  {
   "cell_type": "code",
   "execution_count": 14,
   "id": "47d1f693",
   "metadata": {},
   "outputs": [
    {
     "name": "stdout",
     "output_type": "stream",
     "text": [
      "('cherry', 'orange', 'kiwi', 'melon', 'mango')\n"
     ]
    }
   ],
   "source": [
    "#starting with a certain index and going till end\n",
    "tuple1 = (\"apple\", \"banana\", \"cherry\", \"orange\", \"kiwi\", \"melon\", \"mango\")\n",
    "print(tuple1[2:])"
   ]
  },
  {
   "cell_type": "markdown",
   "id": "4f45cd04",
   "metadata": {},
   "source": [
    "## d. Range of Negative Indexes\n",
    "- Specify negative indexes if you want to start the search from the end of the tuple"
   ]
  },
  {
   "cell_type": "code",
   "execution_count": 15,
   "id": "9cef3451",
   "metadata": {},
   "outputs": [
    {
     "name": "stdout",
     "output_type": "stream",
     "text": [
      "('orange', 'kiwi', 'melon')\n"
     ]
    }
   ],
   "source": [
    "tuple1 = (\"apple\", \"banana\", \"cherry\", \"orange\", \"kiwi\", \"melon\", \"mango\")\n",
    "print(tuple1[-4:-1])"
   ]
  },
  {
   "cell_type": "markdown",
   "id": "a89a6366",
   "metadata": {},
   "source": [
    "## e. Check if Item Exists\n",
    "- To determine if a specified item is present in a tuple use the in keyword:"
   ]
  },
  {
   "cell_type": "code",
   "execution_count": 16,
   "id": "09470b74",
   "metadata": {},
   "outputs": [
    {
     "name": "stdout",
     "output_type": "stream",
     "text": [
      "Yes, 'apple' is in the fruits tuple\n"
     ]
    }
   ],
   "source": [
    "tuple1 = (\"apple\", \"banana\", \"cherry\")\n",
    "if \"apple\" in tuple1:\n",
    "    print(\"Yes, 'apple' is in the fruits tuple\")"
   ]
  },
  {
   "cell_type": "markdown",
   "id": "46f0ba8e",
   "metadata": {},
   "source": [
    "# 3. Update Tuples\n",
    "- Tuples are unchangeable, meaning that you cannot change, add, or remove items once the tuple is created."
   ]
  },
  {
   "cell_type": "markdown",
   "id": "331974cc",
   "metadata": {},
   "source": [
    "## a. Change Tuple Values\n",
    "- Once a tuple is created, you cannot change its values. Tuples are unchangeable, or immutable as it also is called.\n",
    "\n",
    "- But there is a workaround. You can convert the tuple into a list, change the list, and convert the list back into a tuple."
   ]
  },
  {
   "cell_type": "code",
   "execution_count": 17,
   "id": "8af0ed09",
   "metadata": {},
   "outputs": [
    {
     "ename": "TypeError",
     "evalue": "'tuple' object does not support item assignment",
     "output_type": "error",
     "traceback": [
      "\u001b[1;31m---------------------------------------------------------------------------\u001b[0m",
      "\u001b[1;31mTypeError\u001b[0m                                 Traceback (most recent call last)",
      "\u001b[1;32m<ipython-input-17-13338e9e814d>\u001b[0m in \u001b[0;36m<module>\u001b[1;34m\u001b[0m\n\u001b[0;32m      1\u001b[0m \u001b[0mx\u001b[0m \u001b[1;33m=\u001b[0m \u001b[1;33m(\u001b[0m\u001b[1;34m\"apple\"\u001b[0m\u001b[1;33m,\u001b[0m \u001b[1;34m\"banana\"\u001b[0m\u001b[1;33m,\u001b[0m \u001b[1;34m\"cherry\"\u001b[0m\u001b[1;33m)\u001b[0m\u001b[1;33m\u001b[0m\u001b[1;33m\u001b[0m\u001b[0m\n\u001b[0;32m      2\u001b[0m \u001b[1;33m\u001b[0m\u001b[0m\n\u001b[1;32m----> 3\u001b[1;33m \u001b[0mx\u001b[0m\u001b[1;33m[\u001b[0m\u001b[1;36m1\u001b[0m\u001b[1;33m]\u001b[0m \u001b[1;33m=\u001b[0m \u001b[1;34m\"kiwi\"\u001b[0m \u001b[1;31m#Error as tuples are immutable\u001b[0m\u001b[1;33m\u001b[0m\u001b[1;33m\u001b[0m\u001b[0m\n\u001b[0m",
      "\u001b[1;31mTypeError\u001b[0m: 'tuple' object does not support item assignment"
     ]
    }
   ],
   "source": [
    "x = (\"apple\", \"banana\", \"cherry\")\n",
    "\n",
    "x[1] = \"kiwi\" #Error as tuples are immutable"
   ]
  },
  {
   "cell_type": "code",
   "execution_count": null,
   "id": "31235e02",
   "metadata": {},
   "outputs": [],
   "source": [
    "#Convert the tuple into a list to be able to change it:\n",
    "\n",
    "x = (\"apple\", \"banana\", \"cherry\")\n",
    "print(\"Tuple : \",x)\n",
    "y = list(x)\n",
    "print(\"Tuple changed to list : \",y)\n",
    "y[1] = \"kiwi\"\n",
    "print(\"List updated with the new element : \",y)\n",
    "x = tuple(y)\n",
    "print(\"Updated List converted to tuple back :\",x)"
   ]
  },
  {
   "cell_type": "markdown",
   "id": "e09e5bfe",
   "metadata": {},
   "source": [
    "## b Add Items\n",
    "- Since tuples are immutable, they do not have a build-in append() method, but there are other ways to add items to a tuple."
   ]
  },
  {
   "cell_type": "markdown",
   "id": "a0e50864",
   "metadata": {},
   "source": [
    "### i.Convert into a list \n",
    "- Just like the workaround for changing a tuple, you can convert it into a list, add your item(s), and convert it back into a tuple"
   ]
  },
  {
   "cell_type": "code",
   "execution_count": 18,
   "id": "ea5d3b26",
   "metadata": {},
   "outputs": [
    {
     "name": "stdout",
     "output_type": "stream",
     "text": [
      "Tuple created :  ('apple', 'banana', 'cherry')\n",
      "Converted the tuple to list :  ['apple', 'banana', 'cherry']\n",
      "Appended the new element to the list :  ['apple', 'banana', 'cherry', 'orange']\n",
      "Converted List back to tuple :  ('apple', 'banana', 'cherry', 'orange')\n"
     ]
    }
   ],
   "source": [
    "#Convert the tuple into a list, add \"orange\", and convert it back into a tuple:\n",
    "\n",
    "tupl1 = (\"apple\", \"banana\", \"cherry\")\n",
    "print(\"Tuple created : \",tuple1)\n",
    "y = list(tupl1)\n",
    "print(\"Converted the tuple to list : \",y)\n",
    "y.append(\"orange\")\n",
    "print(\"Appended the new element to the list : \",y)\n",
    "tupl1 = tuple(y)\n",
    "print(\"Converted List back to tuple : \",tupl1)"
   ]
  },
  {
   "cell_type": "markdown",
   "id": "cba211a0",
   "metadata": {},
   "source": [
    "### ii.Add tuple to a tuple. \n",
    "- You are allowed to add tuples to tuples, so if you want to add one item, (or many), create a new tuple with the item(s), and add it to the existing tuple"
   ]
  },
  {
   "cell_type": "code",
   "execution_count": 19,
   "id": "7d93ee32",
   "metadata": {},
   "outputs": [
    {
     "name": "stdout",
     "output_type": "stream",
     "text": [
      "Tuple-1 :  ('apple', 'banana', 'cherry')\n",
      "Tuple-2 :  ('orange',)\n",
      "Added tuple-1 and tuple-2 :  ('apple', 'banana', 'cherry', 'orange')\n"
     ]
    }
   ],
   "source": [
    "tuple1 = (\"apple\", \"banana\", \"cherry\")\n",
    "tuple2 = (\"orange\",)\n",
    "print(\"Tuple-1 : \",tuple1)\n",
    "print(\"Tuple-2 : \",tuple2)\n",
    "tuple1 += tuple2\n",
    "print(\"Added tuple-1 and tuple-2 : \",tuple1)"
   ]
  },
  {
   "cell_type": "markdown",
   "id": "9bdfa690",
   "metadata": {},
   "source": [
    "## c. Remove Items\n",
    "- You cannot remove items in tuple"
   ]
  },
  {
   "cell_type": "code",
   "execution_count": 20,
   "id": "a906fd5d",
   "metadata": {},
   "outputs": [
    {
     "name": "stdout",
     "output_type": "stream",
     "text": [
      "Tuple Created :  <class 'tuple'>\n",
      "Tuple converted to the list :  ['apple', 'banana', 'cherry']\n",
      "Removed the element from the list :  ['banana', 'cherry']\n",
      "Converted list back to tuple :  ('banana', 'cherry')\n"
     ]
    }
   ],
   "source": [
    "#Convert the tuple into a list, remove \"apple\", and convert it back into a tuple:\n",
    "\n",
    "tuple1 = (\"apple\", \"banana\", \"cherry\")\n",
    "print(\"Tuple Created : \",tuple)\n",
    "y = list(tuple1)\n",
    "print(\"Tuple converted to the list : \",y)\n",
    "y.remove(\"apple\")\n",
    "print(\"Removed the element from the list : \",y)\n",
    "tuple1 = tuple(y)\n",
    "print(\"Converted list back to tuple : \",tuple1)"
   ]
  },
  {
   "cell_type": "markdown",
   "id": "be1934a5",
   "metadata": {},
   "source": [
    "## d. del Keyword\n",
    "- The del keyword can delete the tuple completely"
   ]
  },
  {
   "cell_type": "code",
   "execution_count": 21,
   "id": "9e513f07",
   "metadata": {},
   "outputs": [
    {
     "ename": "NameError",
     "evalue": "name 'tuple1' is not defined",
     "output_type": "error",
     "traceback": [
      "\u001b[1;31m---------------------------------------------------------------------------\u001b[0m",
      "\u001b[1;31mNameError\u001b[0m                                 Traceback (most recent call last)",
      "\u001b[1;32m<ipython-input-21-76691b6d68e8>\u001b[0m in \u001b[0;36m<module>\u001b[1;34m\u001b[0m\n\u001b[0;32m      1\u001b[0m \u001b[0mtuple1\u001b[0m \u001b[1;33m=\u001b[0m \u001b[1;33m(\u001b[0m\u001b[1;34m\"apple\"\u001b[0m\u001b[1;33m,\u001b[0m \u001b[1;34m\"banana\"\u001b[0m\u001b[1;33m,\u001b[0m \u001b[1;34m\"cherry\"\u001b[0m\u001b[1;33m)\u001b[0m\u001b[1;33m\u001b[0m\u001b[1;33m\u001b[0m\u001b[0m\n\u001b[0;32m      2\u001b[0m \u001b[1;32mdel\u001b[0m \u001b[0mtuple1\u001b[0m\u001b[1;33m\u001b[0m\u001b[1;33m\u001b[0m\u001b[0m\n\u001b[1;32m----> 3\u001b[1;33m \u001b[0mprint\u001b[0m\u001b[1;33m(\u001b[0m\u001b[0mtuple1\u001b[0m\u001b[1;33m)\u001b[0m \u001b[1;31m#this will raise an error because the tuple no longer exists\u001b[0m\u001b[1;33m\u001b[0m\u001b[1;33m\u001b[0m\u001b[0m\n\u001b[0m",
      "\u001b[1;31mNameError\u001b[0m: name 'tuple1' is not defined"
     ]
    }
   ],
   "source": [
    "tuple1 = (\"apple\", \"banana\", \"cherry\")\n",
    "del tuple1\n",
    "print(tuple1) #this will raise an error because the tuple no longer exists"
   ]
  },
  {
   "cell_type": "markdown",
   "id": "b47a2422",
   "metadata": {},
   "source": [
    "# 4. Unpack Tuples\n",
    "- When we create a tuple, we normally assign values to it. This is called \"packing\" a tuple"
   ]
  },
  {
   "cell_type": "markdown",
   "id": "41a581e6",
   "metadata": {},
   "source": [
    "## a. Unpacking a Tuple"
   ]
  },
  {
   "cell_type": "code",
   "execution_count": 22,
   "id": "87f470ce",
   "metadata": {},
   "outputs": [
    {
     "data": {
      "text/plain": [
       "('apple', 'banana', 'cherry')"
      ]
     },
     "execution_count": 22,
     "metadata": {},
     "output_type": "execute_result"
    }
   ],
   "source": [
    "#Packing a tuple\n",
    "fruits = (\"apple\", \"banana\", \"cherry\")\n",
    "fruits"
   ]
  },
  {
   "cell_type": "code",
   "execution_count": 23,
   "id": "fcc175e8",
   "metadata": {
    "scrolled": true
   },
   "outputs": [
    {
     "name": "stdout",
     "output_type": "stream",
     "text": [
      "apple\n",
      "banana\n",
      "cherry\n"
     ]
    }
   ],
   "source": [
    "#Unpacking a tuple\n",
    "fruits = (\"apple\", \"banana\", \"cherry\")\n",
    "(green, yellow, red) = fruits\n",
    "print(green)\n",
    "print(yellow)\n",
    "print(red)"
   ]
  },
  {
   "cell_type": "markdown",
   "id": "f2797ec8",
   "metadata": {},
   "source": [
    "## b. Using Asterisk*\n",
    "- If the number of variables is less than the number of values, you can add an * to the variable name and the values will be assigned to the variable as a list:"
   ]
  },
  {
   "cell_type": "code",
   "execution_count": 24,
   "id": "af9b06e9",
   "metadata": {},
   "outputs": [
    {
     "name": "stdout",
     "output_type": "stream",
     "text": [
      "apple\n",
      "banana\n",
      "['cherry', 'strawberry', 'raspberry']\n"
     ]
    }
   ],
   "source": [
    "fruits = (\"apple\", \"banana\", \"cherry\", \"strawberry\", \"raspberry\")\n",
    "\n",
    "(green, yellow, *red) = fruits\n",
    "\n",
    "print(green)\n",
    "print(yellow)\n",
    "print(red) #Assign the rest of the values as a list called \"red\""
   ]
  },
  {
   "cell_type": "markdown",
   "id": "f2673da2",
   "metadata": {},
   "source": [
    "- If the asterisk is added to another variable name than the last, Python will assign values to the variable until the number of values left matches the number of variables left."
   ]
  },
  {
   "cell_type": "code",
   "execution_count": 25,
   "id": "6ae93cc8",
   "metadata": {},
   "outputs": [
    {
     "name": "stdout",
     "output_type": "stream",
     "text": [
      "apple\n",
      "['mango', 'papaya', 'pineapple']\n",
      "cherry\n"
     ]
    }
   ],
   "source": [
    "fruits = (\"apple\", \"mango\", \"papaya\", \"pineapple\", \"cherry\")\n",
    "\n",
    "(green, *tropic, red) = fruits\n",
    "\n",
    "print(green)\n",
    "print(tropic) #Add a list of values the \"tropic\" variable\n",
    "print(red)"
   ]
  },
  {
   "cell_type": "markdown",
   "id": "b9e6c4ca",
   "metadata": {},
   "source": [
    "# 5. Join Tuples"
   ]
  },
  {
   "cell_type": "markdown",
   "id": "f0bed857",
   "metadata": {},
   "source": [
    "## a. Join Two Tuples\n",
    "- To join two or more tuples you can use the + operator:"
   ]
  },
  {
   "cell_type": "code",
   "execution_count": 26,
   "id": "e8f72192",
   "metadata": {},
   "outputs": [
    {
     "name": "stdout",
     "output_type": "stream",
     "text": [
      "('a', 'b', 'c', 1, 2, 3)\n"
     ]
    }
   ],
   "source": [
    "tuple1 = (\"a\", \"b\" , \"c\")\n",
    "tuple2 = (1, 2, 3)\n",
    "\n",
    "tuple3 = tuple1 + tuple2\n",
    "print(tuple3)"
   ]
  },
  {
   "cell_type": "markdown",
   "id": "34915ed7",
   "metadata": {},
   "source": [
    "## b. Multiply Tuples\n",
    "- If you want to multiply the content of a tuple a given number of times, you can use the * operator"
   ]
  },
  {
   "cell_type": "code",
   "execution_count": 27,
   "id": "9cea216e",
   "metadata": {},
   "outputs": [
    {
     "name": "stdout",
     "output_type": "stream",
     "text": [
      "('apple', 'banana', 'cherry', 'apple', 'banana', 'cherry')\n"
     ]
    }
   ],
   "source": [
    "fruits = (\"apple\", \"banana\", \"cherry\")\n",
    "mytuple = fruits * 2\n",
    "\n",
    "print(mytuple)"
   ]
  },
  {
   "cell_type": "markdown",
   "id": "5c4b5672",
   "metadata": {},
   "source": [
    "# 6. Tuple Methods"
   ]
  },
  {
   "cell_type": "markdown",
   "id": "66ffef21",
   "metadata": {},
   "source": [
    "# a. index()\t\n",
    "- Searches the tuple for a specified value and returns the position of where it was found"
   ]
  },
  {
   "cell_type": "code",
   "execution_count": 28,
   "id": "e7f570a5",
   "metadata": {},
   "outputs": [
    {
     "name": "stdout",
     "output_type": "stream",
     "text": [
      "3\n"
     ]
    }
   ],
   "source": [
    "tuple1 = (1, 3, 7, 8, 7, 5, 4, 6, 8, 5)\n",
    "x = tuple1.index(8) #Search for the first occurrence of the value 8, and return its position\n",
    "print(x)"
   ]
  },
  {
   "cell_type": "markdown",
   "id": "85f0fb5a",
   "metadata": {},
   "source": [
    "## b. count()\t\n",
    "- Returns the number of times a specified value occurs in a tuple"
   ]
  },
  {
   "cell_type": "code",
   "execution_count": 29,
   "id": "4354b9fa",
   "metadata": {},
   "outputs": [
    {
     "name": "stdout",
     "output_type": "stream",
     "text": [
      "2\n"
     ]
    }
   ],
   "source": [
    "tuple1 = (1, 3, 7, 8, 7, 5, 4, 6, 8, 5) \n",
    "x = tuple1.count(5) #Return the number of times the value 5 appears in the tuple\n",
    "print(x)"
   ]
  }
 ],
 "metadata": {
  "kernelspec": {
   "display_name": "Python 3",
   "language": "python",
   "name": "python3"
  },
  "language_info": {
   "codemirror_mode": {
    "name": "ipython",
    "version": 3
   },
   "file_extension": ".py",
   "mimetype": "text/x-python",
   "name": "python",
   "nbconvert_exporter": "python",
   "pygments_lexer": "ipython3",
   "version": "3.8.8"
  }
 },
 "nbformat": 4,
 "nbformat_minor": 5
}
