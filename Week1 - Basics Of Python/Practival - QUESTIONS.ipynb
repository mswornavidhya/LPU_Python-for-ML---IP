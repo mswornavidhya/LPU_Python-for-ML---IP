{
 "cells": [
  {
   "cell_type": "markdown",
   "id": "abcbe1f7",
   "metadata": {},
   "source": [
    "1. Displays the question “Enter a text value: ” and stores the value the user enters in a variable called textValue. Print the received input value."
   ]
  },
  {
   "cell_type": "markdown",
   "id": "2c3df5ac",
   "metadata": {},
   "source": [
    "2. Adds together num1 and num2 and stores the answer in a variable called answer."
   ]
  },
  {
   "cell_type": "markdown",
   "id": "0d5c5523",
   "metadata": {},
   "source": [
    "3. What will be the type of output variable for the following scenario"
   ]
  },
  {
   "cell_type": "code",
   "execution_count": null,
   "id": "eeb90908",
   "metadata": {},
   "outputs": [],
   "source": [
    "num1, num2 = input(),  input()\n",
    "answer = num1+num2\n",
    "result = \"num 1: {},num2:{}\\nanswer:{}\"\n",
    "print(type(result.format(num1, num2, answer)))"
   ]
  },
  {
   "cell_type": "markdown",
   "id": "b13eff06",
   "metadata": {},
   "source": [
    "4. Get input of two numbers num1 and num2. Add and stores the answer in a variable called answer which must be an integer type. Print the input numbers in 1st line and the answer in the second line using one single print statement using format() method takes the passed arguments."
   ]
  },
  {
   "cell_type": "markdown",
   "id": "9960fba1",
   "metadata": {},
   "source": [
    "5. What will the following program print out:"
   ]
  },
  {
   "cell_type": "code",
   "execution_count": null,
   "id": "2d4d3773",
   "metadata": {},
   "outputs": [],
   "source": [
    "x = 43\n",
    "x = x + 1\n",
    "print(x)"
   ]
  },
  {
   "cell_type": "markdown",
   "id": "c29c019e",
   "metadata": {},
   "source": [
    "6. What is the output of the following code?"
   ]
  },
  {
   "cell_type": "code",
   "execution_count": null,
   "id": "b7c6e748",
   "metadata": {},
   "outputs": [],
   "source": [
    "num1,num2 = input(),  input()\n",
    "if num1 > 2:\n",
    "    print(\"Five is greater than two!\")"
   ]
  },
  {
   "cell_type": "markdown",
   "id": "ca3a13b8",
   "metadata": {},
   "source": [
    "7. What is the symbol used in an assignment statement?\n",
    "+ ~\n",
    "+ &\n",
    "+ =\n",
    "+ |"
   ]
  },
  {
   "cell_type": "markdown",
   "id": "97e95772",
   "metadata": {},
   "source": [
    "8. Create and assign values to the variables \"name, language, curr_semester\" in a single line."
   ]
  },
  {
   "cell_type": "code",
   "execution_count": null,
   "id": "4bf15dab",
   "metadata": {},
   "outputs": [],
   "source": [
    "name, language, curr_semester = 'anjali', 'python', 23"
   ]
  },
  {
   "cell_type": "markdown",
   "id": "cf50186f",
   "metadata": {},
   "source": [
    "9. What is the output of the following code?"
   ]
  },
  {
   "cell_type": "code",
   "execution_count": null,
   "id": "2b5a6bbc",
   "metadata": {},
   "outputs": [],
   "source": [
    "print(\"I am {2} learning {0} during my {1} semester.\".format(curr_semester, name, language))"
   ]
  },
  {
   "cell_type": "markdown",
   "id": "0c6ca720",
   "metadata": {},
   "source": [
    "10. Do the floor division by reading values from segments, segment_count."
   ]
  },
  {
   "cell_type": "code",
   "execution_count": null,
   "id": "7077b4c6",
   "metadata": {},
   "outputs": [],
   "source": [
    "segments, segment_count = 34,4\n",
    "print(segments//segment_count) # Floor division means the “//“ will always take the floor or the lower number"
   ]
  },
  {
   "cell_type": "markdown",
   "id": "056f865d",
   "metadata": {},
   "source": [
    "11. What is the output of the following?"
   ]
  },
  {
   "cell_type": "code",
   "execution_count": null,
   "id": "c1be98ee",
   "metadata": {},
   "outputs": [],
   "source": [
    "x=d=12\n",
    "(x + (d-1)) // d"
   ]
  },
  {
   "cell_type": "markdown",
   "id": "9a3cc787",
   "metadata": {},
   "source": [
    "12. What is the output of the following?"
   ]
  },
  {
   "cell_type": "code",
   "execution_count": null,
   "id": "75933159",
   "metadata": {},
   "outputs": [],
   "source": [
    "x,d=339, 12\n",
    "(x + (d-1)) // d"
   ]
  },
  {
   "cell_type": "markdown",
   "id": "78268aae",
   "metadata": {},
   "source": [
    "13. Customizations in a markdown cell\n",
    "\n",
    "Create a Title as \"Python for ML\", heading as \"Practical Session 1\", subheading as \"basic operations in python\". Now do a italic heading with \"Coding done by <yourname>\""
   ]
  },
  {
   "cell_type": "markdown",
   "id": "123d6da1",
   "metadata": {},
   "source": [
    "14. Output of the following"
   ]
  },
  {
   "cell_type": "code",
   "execution_count": null,
   "id": "a5829760",
   "metadata": {},
   "outputs": [],
   "source": [
    "x=34,d=9\n",
    "((x - 1) // d) + 1"
   ]
  },
  {
   "cell_type": "markdown",
   "id": "d0a0830d",
   "metadata": {},
   "source": [
    "15. Ask the user to enter three numbers. Add together the first two numbers and then multiply this total by the third. Raise the product to power 2 and display the answer as \"The answer is <answer>\"."
   ]
  },
  {
   "cell_type": "markdown",
   "id": "50919955",
   "metadata": {},
   "source": [
    "16. What is the output of the following"
   ]
  },
  {
   "cell_type": "code",
   "execution_count": null,
   "id": "9eb23ca7",
   "metadata": {},
   "outputs": [],
   "source": [
    "num1=input();num2=input();num3=input()\n",
    "print(((int(num1)+int(num2)) * int(num3)**2)"
   ]
  },
  {
   "cell_type": "markdown",
   "id": "962d9158",
   "metadata": {},
   "source": [
    "17. What is the output of the following"
   ]
  },
  {
   "cell_type": "code",
   "execution_count": null,
   "id": "f7fcdd69",
   "metadata": {},
   "outputs": [],
   "source": [
    "num1=input();num2=input();num3=input()\n",
    "print(((int(num1)+int(num2)) * int(num3)**2))"
   ]
  },
  {
   "cell_type": "markdown",
   "id": "c741fe5f",
   "metadata": {},
   "source": [
    "18. What is the output of the following"
   ]
  },
  {
   "cell_type": "code",
   "execution_count": null,
   "id": "75c0c77f",
   "metadata": {},
   "outputs": [],
   "source": [
    "num1=input();num2=input();num3=input()\n",
    "print(((int(num1)+int(num2)) * int(num3))**2)"
   ]
  },
  {
   "cell_type": "markdown",
   "id": "267bcefa",
   "metadata": {},
   "source": [
    "19. What is the output for the following operations for the numbers 758 and 462 respectively.\n",
    " * equal to\n",
    " * not equal to\n",
    " * greater than\n",
    " * less than\n",
    " * not equal to\n",
    " * greater than\n",
    " * greater than or equal to\n",
    " * less than or equal to\n",
    " * floor division\n",
    " "
   ]
  },
  {
   "cell_type": "markdown",
   "id": "811e35a2",
   "metadata": {},
   "source": [
    "20. Write a program that will ask for a number of days and then will show how many hours, minutes and seconds are in that number of days."
   ]
  },
  {
   "cell_type": "markdown",
   "id": "46927c3e",
   "metadata": {},
   "source": [
    "21. What is the error in the following code?"
   ]
  },
  {
   "cell_type": "markdown",
   "id": "400b35c4",
   "metadata": {},
   "source": [
    "22. Is there any error in the following code? If so, what is the error?"
   ]
  },
  {
   "cell_type": "code",
   "execution_count": null,
   "id": "77dd7ca0",
   "metadata": {},
   "outputs": [],
   "source": [
    "larger = int(input(\"Enter larger number :\"))\n",
    "smaller = int(input(\"Enter smaller number :\"))\n",
    "result = larger//smaller\n",
    "print(smaller,'goes into '+ larger, result,'times')"
   ]
  },
  {
   "cell_type": "markdown",
   "id": "e4c65cb6",
   "metadata": {},
   "source": [
    "23. Task the user to enter a number over 100 and then enter a number under 10 and tell them how many times the smaller number goes into the larger number in a user-friendly format."
   ]
  },
  {
   "cell_type": "markdown",
   "id": "65e6ee29",
   "metadata": {},
   "source": [
    "24. Ask the user to enter their first name and surname, convert to lower case and print them. Change the case to title case and join them together. Display the finished result."
   ]
  },
  {
   "cell_type": "markdown",
   "id": "2617c6aa",
   "metadata": {},
   "source": [
    "25. Ask the user to enter the capital of their state. If the length of their capital is less than seven characters, ask them to enter their state name and join them together as capital followed by state (without a space) and display the name in upper case. "
   ]
  },
  {
   "cell_type": "markdown",
   "id": "366bcaa1",
   "metadata": {},
   "source": [
    "<pre>\n",
    "26. Write a Python program to get a single string from two given strings, separated by a space and swap the first two characters of each string. Go to the editor\n",
    "Sample String : 'abc', 'xyz'\n",
    "Expected Result : 'xyc abz'"
   ]
  },
  {
   "cell_type": "markdown",
   "id": "36750083",
   "metadata": {},
   "source": [
    "27. Write a Python program to remove the nth index character from a nonempty string."
   ]
  },
  {
   "cell_type": "markdown",
   "id": "f8e2d111",
   "metadata": {},
   "source": [
    "28.  What is the outfor for the following when the input string is \"Python programming for ML\""
   ]
  },
  {
   "cell_type": "code",
   "execution_count": null,
   "id": "65f0be8f",
   "metadata": {},
   "outputs": [],
   "source": [
    "str1 = input('Sample String : ')\n",
    "char = str1[0]\n",
    "str1 = str1.replace(char, '$')\n",
    "str1 = char + str1[1:]\n",
    "print(str1)"
   ]
  },
  {
   "cell_type": "markdown",
   "id": "5e4f77c3",
   "metadata": {},
   "source": [
    "<pre>\n",
    "29.  Write a Python program to get a string from a given string where all occurrences of its first char have been changed to '$', except the first char itself. \n",
    "Sample String : 'restart' \n",
    "Expected Result : 'resta$t'"
   ]
  },
  {
   "cell_type": "markdown",
   "id": "6adad539",
   "metadata": {},
   "source": [
    "30. String operations:\n",
    "    * How would you searches the string for a specified value? \n",
    "        * Search 'python' in the string value 'Today we will learn about Python programming for Machine learning' \n",
    "    * How would you check if each word in a string begins with a capital letter? \n",
    "        * Check for 'The dog' & 'sticky rice'\n",
    "    * Check  & Find the index of the first occurrence of a substring in a string\n",
    "        * Print the index of 'plane', 'car' for string 'The worlds fastest plane'\n",
    "        * What happens if you use the function index()\n",
    "    * Count the number of a specific character in a string\n",
    "        * Print the count of letter o in 'The first president of the organization..'\n",
    "    * Split a string on a specific character\n",
    "        * print the split string for \"welcome to the jungle\" without any character\n",
    "        * print the split string for \"hello, my name is Peter, I am 26 years old\" split with character \", \"\n",
    "        * print the split string for \"apple#banana#cherry#orange\" split with character \"#\" with max split setting the maxsplit parameter to 1, will return a list with 2 elements!"
   ]
  }
 ],
 "metadata": {
  "kernelspec": {
   "display_name": "Python 3",
   "language": "python",
   "name": "python3"
  },
  "language_info": {
   "codemirror_mode": {
    "name": "ipython",
    "version": 3
   },
   "file_extension": ".py",
   "mimetype": "text/x-python",
   "name": "python",
   "nbconvert_exporter": "python",
   "pygments_lexer": "ipython3",
   "version": "3.8.8"
  }
 },
 "nbformat": 4,
 "nbformat_minor": 5
}
