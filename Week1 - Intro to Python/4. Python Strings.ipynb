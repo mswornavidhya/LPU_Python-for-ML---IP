{
 "cells": [
  {
   "cell_type": "markdown",
   "id": "586fafc2",
   "metadata": {},
   "source": [
    "# Strings\n",
    "- Strings in python are surrounded by either single quotation marks, or double quotation marks.\n",
    "\n",
    "- 'hello' is the same as \"hello\".\n",
    "\n",
    "- You can display a string literal with the print() function:"
   ]
  },
  {
   "cell_type": "code",
   "execution_count": 1,
   "id": "8ea1e1db",
   "metadata": {},
   "outputs": [
    {
     "name": "stdout",
     "output_type": "stream",
     "text": [
      "Hello\n",
      "Hello\n"
     ]
    }
   ],
   "source": [
    "print(\"Hello\") #Double quotes\n",
    "print('Hello') #Single quotes"
   ]
  },
  {
   "cell_type": "markdown",
   "id": "55f3af4c",
   "metadata": {},
   "source": [
    "# Assign String to a Variable"
   ]
  },
  {
   "cell_type": "code",
   "execution_count": 2,
   "id": "ac33326a",
   "metadata": {},
   "outputs": [
    {
     "name": "stdout",
     "output_type": "stream",
     "text": [
      "Hello\n"
     ]
    }
   ],
   "source": [
    "a = \"Hello\"\n",
    "print(a)"
   ]
  },
  {
   "cell_type": "markdown",
   "id": "1cc92bcc",
   "metadata": {},
   "source": [
    "# Multiline Strings"
   ]
  },
  {
   "cell_type": "code",
   "execution_count": 3,
   "id": "82bf41fa",
   "metadata": {},
   "outputs": [
    {
     "name": "stdout",
     "output_type": "stream",
     "text": [
      "This is our first python program.\n",
      "Python is the base language for approaching towards Data Science.\n"
     ]
    }
   ],
   "source": [
    "#Triple quotes(Double)\n",
    "a = \"\"\"This is our first python program.\n",
    "Python is the base language for approaching towards Data Science.\"\"\"\n",
    "print(a)"
   ]
  },
  {
   "cell_type": "code",
   "execution_count": 4,
   "id": "9de0f59c",
   "metadata": {},
   "outputs": [
    {
     "name": "stdout",
     "output_type": "stream",
     "text": [
      "This is our first python program.\n",
      "Python is the base language for approaching towards Data Science.\n"
     ]
    }
   ],
   "source": [
    "#Triple quotes(single)\n",
    "a = '''This is our first python program.\n",
    "Python is the base language for approaching towards Data Science.'''\n",
    "print(a)"
   ]
  },
  {
   "cell_type": "code",
   "execution_count": 8,
   "id": "e44b0726",
   "metadata": {},
   "outputs": [],
   "source": [
    "a = \"Parmeet\" #It can be encapulated in single quote, double quote or triple quotes \n",
    "\n",
    "b = \"Cloud's\" #It can be encapsulated in double quotes or triple quotes\n",
    "\n",
    "c = 'Parmeet is a \"Data Scientist\" ' #It can be encapsulated in single quote or triple quotes\n",
    "\n",
    "d = '''Parmeet's Expertise is in \"Data Science\" '''"
   ]
  },
  {
   "cell_type": "code",
   "execution_count": 9,
   "id": "1fb6cb9f",
   "metadata": {},
   "outputs": [
    {
     "name": "stdout",
     "output_type": "stream",
     "text": [
      "Parmeet\n",
      "Cloud's\n",
      "Parmeet is a \"Data Scientist\" \n",
      "Parmeet's Expertise is in \"Data Science\" \n"
     ]
    }
   ],
   "source": [
    "print(a)\n",
    "print(b)\n",
    "print(c)\n",
    "print(d)"
   ]
  },
  {
   "cell_type": "markdown",
   "id": "9dde09f2",
   "metadata": {},
   "source": [
    "# Strings are Arrays\n",
    "- Like many other popular programming languages, strings in Python are arrays of bytes representing unicode characters.\n",
    "\n",
    "- However, Python does not have a character data type, a single character is simply a string with a length of 1.\n",
    "\n",
    "- Square brackets can be used to access elements of the string."
   ]
  },
  {
   "cell_type": "code",
   "execution_count": 10,
   "id": "72bad126",
   "metadata": {},
   "outputs": [
    {
     "name": "stdout",
     "output_type": "stream",
     "text": [
      "e\n"
     ]
    }
   ],
   "source": [
    "a = \"Hello, World!\"\n",
    "print(a[1]) #Get the character at position 1 (remember that the first character has the position 0)"
   ]
  },
  {
   "cell_type": "markdown",
   "id": "4e05f594",
   "metadata": {},
   "source": [
    "# String Length\n",
    "- To get the length of a string, use the len() function."
   ]
  },
  {
   "cell_type": "code",
   "execution_count": 11,
   "id": "228d172f",
   "metadata": {},
   "outputs": [
    {
     "name": "stdout",
     "output_type": "stream",
     "text": [
      "13\n"
     ]
    }
   ],
   "source": [
    "a = \"Hello, World!\"\n",
    "print(len(a))"
   ]
  },
  {
   "cell_type": "markdown",
   "id": "5d5c78e4",
   "metadata": {},
   "source": [
    "# Check String\n",
    "- To check if a certain phrase or character is present in a string, we can use the keyword in"
   ]
  },
  {
   "cell_type": "code",
   "execution_count": 12,
   "id": "418d5287",
   "metadata": {},
   "outputs": [
    {
     "name": "stdout",
     "output_type": "stream",
     "text": [
      "True\n",
      "False\n"
     ]
    }
   ],
   "source": [
    "txt = \"The best things in life are free!\"\n",
    "print(\"free\" in txt)\n",
    "print(\"Python\" in txt)"
   ]
  },
  {
   "cell_type": "markdown",
   "id": "5f24de37",
   "metadata": {},
   "source": [
    "# Check if NOT\n",
    "- To check if a certain phrase or character is NOT present in a string, we can use the keyword not in."
   ]
  },
  {
   "cell_type": "code",
   "execution_count": 14,
   "id": "00f9c9f1",
   "metadata": {},
   "outputs": [
    {
     "name": "stdout",
     "output_type": "stream",
     "text": [
      "True\n",
      "False\n"
     ]
    }
   ],
   "source": [
    "txt = \"The best things in life are free!\"\n",
    "print(\"expensive\" not in txt)\n",
    "print(\"free\" not in txt)"
   ]
  },
  {
   "cell_type": "markdown",
   "id": "97e2bff5",
   "metadata": {},
   "source": [
    "# Slicing Strings\n",
    "- You can return a range of characters by using the slice syntax.\n",
    "\n",
    "- Specify the start index and the end index, separated by a colon, to return a part of the string."
   ]
  },
  {
   "cell_type": "code",
   "execution_count": 15,
   "id": "b300a99c",
   "metadata": {},
   "outputs": [
    {
     "name": "stdout",
     "output_type": "stream",
     "text": [
      "llo\n"
     ]
    }
   ],
   "source": [
    "b = \"Hello, World!\"\n",
    "print(b[2:5])  # array/string/iterable object [start:stop:skip]"
   ]
  },
  {
   "cell_type": "markdown",
   "id": "8a157b71",
   "metadata": {},
   "source": [
    "# Slice From the Start\n",
    "- By leaving out the start index, the range will start at the first character"
   ]
  },
  {
   "cell_type": "code",
   "execution_count": 16,
   "id": "7f719bff",
   "metadata": {},
   "outputs": [
    {
     "name": "stdout",
     "output_type": "stream",
     "text": [
      "Hello\n"
     ]
    }
   ],
   "source": [
    "b = \"Hello, World!\"\n",
    "print(b[:5]) # array/string/iterable object [start:stop:skip]"
   ]
  },
  {
   "cell_type": "markdown",
   "id": "f312ad7d",
   "metadata": {},
   "source": [
    "# Slice To the End\n",
    "- By leaving out the end index, the range will go to the end"
   ]
  },
  {
   "cell_type": "code",
   "execution_count": 17,
   "id": "b06cfc09",
   "metadata": {},
   "outputs": [
    {
     "name": "stdout",
     "output_type": "stream",
     "text": [
      "llo, World!\n"
     ]
    }
   ],
   "source": [
    "b = \"Hello, World!\"\n",
    "print(b[2:]) # array/string/iterable object [start:stop:skip]"
   ]
  },
  {
   "cell_type": "code",
   "execution_count": 19,
   "id": "5e22869b",
   "metadata": {},
   "outputs": [
    {
     "name": "stdout",
     "output_type": "stream",
     "text": [
      "eoW\n"
     ]
    }
   ],
   "source": [
    "b = \"Hello, World!\"\n",
    "print(b[1:10:3])  # array/string/iterable object [start:stop:skip]"
   ]
  },
  {
   "cell_type": "markdown",
   "id": "f4ceae6f",
   "metadata": {},
   "source": [
    "# Negative Indexing\n",
    "- Use negative indexes to start the slice from the end of the string"
   ]
  },
  {
   "cell_type": "code",
   "execution_count": null,
   "id": "eac301e3",
   "metadata": {},
   "outputs": [],
   "source": [
    "b = \"Hello, World!\"\n",
    "print(b[-4]) #Extracting r from hello world"
   ]
  },
  {
   "cell_type": "markdown",
   "id": "eddc9d71",
   "metadata": {},
   "source": [
    "$H  : 0 , -12$<br>\n",
    "$E  : 1 , -11$<br>\n",
    "$L  : 2 , -10$<br>\n",
    "$L  : 3 , -9$<br>\n",
    "$O  : 4 , -8$<br>\n",
    "$'' : 5 , -7$<br>\n",
    "$W  : 6 , -6$<br>\n",
    "$O  : 7 , -5$<br>\n",
    "$R  : 8 , -4$<br>\n",
    "$L  : 9 , -3$<br>\n",
    "$D  : 10 , -2$<br>\n",
    "$!  : 11 , -1$<br>"
   ]
  },
  {
   "cell_type": "code",
   "execution_count": 25,
   "id": "8e118586",
   "metadata": {},
   "outputs": [
    {
     "name": "stdout",
     "output_type": "stream",
     "text": [
      "orl\n"
     ]
    }
   ],
   "source": [
    "print(b[-5:-2]) #Extracting orl from Hello wrold, start from -5 and stop at -2"
   ]
  },
  {
   "cell_type": "markdown",
   "id": "2fff87b0",
   "metadata": {},
   "source": [
    "# Modify Strings"
   ]
  },
  {
   "cell_type": "markdown",
   "id": "6e7e916d",
   "metadata": {},
   "source": [
    "## Upper Case\n",
    "- The upper() method returns the string in upper case"
   ]
  },
  {
   "cell_type": "code",
   "execution_count": 26,
   "id": "78f6cbd6",
   "metadata": {},
   "outputs": [
    {
     "name": "stdout",
     "output_type": "stream",
     "text": [
      "HELLO, WORLD!\n"
     ]
    }
   ],
   "source": [
    "a = \"Hello, World!\"\n",
    "print(a.upper())"
   ]
  },
  {
   "cell_type": "markdown",
   "id": "47c86302",
   "metadata": {},
   "source": [
    "## Lower Case\n",
    "- The lower() method returns the string in lower case"
   ]
  },
  {
   "cell_type": "code",
   "execution_count": 27,
   "id": "9cf12f6d",
   "metadata": {},
   "outputs": [
    {
     "name": "stdout",
     "output_type": "stream",
     "text": [
      "hello, world!\n"
     ]
    }
   ],
   "source": [
    "a = \"Hello, World!\"\n",
    "print(a.lower())"
   ]
  },
  {
   "cell_type": "markdown",
   "id": "6d0a733f",
   "metadata": {},
   "source": [
    "## Remove Whitespace\n",
    "- Whitespace is the space before and/or after the actual text, and very often you want to remove this space.\n",
    "- The strip() method removes any whitespace from the beginning or the end"
   ]
  },
  {
   "cell_type": "code",
   "execution_count": 28,
   "id": "19e494db",
   "metadata": {},
   "outputs": [
    {
     "name": "stdout",
     "output_type": "stream",
     "text": [
      "15\n",
      "Hello, World!\n",
      "13\n"
     ]
    }
   ],
   "source": [
    "a = \" Hello, World! \"\n",
    "print(len(a))  #checking the length\n",
    "print(a.strip()) # returns \"Hello, World!\"\n",
    "print(len(a.strip()))"
   ]
  },
  {
   "cell_type": "code",
   "execution_count": 29,
   "id": "89d7b698",
   "metadata": {
    "scrolled": true
   },
   "outputs": [
    {
     "name": "stdout",
     "output_type": "stream",
     "text": [
      "15\n",
      " Hello, World!\n",
      "14\n"
     ]
    }
   ],
   "source": [
    "a = \" Hello, World! \"\n",
    "print(len(a))\n",
    "print(a.rstrip()) # returns \" Hello, World!\"\n",
    "print(len(a.rstrip()))"
   ]
  },
  {
   "cell_type": "code",
   "execution_count": 30,
   "id": "992ff16d",
   "metadata": {
    "scrolled": true
   },
   "outputs": [
    {
     "name": "stdout",
     "output_type": "stream",
     "text": [
      "15\n",
      "Hello, World! \n",
      "14\n"
     ]
    }
   ],
   "source": [
    "a = \" Hello, World! \"\n",
    "print(len(a))\n",
    "print(a.lstrip()) # returns \"Hello, World!\"\n",
    "print(len(a.lstrip()))"
   ]
  },
  {
   "cell_type": "code",
   "execution_count": 31,
   "id": "94a0730a",
   "metadata": {},
   "outputs": [
    {
     "name": "stdout",
     "output_type": "stream",
     "text": [
      "13\n",
      "Hello, World\n",
      "12\n"
     ]
    }
   ],
   "source": [
    "a = \"Hello, World!\"\n",
    "print(len(a))\n",
    "print(a.rstrip('!')) # returns \"Hello, World\"\n",
    "print(len(a.rstrip('!')))"
   ]
  },
  {
   "cell_type": "markdown",
   "id": "c1b51ca4",
   "metadata": {},
   "source": [
    "## Replace String\n",
    "- The replace() method replaces a string with another string"
   ]
  },
  {
   "cell_type": "code",
   "execution_count": 34,
   "id": "780a0f6c",
   "metadata": {},
   "outputs": [
    {
     "name": "stdout",
     "output_type": "stream",
     "text": [
      "Jello, World!\n",
      "Hello, World!\n"
     ]
    }
   ],
   "source": [
    "a = \"Hello, World!\"\n",
    "print(a.replace(\"H\", \"J\"))\n",
    "print(a.replace('L',\"Z\")) #not replaced as strings are case sensitive"
   ]
  },
  {
   "cell_type": "markdown",
   "id": "c34e4b30",
   "metadata": {},
   "source": [
    "## Split String\n",
    "- The split() method returns a list where the text between the specified separator becomes the list items."
   ]
  },
  {
   "cell_type": "code",
   "execution_count": 39,
   "id": "a6363b4c",
   "metadata": {},
   "outputs": [
    {
     "name": "stdout",
     "output_type": "stream",
     "text": [
      "['Hello', ' World!']\n"
     ]
    }
   ],
   "source": [
    "a = \"Hello, World!\"\n",
    "print(a.split(\",\")) # returns ['Hello', ' World!']"
   ]
  },
  {
   "cell_type": "markdown",
   "id": "a0849a57",
   "metadata": {},
   "source": [
    "# String Concatenation\n",
    "- To concatenate, or combine, two strings you can use the + operator"
   ]
  },
  {
   "cell_type": "code",
   "execution_count": 40,
   "id": "9adaf2d6",
   "metadata": {},
   "outputs": [
    {
     "name": "stdout",
     "output_type": "stream",
     "text": [
      "HelloWorld\n"
     ]
    }
   ],
   "source": [
    "a = \"Hello\"\n",
    "b = \"World\"\n",
    "c = a + b #without space concatenation\n",
    "print(c) "
   ]
  },
  {
   "cell_type": "code",
   "execution_count": 41,
   "id": "a96ed590",
   "metadata": {},
   "outputs": [
    {
     "name": "stdout",
     "output_type": "stream",
     "text": [
      "Hello World\n"
     ]
    }
   ],
   "source": [
    "a = \"Hello\"\n",
    "b = \"World\"\n",
    "c = a + \" \" + b #with space concatenation\n",
    "print(c)"
   ]
  },
  {
   "cell_type": "markdown",
   "id": "6626b37d",
   "metadata": {},
   "source": [
    "# Format - Strings"
   ]
  },
  {
   "cell_type": "code",
   "execution_count": 42,
   "id": "fdeec102",
   "metadata": {},
   "outputs": [
    {
     "ename": "TypeError",
     "evalue": "can only concatenate str (not \"int\") to str",
     "output_type": "error",
     "traceback": [
      "\u001b[1;31m---------------------------------------------------------------------------\u001b[0m",
      "\u001b[1;31mTypeError\u001b[0m                                 Traceback (most recent call last)",
      "\u001b[1;32m<ipython-input-42-4835dc9e22f3>\u001b[0m in \u001b[0;36m<module>\u001b[1;34m\u001b[0m\n\u001b[0;32m      1\u001b[0m \u001b[0mage\u001b[0m \u001b[1;33m=\u001b[0m \u001b[1;36m36\u001b[0m \u001b[1;31m#integer\u001b[0m\u001b[1;33m\u001b[0m\u001b[1;33m\u001b[0m\u001b[0m\n\u001b[1;32m----> 2\u001b[1;33m \u001b[0mtxt\u001b[0m \u001b[1;33m=\u001b[0m \u001b[1;34m\"My name is John, I am \"\u001b[0m \u001b[1;33m+\u001b[0m \u001b[0mage\u001b[0m  \u001b[1;31m#not able to combine string and integers\u001b[0m\u001b[1;33m\u001b[0m\u001b[1;33m\u001b[0m\u001b[0m\n\u001b[0m\u001b[0;32m      3\u001b[0m \u001b[0mprint\u001b[0m\u001b[1;33m(\u001b[0m\u001b[0mtxt\u001b[0m\u001b[1;33m)\u001b[0m\u001b[1;33m\u001b[0m\u001b[1;33m\u001b[0m\u001b[0m\n",
      "\u001b[1;31mTypeError\u001b[0m: can only concatenate str (not \"int\") to str"
     ]
    }
   ],
   "source": [
    "age = 36 #integer\n",
    "txt = \"My name is John, I am \" + age  #not able to combine string and integers\n",
    "print(txt) "
   ]
  },
  {
   "cell_type": "markdown",
   "id": "a8d4330b",
   "metadata": {},
   "source": [
    "#### we can combine strings and numbers by using the format() method"
   ]
  },
  {
   "cell_type": "code",
   "execution_count": 43,
   "id": "0ff87574",
   "metadata": {},
   "outputs": [
    {
     "name": "stdout",
     "output_type": "stream",
     "text": [
      "My name is John, I am 36\n"
     ]
    }
   ],
   "source": [
    "#type casting\n",
    "txt = \"My name is John, I am \" + str(age)\n",
    "print(txt) "
   ]
  },
  {
   "cell_type": "markdown",
   "id": "5816b038",
   "metadata": {},
   "source": [
    "- The format() method takes the passed arguments, formats them, and places them in the string where the placeholders {}"
   ]
  },
  {
   "cell_type": "code",
   "execution_count": 44,
   "id": "f77c8edc",
   "metadata": {},
   "outputs": [
    {
     "name": "stdout",
     "output_type": "stream",
     "text": [
      "My name is John, and I am 36\n"
     ]
    }
   ],
   "source": [
    "age = 36\n",
    "txt = \"My name is John, and I am {}\"\n",
    "print(txt.format(age))"
   ]
  },
  {
   "cell_type": "markdown",
   "id": "d5915942",
   "metadata": {},
   "source": [
    "- The format() method takes unlimited number of arguments, and are placed into the respective placeholders"
   ]
  },
  {
   "cell_type": "code",
   "execution_count": 45,
   "id": "f6378f51",
   "metadata": {},
   "outputs": [
    {
     "name": "stdout",
     "output_type": "stream",
     "text": [
      "I want 3 pieces of item 567 for 49.95 dollars.\n"
     ]
    }
   ],
   "source": [
    "quantity = 3\n",
    "itemno = 567\n",
    "price = 49.95\n",
    "myorder = \"I want {} pieces of item {} for {} dollars.\"\n",
    "print(myorder.format(quantity, itemno, price))"
   ]
  },
  {
   "cell_type": "code",
   "execution_count": 46,
   "id": "1ad674e9",
   "metadata": {},
   "outputs": [
    {
     "name": "stdout",
     "output_type": "stream",
     "text": [
      "I want 3 pieces of item 567 for 49.95 dollars.\n"
     ]
    }
   ],
   "source": [
    "quantity = 3\n",
    "itemno = 567\n",
    "price = 49.95\n",
    "myorder = \"I want {0} pieces of item {1} for {2} dollars.\"\n",
    "print(myorder.format(quantity, itemno, price))"
   ]
  },
  {
   "cell_type": "markdown",
   "id": "ffcee232",
   "metadata": {},
   "source": [
    "- You can use index numbers {0} to be sure the arguments are placed in the correct placeholders"
   ]
  },
  {
   "cell_type": "code",
   "execution_count": 47,
   "id": "3714768e",
   "metadata": {},
   "outputs": [
    {
     "name": "stdout",
     "output_type": "stream",
     "text": [
      "I want to pay 49.95 dollars for 3 pieces of item 567.\n"
     ]
    }
   ],
   "source": [
    "quantity = 3\n",
    "itemno = 567\n",
    "price = 49.95\n",
    "myorder = \"I want to pay {2} dollars for {0} pieces of item {1}.\"\n",
    "print(myorder.format(quantity, itemno, price))"
   ]
  },
  {
   "cell_type": "markdown",
   "id": "582219ae",
   "metadata": {},
   "source": [
    "# Escape Character\n",
    "- To insert characters that are illegal in a string, use an escape character.\n",
    "\n",
    "- An escape character is a backslash \\ followed by the character you want to insert.\n",
    "\n",
    "- An example of an illegal character is a double quote inside a string that is surrounded by double quotes"
   ]
  },
  {
   "cell_type": "code",
   "execution_count": 50,
   "id": "f357ed86",
   "metadata": {},
   "outputs": [
    {
     "ename": "SyntaxError",
     "evalue": "invalid syntax (<ipython-input-50-f3279da00e23>, line 2)",
     "output_type": "error",
     "traceback": [
      "\u001b[1;36m  File \u001b[1;32m\"<ipython-input-50-f3279da00e23>\"\u001b[1;36m, line \u001b[1;32m2\u001b[0m\n\u001b[1;33m    txt = \"We are the so-called \"Vikings\" from the north.\"\u001b[0m\n\u001b[1;37m                                 ^\u001b[0m\n\u001b[1;31mSyntaxError\u001b[0m\u001b[1;31m:\u001b[0m invalid syntax\n"
     ]
    }
   ],
   "source": [
    "#You will get an error if you use double quotes inside a string that is surrounded by double quotes\n",
    "txt = \"We are the so-called \"Vikings\" from the north.\""
   ]
  },
  {
   "cell_type": "markdown",
   "id": "e60c57e2",
   "metadata": {},
   "source": [
    "- To fix this problem, use the escape character \\"
   ]
  },
  {
   "cell_type": "code",
   "execution_count": 51,
   "id": "8bb35aad",
   "metadata": {},
   "outputs": [
    {
     "name": "stdout",
     "output_type": "stream",
     "text": [
      "We are the so-called \"Vikings\" from the north.\n"
     ]
    }
   ],
   "source": [
    "txt = \"We are the so-called \\\"Vikings\\\" from the north.\"\n",
    "print(txt)"
   ]
  },
  {
   "cell_type": "code",
   "execution_count": 53,
   "id": "12538fce",
   "metadata": {},
   "outputs": [
    {
     "name": "stdout",
     "output_type": "stream",
     "text": [
      "Hi \n",
      " How are you\n"
     ]
    }
   ],
   "source": [
    "a = \"Hi\"\n",
    "b = \"How are you\"\n",
    "print(a,\"\\n\",b)"
   ]
  },
  {
   "attachments": {
    "image.png": {
     "image/png": "[encoded data removed]"
    }
   },
   "cell_type": "markdown",
   "id": "20f99caf",
   "metadata": {},
   "source": [
    "![image.png](attachment:image.png)"
   ]
  },
  {
   "cell_type": "markdown",
   "id": "cf810838",
   "metadata": {},
   "source": [
    "# String Methods"
   ]
  },
  {
   "cell_type": "markdown",
   "id": "0d23cb1f",
   "metadata": {},
   "source": [
    "## 1. capitalize()\t\n",
    "- Converts the first character to upper case"
   ]
  },
  {
   "cell_type": "code",
   "execution_count": 56,
   "id": "84fbdfcf",
   "metadata": {},
   "outputs": [
    {
     "name": "stdout",
     "output_type": "stream",
     "text": [
      "Before Capitalize : hello, World!\n",
      "After Capitalizae : Hello, world!\n"
     ]
    }
   ],
   "source": [
    "a = \"hello, World!\"\n",
    "print(\"Before Capitalize :\", a)\n",
    "print(\"After Capitalizae :\", a.capitalize())"
   ]
  },
  {
   "cell_type": "markdown",
   "id": "60e2f67b",
   "metadata": {},
   "source": [
    "## 2.casefold()\t\n",
    "- Converts string into lower case"
   ]
  },
  {
   "cell_type": "code",
   "execution_count": 57,
   "id": "3c024f94",
   "metadata": {},
   "outputs": [
    {
     "data": {
      "text/plain": [
       "'hello, world!'"
      ]
     },
     "execution_count": 57,
     "metadata": {},
     "output_type": "execute_result"
    }
   ],
   "source": [
    "a.casefold()"
   ]
  },
  {
   "cell_type": "markdown",
   "id": "41ff63da",
   "metadata": {},
   "source": [
    "## 3.center()\t\n",
    "- Returns a centered string"
   ]
  },
  {
   "cell_type": "code",
   "execution_count": 65,
   "id": "3d941501",
   "metadata": {},
   "outputs": [
    {
     "data": {
      "text/plain": [
       "'------hello, World!------'"
      ]
     },
     "execution_count": 65,
     "metadata": {},
     "output_type": "execute_result"
    }
   ],
   "source": [
    "a.center(25,'-') #total 25 is the width/length and fill missing chars with \"-\""
   ]
  },
  {
   "cell_type": "markdown",
   "id": "ac2e44bc",
   "metadata": {},
   "source": [
    "## 4.count()\t\n",
    "- Returns the number of times a specified value occurs in a string"
   ]
  },
  {
   "cell_type": "code",
   "execution_count": 66,
   "id": "43fd3eeb",
   "metadata": {},
   "outputs": [
    {
     "name": "stdout",
     "output_type": "stream",
     "text": [
      "2\n"
     ]
    }
   ],
   "source": [
    "txt = \"I love apples, apple are my favorite fruit\"\n",
    "\n",
    "x = txt.count(\"apple\")\n",
    "\n",
    "print(x)"
   ]
  },
  {
   "cell_type": "markdown",
   "id": "667c85e0",
   "metadata": {},
   "source": [
    "## 5.encode()\t\n",
    "- Returns an encoded version of the string"
   ]
  },
  {
   "cell_type": "code",
   "execution_count": 67,
   "id": "bd7b9bb4",
   "metadata": {},
   "outputs": [
    {
     "name": "stdout",
     "output_type": "stream",
     "text": [
      "b'My name is St\\xc3\\xa5le'\n"
     ]
    }
   ],
   "source": [
    "txt = \"My name is Ståle\"\n",
    "\n",
    "x = txt.encode() #utf-8 encode\n",
    "\n",
    "print(x)"
   ]
  },
  {
   "cell_type": "markdown",
   "id": "10b5727c",
   "metadata": {},
   "source": [
    "## 6. endswith()\t\n",
    "- Returns true if the string ends with the specified value"
   ]
  },
  {
   "cell_type": "code",
   "execution_count": 70,
   "id": "de8b97ab",
   "metadata": {},
   "outputs": [
    {
     "name": "stdout",
     "output_type": "stream",
     "text": [
      "hello, World!\n",
      "Ends with Exclamation mark  True\n",
      "Ends with full stop  False\n"
     ]
    }
   ],
   "source": [
    "print(a)\n",
    "print(\"Ends with Exclamation mark \", a.endswith('!'))\n",
    "print(\"Ends with full stop \", a.endswith('.'))"
   ]
  },
  {
   "cell_type": "markdown",
   "id": "e497eb89",
   "metadata": {},
   "source": [
    "## 7.expandtabs()\t\n",
    "- Sets the tab size of the string"
   ]
  },
  {
   "cell_type": "code",
   "execution_count": 75,
   "id": "91163f23",
   "metadata": {},
   "outputs": [
    {
     "name": "stdout",
     "output_type": "stream",
     "text": [
      "H   e   l   l   o\n"
     ]
    }
   ],
   "source": [
    "txt = \"H\\te\\tl\\tl\\to\"\n",
    "\n",
    "x =  txt.expandtabs(4)\n",
    "\n",
    "print(x)"
   ]
  },
  {
   "cell_type": "markdown",
   "id": "cbc81364",
   "metadata": {},
   "source": [
    "## 8.find()\t\n",
    "- Searches the string for a specified value and returns the position of where it was found"
   ]
  },
  {
   "cell_type": "code",
   "execution_count": 80,
   "id": "51fb5297",
   "metadata": {},
   "outputs": [
    {
     "name": "stdout",
     "output_type": "stream",
     "text": [
      "7\n"
     ]
    }
   ],
   "source": [
    "txt = \"Hello, welcome to my world.\"\n",
    "\n",
    "x = txt.find(\"welcome\") #returns starting index of word where it was found\n",
    "\n",
    "print(x)"
   ]
  },
  {
   "cell_type": "code",
   "execution_count": 81,
   "id": "02822391",
   "metadata": {
    "scrolled": false
   },
   "outputs": [
    {
     "name": "stdout",
     "output_type": "stream",
     "text": [
      "-1\n"
     ]
    }
   ],
   "source": [
    "x =txt.find(\"you\") #Not found returns index as -1\n",
    "print(x)"
   ]
  },
  {
   "cell_type": "markdown",
   "id": "e84530ca",
   "metadata": {},
   "source": [
    "## 9. format()\n",
    "- Formats specified values in a string"
   ]
  },
  {
   "cell_type": "code",
   "execution_count": 83,
   "id": "be3bc27f",
   "metadata": {},
   "outputs": [
    {
     "name": "stdout",
     "output_type": "stream",
     "text": [
      "For only 49.00 dollars!\n"
     ]
    }
   ],
   "source": [
    "txt = \"For only {price:.2f} dollars!\"\n",
    "print(txt.format(price = 49))"
   ]
  },
  {
   "cell_type": "markdown",
   "id": "460412b5",
   "metadata": {},
   "source": [
    "## 10. index()\n",
    "- The index() method finds the first occurrence of the specified value"
   ]
  },
  {
   "cell_type": "code",
   "execution_count": 84,
   "id": "1c93d449",
   "metadata": {},
   "outputs": [
    {
     "name": "stdout",
     "output_type": "stream",
     "text": [
      "1\n"
     ]
    }
   ],
   "source": [
    "txt = \"Hello, welcome to my world.\"\n",
    "\n",
    "x = txt.index(\"e\") #Where in the text is the first occurrence of the letter \"e\"\n",
    "\n",
    "print(x)"
   ]
  },
  {
   "cell_type": "code",
   "execution_count": 85,
   "id": "c0da4b46",
   "metadata": {},
   "outputs": [
    {
     "name": "stdout",
     "output_type": "stream",
     "text": [
      "8\n"
     ]
    }
   ],
   "source": [
    "txt = \"Hello, welcome to my world.\"\n",
    "\n",
    "x = txt.index(\"e\", 5, 10) #search between position 5 and 10\n",
    "\n",
    "print(x)"
   ]
  },
  {
   "cell_type": "code",
   "execution_count": 128,
   "id": "19e58493",
   "metadata": {
    "scrolled": true
   },
   "outputs": [
    {
     "name": "stdout",
     "output_type": "stream",
     "text": [
      "-1\n"
     ]
    },
    {
     "ename": "ValueError",
     "evalue": "substring not found",
     "output_type": "error",
     "traceback": [
      "\u001b[1;31m---------------------------------------------------------------------------\u001b[0m",
      "\u001b[1;31mValueError\u001b[0m                                Traceback (most recent call last)",
      "\u001b[1;32m<ipython-input-128-4f7eced5e34b>\u001b[0m in \u001b[0;36m<module>\u001b[1;34m\u001b[0m\n\u001b[0;32m      2\u001b[0m \u001b[1;33m\u001b[0m\u001b[0m\n\u001b[0;32m      3\u001b[0m \u001b[0mprint\u001b[0m\u001b[1;33m(\u001b[0m\u001b[0mtxt\u001b[0m\u001b[1;33m.\u001b[0m\u001b[0mfind\u001b[0m\u001b[1;33m(\u001b[0m\u001b[1;34m\"q\"\u001b[0m\u001b[1;33m)\u001b[0m\u001b[1;33m)\u001b[0m \u001b[1;31m#not found return index -1\u001b[0m\u001b[1;33m\u001b[0m\u001b[1;33m\u001b[0m\u001b[0m\n\u001b[1;32m----> 4\u001b[1;33m \u001b[0mprint\u001b[0m\u001b[1;33m(\u001b[0m\u001b[0mtxt\u001b[0m\u001b[1;33m.\u001b[0m\u001b[0mindex\u001b[0m\u001b[1;33m(\u001b[0m\u001b[1;34m\"q\"\u001b[0m\u001b[1;33m)\u001b[0m\u001b[1;33m)\u001b[0m \u001b[1;31m#it will retunr error\u001b[0m\u001b[1;33m\u001b[0m\u001b[1;33m\u001b[0m\u001b[0m\n\u001b[0m",
      "\u001b[1;31mValueError\u001b[0m: substring not found"
     ]
    }
   ],
   "source": [
    "txt = \"Hello, welcome to my world.\"\n",
    "\n",
    "print(txt.find(\"q\")) #not found return index -1\n",
    "print(txt.index(\"q\")) #it will retunr error"
   ]
  },
  {
   "cell_type": "code",
   "execution_count": 129,
   "id": "c93c58d1",
   "metadata": {},
   "outputs": [
    {
     "data": {
      "text/plain": [
       "4"
      ]
     },
     "execution_count": 129,
     "metadata": {},
     "output_type": "execute_result"
    }
   ],
   "source": [
    "txt.index('o') #returns the first index"
   ]
  },
  {
   "cell_type": "code",
   "execution_count": 130,
   "id": "87e8f463",
   "metadata": {},
   "outputs": [
    {
     "data": {
      "text/plain": [
       "22"
      ]
     },
     "execution_count": 130,
     "metadata": {},
     "output_type": "execute_result"
    }
   ],
   "source": [
    "txt.rindex('o') #returns the last occured index"
   ]
  },
  {
   "cell_type": "markdown",
   "id": "09ec86e5",
   "metadata": {},
   "source": [
    "## 11. isalnum()\n",
    "- Check if all the characters in the text are alphanumeric"
   ]
  },
  {
   "cell_type": "code",
   "execution_count": 87,
   "id": "477d6245",
   "metadata": {},
   "outputs": [
    {
     "name": "stdout",
     "output_type": "stream",
     "text": [
      "True\n"
     ]
    }
   ],
   "source": [
    "txt = \"Company12\"\n",
    "\n",
    "x = txt.isalnum()\n",
    "\n",
    "print(x)"
   ]
  },
  {
   "cell_type": "code",
   "execution_count": 94,
   "id": "6abea8dd",
   "metadata": {},
   "outputs": [
    {
     "name": "stdout",
     "output_type": "stream",
     "text": [
      "False\n"
     ]
    }
   ],
   "source": [
    "txt = \"3.0\"\n",
    "x = txt.isalnum()\n",
    "print(x)"
   ]
  },
  {
   "cell_type": "markdown",
   "id": "b7a25d4a",
   "metadata": {},
   "source": [
    "## 12. isalpha()\n",
    "- Check if all the characters in the text are letters"
   ]
  },
  {
   "cell_type": "code",
   "execution_count": 95,
   "id": "4d99d273",
   "metadata": {},
   "outputs": [
    {
     "name": "stdout",
     "output_type": "stream",
     "text": [
      "True\n"
     ]
    }
   ],
   "source": [
    "txt = \"CompanyX\"\n",
    "\n",
    "x = txt.isalpha()\n",
    "\n",
    "print(x)"
   ]
  },
  {
   "cell_type": "code",
   "execution_count": 96,
   "id": "e942530f",
   "metadata": {},
   "outputs": [
    {
     "name": "stdout",
     "output_type": "stream",
     "text": [
      "False\n"
     ]
    }
   ],
   "source": [
    "txt = \"12\"\n",
    "x = txt.isalpha()\n",
    "print(x)"
   ]
  },
  {
   "cell_type": "markdown",
   "id": "a65c0d60",
   "metadata": {},
   "source": [
    "## 13. isdecimal()\t\n",
    "- Returns True if all characters in the string are decimals"
   ]
  },
  {
   "cell_type": "code",
   "execution_count": 99,
   "id": "bf2ddf03",
   "metadata": {},
   "outputs": [
    {
     "data": {
      "text/plain": [
       "True"
      ]
     },
     "execution_count": 99,
     "metadata": {},
     "output_type": "execute_result"
    }
   ],
   "source": [
    "a = \"0\"\n",
    "a.isdecimal()"
   ]
  },
  {
   "cell_type": "code",
   "execution_count": 100,
   "id": "8da7fdad",
   "metadata": {},
   "outputs": [
    {
     "data": {
      "text/plain": [
       "False"
      ]
     },
     "execution_count": 100,
     "metadata": {},
     "output_type": "execute_result"
    }
   ],
   "source": [
    "a =\"G\"\n",
    "a.isdecimal()"
   ]
  },
  {
   "cell_type": "code",
   "execution_count": 103,
   "id": "92aee7d8",
   "metadata": {},
   "outputs": [
    {
     "data": {
      "text/plain": [
       "False"
      ]
     },
     "execution_count": 103,
     "metadata": {},
     "output_type": "execute_result"
    }
   ],
   "source": [
    "a =\"12.5\"\n",
    "a.isdecimal()"
   ]
  },
  {
   "cell_type": "markdown",
   "id": "7766fcce",
   "metadata": {},
   "source": [
    "## 14. isdigit()\t\n",
    "Returns True if all characters in the string are digits"
   ]
  },
  {
   "cell_type": "code",
   "execution_count": 104,
   "id": "717d2057",
   "metadata": {},
   "outputs": [
    {
     "name": "stdout",
     "output_type": "stream",
     "text": [
      "True\n"
     ]
    }
   ],
   "source": [
    "txt = \"50800\"\n",
    "x = txt.isdigit()\n",
    "print(x)"
   ]
  },
  {
   "cell_type": "code",
   "execution_count": 105,
   "id": "8ccfcd3c",
   "metadata": {},
   "outputs": [
    {
     "name": "stdout",
     "output_type": "stream",
     "text": [
      "False\n"
     ]
    }
   ],
   "source": [
    "txt = \"Parmeet\"\n",
    "x = txt.isdigit()\n",
    "print(x)"
   ]
  },
  {
   "cell_type": "code",
   "execution_count": 106,
   "id": "819d6078",
   "metadata": {},
   "outputs": [
    {
     "name": "stdout",
     "output_type": "stream",
     "text": [
      "False\n"
     ]
    }
   ],
   "source": [
    "txt = \"12.9\"\n",
    "x = txt.isdigit()\n",
    "print(x)"
   ]
  },
  {
   "cell_type": "markdown",
   "id": "a2ed29c0",
   "metadata": {},
   "source": [
    "## 15. isidentifier()\t\n",
    "- Returns True if the string is an identifier"
   ]
  },
  {
   "cell_type": "code",
   "execution_count": 108,
   "id": "0577a4ce",
   "metadata": {},
   "outputs": [
    {
     "name": "stdout",
     "output_type": "stream",
     "text": [
      "True\n",
      "True\n",
      "False\n",
      "False\n"
     ]
    }
   ],
   "source": [
    "a = \"MyFolder\"\n",
    "b = \"Demo002\"\n",
    "c = \"2bring\"\n",
    "d = \"my demo\"\n",
    "\n",
    "print(a.isidentifier())\n",
    "print(b.isidentifier())\n",
    "print(c.isidentifier())\n",
    "print(d.isidentifier())"
   ]
  },
  {
   "cell_type": "markdown",
   "id": "f47e626d",
   "metadata": {},
   "source": [
    "## 16. isprintable()\t\n",
    "- Returns True if all characters in the string are printable"
   ]
  },
  {
   "cell_type": "code",
   "execution_count": 109,
   "id": "f5ed814b",
   "metadata": {},
   "outputs": [
    {
     "name": "stdout",
     "output_type": "stream",
     "text": [
      "True\n"
     ]
    }
   ],
   "source": [
    "txt = \"Hello! Are you #1?\"\n",
    "x = txt.isprintable()\n",
    "print(x)"
   ]
  },
  {
   "cell_type": "code",
   "execution_count": 111,
   "id": "2ae29631",
   "metadata": {},
   "outputs": [
    {
     "name": "stdout",
     "output_type": "stream",
     "text": [
      "False\n"
     ]
    }
   ],
   "source": [
    "txt = \"Hello!\\nAre you #1?\" #\\n is not printable as it is escape character\n",
    "x = txt.isprintable()\n",
    "print(x)"
   ]
  },
  {
   "cell_type": "markdown",
   "id": "faaa1b12",
   "metadata": {},
   "source": [
    "## 17.istitle()\t\n",
    "- Returns True if the string follows the rules of a title"
   ]
  },
  {
   "cell_type": "code",
   "execution_count": 112,
   "id": "11df189a",
   "metadata": {},
   "outputs": [
    {
     "data": {
      "text/plain": [
       "'Hi How Are You?'"
      ]
     },
     "execution_count": 112,
     "metadata": {},
     "output_type": "execute_result"
    }
   ],
   "source": [
    "a = 'hI How are you?'\n",
    "a.title()"
   ]
  },
  {
   "cell_type": "markdown",
   "id": "35c23e6a",
   "metadata": {},
   "source": [
    "## 18.join()\t\n",
    "- Joins the elements of an iterable to the end of the string"
   ]
  },
  {
   "cell_type": "code",
   "execution_count": 113,
   "id": "0662ca4d",
   "metadata": {},
   "outputs": [
    {
     "data": {
      "text/plain": [
       "'Parmeet Singh Dang'"
      ]
     },
     "execution_count": 113,
     "metadata": {},
     "output_type": "execute_result"
    }
   ],
   "source": [
    "a = ['Parmeet','Singh','Dang']\n",
    "' '.join(a)"
   ]
  },
  {
   "cell_type": "code",
   "execution_count": 115,
   "id": "7b54a71f",
   "metadata": {},
   "outputs": [
    {
     "data": {
      "text/plain": [
       "'Parmeet%Singh%Dang'"
      ]
     },
     "execution_count": 115,
     "metadata": {},
     "output_type": "execute_result"
    }
   ],
   "source": [
    "'%'.join(a)"
   ]
  },
  {
   "cell_type": "markdown",
   "id": "0249a402",
   "metadata": {},
   "source": [
    "## 19.ljust()\t\n",
    "- Returns a left justified version of the string"
   ]
  },
  {
   "cell_type": "code",
   "execution_count": 116,
   "id": "2a781b5b",
   "metadata": {},
   "outputs": [
    {
     "name": "stdout",
     "output_type": "stream",
     "text": [
      "banana               is my favorite fruit.\n"
     ]
    }
   ],
   "source": [
    "txt = \"banana\"\n",
    "x = txt.ljust(20) #Return a 20 characters long, left justified version of the word \"banana\"\n",
    "print(x, \"is my favorite fruit.\")"
   ]
  },
  {
   "cell_type": "code",
   "execution_count": 118,
   "id": "60de04f6",
   "metadata": {},
   "outputs": [
    {
     "name": "stdout",
     "output_type": "stream",
     "text": [
      "banana--------------\n"
     ]
    }
   ],
   "source": [
    "txt = \"banana\"\n",
    "x = txt.ljust(20, \"-\") #Using the letter \"O\" as the padding character\n",
    "print(x)"
   ]
  },
  {
   "cell_type": "markdown",
   "id": "f9bd9c1b",
   "metadata": {},
   "source": [
    "## 20.rjust()\t\n",
    "- Returns a right justified version of the string"
   ]
  },
  {
   "cell_type": "code",
   "execution_count": 119,
   "id": "17b7535a",
   "metadata": {},
   "outputs": [
    {
     "name": "stdout",
     "output_type": "stream",
     "text": [
      "              banana is my favorite fruit.\n"
     ]
    }
   ],
   "source": [
    "txt = \"banana\"\n",
    "x = txt.rjust(20) #Return a 20 characters long, right justified version of the word \"banana\"\n",
    "print(x, \"is my favorite fruit.\")"
   ]
  },
  {
   "cell_type": "code",
   "execution_count": 120,
   "id": "54273e96",
   "metadata": {},
   "outputs": [
    {
     "name": "stdout",
     "output_type": "stream",
     "text": [
      "--------------banana\n"
     ]
    }
   ],
   "source": [
    "txt = \"banana\"\n",
    "x = txt.rjust(20, \"-\") #Using the letter \"O\" as the padding character\n",
    "print(x)"
   ]
  },
  {
   "cell_type": "markdown",
   "id": "2fcfe480",
   "metadata": {},
   "source": [
    "## 21. maketrans()\t\n",
    "- Returns a translation table to be used in translations"
   ]
  },
  {
   "cell_type": "code",
   "execution_count": 121,
   "id": "c062251a",
   "metadata": {},
   "outputs": [
    {
     "name": "stdout",
     "output_type": "stream",
     "text": [
      "Hello Pam!\n"
     ]
    }
   ],
   "source": [
    "txt = \"Hello Sam!\"\n",
    "mytable = txt.maketrans(\"S\", \"P\") #replace any \"S\" characters with a \"P\" character\n",
    "print(txt.translate(mytable))"
   ]
  },
  {
   "cell_type": "code",
   "execution_count": 122,
   "id": "a5a2dc0c",
   "metadata": {},
   "outputs": [
    {
     "name": "stdout",
     "output_type": "stream",
     "text": [
      "Hi Joe!\n"
     ]
    }
   ],
   "source": [
    "txt = \"Hi Sam!\"\n",
    "x = \"mSa\"\n",
    "y = \"eJo\"\n",
    "mytable = txt.maketrans(x, y)\n",
    "print(txt.translate(mytable))"
   ]
  },
  {
   "cell_type": "markdown",
   "id": "3767bae8",
   "metadata": {},
   "source": [
    "# 22. partition()\t\n",
    "- Returns a tuple where the string is parted into three parts\n",
    "    - everything before the \"match\"\n",
    "    - the \"match\"\n",
    "    - everything after the \"match\""
   ]
  },
  {
   "cell_type": "code",
   "execution_count": 123,
   "id": "bd893542",
   "metadata": {},
   "outputs": [
    {
     "name": "stdout",
     "output_type": "stream",
     "text": [
      "('I could eat ', 'bananas', ' all day')\n"
     ]
    }
   ],
   "source": [
    "txt = \"I could eat bananas all day\"\n",
    "x = txt.partition(\"bananas\")\n",
    "print(x)"
   ]
  },
  {
   "cell_type": "markdown",
   "id": "3962e3ea",
   "metadata": {},
   "source": [
    "## 23. rsplit()\t\n",
    "- Splits the string at the specified separator, and returns a list"
   ]
  },
  {
   "cell_type": "code",
   "execution_count": 131,
   "id": "0d4175d2",
   "metadata": {},
   "outputs": [
    {
     "name": "stdout",
     "output_type": "stream",
     "text": [
      "['apple', 'banana', 'cherry']\n"
     ]
    }
   ],
   "source": [
    "txt = \"apple, banana, cherry\"\n",
    "x = txt.rsplit(\", \")\n",
    "print(x)"
   ]
  },
  {
   "cell_type": "code",
   "execution_count": 133,
   "id": "55ac3f89",
   "metadata": {},
   "outputs": [
    {
     "name": "stdout",
     "output_type": "stream",
     "text": [
      "['apple, banana', 'cherry']\n"
     ]
    }
   ],
   "source": [
    "txt = \"apple, banana, cherry\"\n",
    "\n",
    "# setting the maxsplit parameter to 1, will return a list with 2 elements!\n",
    "x = txt.rsplit(\", \", 1)\n",
    "\n",
    "print(x)"
   ]
  },
  {
   "cell_type": "markdown",
   "id": "6230b3bb",
   "metadata": {},
   "source": [
    "## 24. split()\t\n",
    "Splits the string at the specified separator, and returns a list"
   ]
  },
  {
   "cell_type": "code",
   "execution_count": 134,
   "id": "7d361463",
   "metadata": {},
   "outputs": [
    {
     "name": "stdout",
     "output_type": "stream",
     "text": [
      "['welcome', 'to', 'the', 'jungle']\n"
     ]
    }
   ],
   "source": [
    "txt = \"welcome to the jungle\"\n",
    "x = txt.split()\n",
    "print(x)"
   ]
  },
  {
   "cell_type": "markdown",
   "id": "5ad11af7",
   "metadata": {},
   "source": [
    "## 25. zfill()\t\n",
    "- Fills the string with a specified number of 0 values at the beginning"
   ]
  },
  {
   "cell_type": "code",
   "execution_count": 135,
   "id": "f5e9bce2",
   "metadata": {},
   "outputs": [
    {
     "name": "stdout",
     "output_type": "stream",
     "text": [
      "0000000050\n"
     ]
    }
   ],
   "source": [
    "txt = \"50\"\n",
    "x = txt.zfill(10)\n",
    "print(x)"
   ]
  },
  {
   "cell_type": "code",
   "execution_count": 136,
   "id": "c62248d8",
   "metadata": {},
   "outputs": [
    {
     "name": "stdout",
     "output_type": "stream",
     "text": [
      "00000hello\n",
      "welcome to the jungle\n",
      "000010.000\n"
     ]
    }
   ],
   "source": [
    "a = \"hello\"\n",
    "b = \"welcome to the jungle\"\n",
    "c = \"10.000\"\n",
    "\n",
    "print(a.zfill(10))\n",
    "print(b.zfill(10))\n",
    "print(c.zfill(10))"
   ]
  },
  {
   "cell_type": "code",
   "execution_count": null,
   "id": "2d838601",
   "metadata": {},
   "outputs": [],
   "source": []
  }
 ],
 "metadata": {
  "kernelspec": {
   "display_name": "Python 3",
   "language": "python",
   "name": "python3"
  },
  "language_info": {
   "codemirror_mode": {
    "name": "ipython",
    "version": 3
   },
   "file_extension": ".py",
   "mimetype": "text/x-python",
   "name": "python",
   "nbconvert_exporter": "python",
   "pygments_lexer": "ipython3",
   "version": "3.8.8"
  }
 },
 "nbformat": 4,
 "nbformat_minor": 5
}
