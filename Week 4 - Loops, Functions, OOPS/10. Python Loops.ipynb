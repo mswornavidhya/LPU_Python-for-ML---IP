{
 "cells": [
  {
   "cell_type": "markdown",
   "id": "656b7de3",
   "metadata": {},
   "source": [
    "# Python Loops\n",
    "- Python has two primitive loop commands:\n",
    "\n",
    "1. while loops\n",
    "2. for loops"
   ]
  },
  {
   "cell_type": "markdown",
   "id": "462d9458",
   "metadata": {},
   "source": [
    "# 1. The while Loop\n",
    "- With the while loop we can execute a set of statements as long as a condition is true"
   ]
  },
  {
   "cell_type": "code",
   "execution_count": 1,
   "id": "9d2db982",
   "metadata": {},
   "outputs": [
    {
     "name": "stdout",
     "output_type": "stream",
     "text": [
      "1\n",
      "2\n",
      "3\n"
     ]
    }
   ],
   "source": [
    "#print i as long as i is less than 4\n",
    "i = 1\n",
    "while i < 4:\n",
    "  print(i)\n",
    "  i += 1"
   ]
  },
  {
   "cell_type": "markdown",
   "id": "caa32ab9",
   "metadata": {},
   "source": [
    "## a. The break Statement\n",
    "- With the break statement we can stop the loop even if the while condition is true"
   ]
  },
  {
   "cell_type": "code",
   "execution_count": 2,
   "id": "851a285f",
   "metadata": {},
   "outputs": [
    {
     "name": "stdout",
     "output_type": "stream",
     "text": [
      "1\n",
      "2\n",
      "3\n",
      "4\n"
     ]
    }
   ],
   "source": [
    "#Exit the loop if i is 4\n",
    "i = 1\n",
    "while i < 6:\n",
    "  print(i)\n",
    "  if i == 4:\n",
    "    break\n",
    "  i += 1"
   ]
  },
  {
   "cell_type": "markdown",
   "id": "0882892e",
   "metadata": {},
   "source": [
    "## b. The continue Statement\n",
    "- With the continue statement we can stop the current iteration, and continue with the next"
   ]
  },
  {
   "cell_type": "code",
   "execution_count": 3,
   "id": "4dac1bee",
   "metadata": {},
   "outputs": [
    {
     "name": "stdout",
     "output_type": "stream",
     "text": [
      "1\n",
      "2\n",
      "3\n",
      "5\n",
      "6\n",
      "7\n"
     ]
    }
   ],
   "source": [
    "#Continue to the next iteration if i is 4\n",
    "i =0\n",
    "while i<=6:\n",
    "    i +=1\n",
    "    if i ==4:\n",
    "        continue\n",
    "    print(i)"
   ]
  },
  {
   "cell_type": "markdown",
   "id": "910ad0e4",
   "metadata": {},
   "source": [
    "## c. The else Statement\n",
    "- With the else statement we can run a block of code once when the condition no longer is true"
   ]
  },
  {
   "cell_type": "code",
   "execution_count": 4,
   "id": "9fd665ad",
   "metadata": {},
   "outputs": [
    {
     "name": "stdout",
     "output_type": "stream",
     "text": [
      "1\n",
      "2\n",
      "3\n",
      "4\n",
      "5\n",
      "6\n",
      "7\n",
      "i is no longer less than 8\n"
     ]
    }
   ],
   "source": [
    "#Print a message once the condition is false\n",
    "i = 1\n",
    "while i < 8:\n",
    "    print(i)\n",
    "    i += 1\n",
    "else:\n",
    "    print(\"i is no longer less than 8\")"
   ]
  },
  {
   "cell_type": "markdown",
   "id": "6b58914e",
   "metadata": {},
   "source": [
    "# 2. The For Loop\n",
    "- A for loop is used for iterating over a sequence (that is either a list, a tuple, a dictionary, a set, or a string).\n",
    "\n",
    "- This is less like the for keyword in other programming languages, and works more like an iterator method as found in other object-orientated programming languages.\n",
    "\n",
    "- With the for loop we can execute a set of statements, once for each item in a list, tuple, set etc."
   ]
  },
  {
   "cell_type": "markdown",
   "id": "798b17c9",
   "metadata": {},
   "source": [
    "## a. Looping through iterables"
   ]
  },
  {
   "cell_type": "code",
   "execution_count": 5,
   "id": "707b7589",
   "metadata": {},
   "outputs": [
    {
     "name": "stdout",
     "output_type": "stream",
     "text": [
      "apple\n",
      "banana\n",
      "cherry\n"
     ]
    }
   ],
   "source": [
    "fruits = [\"apple\", \"banana\", \"cherry\"]\n",
    "for x in fruits:\n",
    "    print(x)"
   ]
  },
  {
   "cell_type": "markdown",
   "id": "385898ea",
   "metadata": {},
   "source": [
    "## b. Looping Through a String\n",
    "- Even strings are iterable objects, they contain a sequence of characters"
   ]
  },
  {
   "cell_type": "code",
   "execution_count": 6,
   "id": "0b8656b4",
   "metadata": {},
   "outputs": [
    {
     "name": "stdout",
     "output_type": "stream",
     "text": [
      "b\n",
      "a\n",
      "n\n",
      "a\n",
      "n\n",
      "a\n"
     ]
    }
   ],
   "source": [
    "for x in \"banana\":\n",
    "    print(x)"
   ]
  },
  {
   "cell_type": "markdown",
   "id": "6cabd834",
   "metadata": {},
   "source": [
    "## c. The break Statement\n",
    "- With the break statement we can stop the loop before it has looped through all the items"
   ]
  },
  {
   "cell_type": "code",
   "execution_count": 7,
   "id": "68c5de9a",
   "metadata": {},
   "outputs": [
    {
     "name": "stdout",
     "output_type": "stream",
     "text": [
      "apple\n",
      "banana\n",
      "cherry\n"
     ]
    }
   ],
   "source": [
    "#exit the loop when x is \"cherry\"\n",
    "fruits = [\"apple\", \"banana\", \"cherry\", \"papaya\"]\n",
    "for x in fruits:\n",
    "    print(x)\n",
    "    if x == \"cherry\":\n",
    "        break"
   ]
  },
  {
   "cell_type": "code",
   "execution_count": 8,
   "id": "358c3ccf",
   "metadata": {},
   "outputs": [
    {
     "name": "stdout",
     "output_type": "stream",
     "text": [
      "apple\n",
      "banana\n"
     ]
    }
   ],
   "source": [
    "#Exit the loop when x is \"cherry\", but this time the break comes before the print\n",
    "fruits = [\"apple\", \"banana\", \"cherry\", \"papaya\"]\n",
    "for x in fruits:\n",
    "    if x == \"cherry\":\n",
    "        break\n",
    "    print(x)"
   ]
  },
  {
   "cell_type": "markdown",
   "id": "0d4bff83",
   "metadata": {},
   "source": [
    "## d. The continue Statement\n",
    "- With the continue statement we can stop the current iteration of the loop, and continue with the next"
   ]
  },
  {
   "cell_type": "code",
   "execution_count": 9,
   "id": "76db1579",
   "metadata": {},
   "outputs": [
    {
     "name": "stdout",
     "output_type": "stream",
     "text": [
      "apple\n",
      "banana\n",
      "papaya\n"
     ]
    }
   ],
   "source": [
    "#donot print cherry\n",
    "fruits = [\"apple\", \"banana\", \"cherry\", \"papaya\"]\n",
    "for x in fruits:\n",
    "    if x == \"cherry\":\n",
    "        continue\n",
    "    print(x)"
   ]
  },
  {
   "cell_type": "markdown",
   "id": "716ae781",
   "metadata": {},
   "source": [
    "## e. The range() Function\n",
    "- To loop through a set of code a specified number of times, we can use the range() function,\n",
    "- The range() function returns a sequence of numbers, starting from 0 by default, and increments by 1 (by default), and ends at a specified number."
   ]
  },
  {
   "cell_type": "markdown",
   "id": "28f645af",
   "metadata": {},
   "source": [
    "### Syntax : -\n",
    "$range(start,stop,skip)$"
   ]
  },
  {
   "cell_type": "code",
   "execution_count": 10,
   "id": "d637c3c3",
   "metadata": {},
   "outputs": [
    {
     "data": {
      "text/plain": [
       "range(0, 10)"
      ]
     },
     "execution_count": 10,
     "metadata": {},
     "output_type": "execute_result"
    }
   ],
   "source": [
    "range(10) #only stop is given, by default start is takne as 0"
   ]
  },
  {
   "cell_type": "code",
   "execution_count": 11,
   "id": "4f454b50",
   "metadata": {},
   "outputs": [
    {
     "data": {
      "text/plain": [
       "range(2, 5)"
      ]
     },
     "execution_count": 11,
     "metadata": {},
     "output_type": "execute_result"
    }
   ],
   "source": [
    "range(2,5) #start from 2 and stop at 5"
   ]
  },
  {
   "cell_type": "code",
   "execution_count": 12,
   "id": "a96f08c2",
   "metadata": {},
   "outputs": [
    {
     "data": {
      "text/plain": [
       "range(0, 10, 2)"
      ]
     },
     "execution_count": 12,
     "metadata": {},
     "output_type": "execute_result"
    }
   ],
   "source": [
    "range(0,10,2) #start from 0 and stop at 10  with skip as 2"
   ]
  },
  {
   "cell_type": "code",
   "execution_count": 13,
   "id": "6cc86db0",
   "metadata": {},
   "outputs": [
    {
     "name": "stdout",
     "output_type": "stream",
     "text": [
      "0\n",
      "1\n",
      "2\n",
      "3\n",
      "4\n",
      "5\n"
     ]
    }
   ],
   "source": [
    "for x in range(6):\n",
    "    print(x)"
   ]
  },
  {
   "cell_type": "code",
   "execution_count": 14,
   "id": "b4ea2ee6",
   "metadata": {},
   "outputs": [
    {
     "name": "stdout",
     "output_type": "stream",
     "text": [
      "2\n",
      "3\n",
      "4\n",
      "5\n"
     ]
    }
   ],
   "source": [
    "for x in range(2, 6):\n",
    "    print(x)"
   ]
  },
  {
   "cell_type": "code",
   "execution_count": 15,
   "id": "9e6d4c9c",
   "metadata": {},
   "outputs": [
    {
     "name": "stdout",
     "output_type": "stream",
     "text": [
      "4\n",
      "8\n",
      "12\n",
      "16\n",
      "20\n",
      "24\n",
      "28\n",
      "32\n",
      "36\n"
     ]
    }
   ],
   "source": [
    "#Increment the sequence with 4\n",
    "for x in range(4, 40, 4):\n",
    "    print(x)"
   ]
  },
  {
   "cell_type": "markdown",
   "id": "b282eb65",
   "metadata": {},
   "source": [
    "## f. Else in For Loop\n",
    "- The else keyword in a for loop specifies a block of code to be executed when the loop is finished"
   ]
  },
  {
   "cell_type": "code",
   "execution_count": 16,
   "id": "00699ff3",
   "metadata": {},
   "outputs": [
    {
     "name": "stdout",
     "output_type": "stream",
     "text": [
      "0\n",
      "1\n",
      "2\n",
      "3\n",
      "4\n",
      "5\n",
      "6\n",
      "7\n",
      "8\n",
      "9\n",
      "Finally finished!\n"
     ]
    }
   ],
   "source": [
    "#Print all numbers from 0 to 10, and print a message when the loop has ended\n",
    "for x in range(10):\n",
    "    print(x)\n",
    "else:\n",
    "    print(\"Finally finished!\")"
   ]
  },
  {
   "cell_type": "markdown",
   "id": "c5368149",
   "metadata": {},
   "source": [
    "<b> The else block will NOT be executed if the loop is stopped by a break statement"
   ]
  },
  {
   "cell_type": "code",
   "execution_count": 17,
   "id": "f2a65aaa",
   "metadata": {},
   "outputs": [
    {
     "name": "stdout",
     "output_type": "stream",
     "text": [
      "0\n",
      "1\n",
      "2\n",
      "3\n"
     ]
    }
   ],
   "source": [
    "for x in range(10):\n",
    "    if x == 4: break\n",
    "    print(x)\n",
    "else:\n",
    "    print(\"Finally finished!\")"
   ]
  },
  {
   "cell_type": "markdown",
   "id": "8bb5a7f9",
   "metadata": {},
   "source": [
    "## g. Nested Loops\n",
    "- A nested loop is a loop inside a loop.\n",
    "\n",
    "- The \"inner loop\" will be executed one time for each iteration of the \"outer loop\""
   ]
  },
  {
   "cell_type": "code",
   "execution_count": 18,
   "id": "98be2159",
   "metadata": {},
   "outputs": [
    {
     "name": "stdout",
     "output_type": "stream",
     "text": [
      "red apple\n",
      "red banana\n",
      "red cherry\n",
      "big apple\n",
      "big banana\n",
      "big cherry\n",
      "tasty apple\n",
      "tasty banana\n",
      "tasty cherry\n"
     ]
    }
   ],
   "source": [
    "adjective = [\"red\", \"big\", \"tasty\"]\n",
    "fruits = [\"apple\", \"banana\", \"cherry\"]\n",
    "\n",
    "for x in adjective:\n",
    "    for y in fruits:\n",
    "        print(x, y)"
   ]
  },
  {
   "cell_type": "markdown",
   "id": "5a405f6f",
   "metadata": {},
   "source": [
    "## h. The pass Statement\n",
    "- for loops cannot be empty, but if you for some reason have a for loop with no content, put in the pass statement to avoid getting an error."
   ]
  },
  {
   "cell_type": "code",
   "execution_count": 19,
   "id": "4cea3d18",
   "metadata": {},
   "outputs": [],
   "source": [
    "for x in [0, 1, 2]:\n",
    "    pass"
   ]
  },
  {
   "cell_type": "markdown",
   "id": "31285ec0",
   "metadata": {},
   "source": [
    "# 3.  Loop Lists"
   ]
  },
  {
   "cell_type": "markdown",
   "id": "ef3f959d",
   "metadata": {},
   "source": [
    "## a. Loops List"
   ]
  },
  {
   "cell_type": "code",
   "execution_count": 20,
   "id": "83d9679a",
   "metadata": {},
   "outputs": [
    {
     "name": "stdout",
     "output_type": "stream",
     "text": [
      "apple\n",
      "banana\n",
      "cherry\n"
     ]
    }
   ],
   "source": [
    "#Print all items in the list, one by one:\n",
    "\n",
    "list1 = [\"apple\", \"banana\", \"cherry\"]\n",
    "for x in list1:\n",
    "    print(x)"
   ]
  },
  {
   "cell_type": "markdown",
   "id": "14d15e7e",
   "metadata": {},
   "source": [
    "## b. Loop Through the Index Numbers\n",
    "- You can also loop through the list items by referring to their index number.\n",
    "\n",
    "- Use the range() and len() functions to create a suitable iterable"
   ]
  },
  {
   "cell_type": "code",
   "execution_count": 21,
   "id": "780c7fd0",
   "metadata": {},
   "outputs": [
    {
     "name": "stdout",
     "output_type": "stream",
     "text": [
      "apple\n",
      "banana\n",
      "cherry\n"
     ]
    }
   ],
   "source": [
    "# Print all items by referring to their index number:\n",
    "\n",
    "list1 = [\"apple\", \"banana\", \"cherry\"]\n",
    "for i in range(len(list1)):\n",
    "    print(list1[i]) #accessing via index numbers\n"
   ]
  },
  {
   "cell_type": "markdown",
   "id": "21b12580",
   "metadata": {},
   "source": [
    "## c. Looping list by while loops"
   ]
  },
  {
   "cell_type": "code",
   "execution_count": 22,
   "id": "92a83354",
   "metadata": {},
   "outputs": [
    {
     "name": "stdout",
     "output_type": "stream",
     "text": [
      "apple\n",
      "banana\n",
      "cherry\n"
     ]
    }
   ],
   "source": [
    "#Print all items, using a while loop to go through all the index numbers\n",
    "\n",
    "list1 = [\"apple\", \"banana\", \"cherry\"]\n",
    "i = 0\n",
    "while i < len(list1):\n",
    "    print(list1[i])\n",
    "    i = i + 1"
   ]
  },
  {
   "cell_type": "markdown",
   "id": "c76d56e1",
   "metadata": {},
   "source": [
    "# 4. Loop Tuples"
   ]
  },
  {
   "cell_type": "markdown",
   "id": "f633668a",
   "metadata": {},
   "source": [
    "## a. Loop Through a Tuple\n",
    "- You can loop through the tuple items by using a for loop"
   ]
  },
  {
   "cell_type": "code",
   "execution_count": 23,
   "id": "7088d299",
   "metadata": {},
   "outputs": [
    {
     "name": "stdout",
     "output_type": "stream",
     "text": [
      "apple\n",
      "banana\n",
      "cherry\n"
     ]
    }
   ],
   "source": [
    "#Iterate through the items and print the values\n",
    "\n",
    "tuple1 = (\"apple\", \"banana\", \"cherry\")\n",
    "for x in tuple1:\n",
    "    print(x)"
   ]
  },
  {
   "cell_type": "markdown",
   "id": "22ecd6e0",
   "metadata": {},
   "source": [
    "## b. Loop Through the Index Numbers\n",
    "- You can also loop through the tuple items by referring to their index number.\n",
    "\n",
    "- Use the range() and len() functions to create a suitable iterable"
   ]
  },
  {
   "cell_type": "code",
   "execution_count": 24,
   "id": "85b860a0",
   "metadata": {},
   "outputs": [
    {
     "name": "stdout",
     "output_type": "stream",
     "text": [
      "apple\n",
      "banana\n",
      "cherry\n"
     ]
    }
   ],
   "source": [
    "#Print all items by referring to their index number\n",
    "\n",
    "tuple1 = (\"apple\", \"banana\", \"cherry\")\n",
    "for i in range(len(tuple1)):\n",
    "    print(tuple1[i]) #accessing tuples via index numbers"
   ]
  },
  {
   "cell_type": "markdown",
   "id": "6a5ebafc",
   "metadata": {},
   "source": [
    "## c. Using a While Loop"
   ]
  },
  {
   "cell_type": "code",
   "execution_count": 25,
   "id": "c6bb28cc",
   "metadata": {},
   "outputs": [
    {
     "name": "stdout",
     "output_type": "stream",
     "text": [
      "apple\n",
      "banana\n",
      "cherry\n"
     ]
    }
   ],
   "source": [
    "#Print all items, using a while loop to go through all the index numbers\n",
    "\n",
    "tuple1= (\"apple\", \"banana\", \"cherry\")\n",
    "i = 0\n",
    "while i < len(tuple1):\n",
    "    print(tuple1[i])\n",
    "    i = i + 1"
   ]
  },
  {
   "cell_type": "markdown",
   "id": "a3584f8a",
   "metadata": {},
   "source": [
    "# 5. Loop Sets"
   ]
  },
  {
   "cell_type": "markdown",
   "id": "6200e042",
   "metadata": {},
   "source": [
    "## a. Loop Through a Sets\n",
    "- You can loop through the sets items by using a for loop"
   ]
  },
  {
   "cell_type": "code",
   "execution_count": 26,
   "id": "fdfc34a5",
   "metadata": {},
   "outputs": [
    {
     "name": "stdout",
     "output_type": "stream",
     "text": [
      "banana\n",
      "apple\n",
      "cherry\n"
     ]
    }
   ],
   "source": [
    "#Iterate through the items and print the values\n",
    "\n",
    "set1 = {\"apple\", \"banana\", \"cherry\"}\n",
    "for x in set1:\n",
    "    print(x)"
   ]
  },
  {
   "cell_type": "markdown",
   "id": "150edcf3",
   "metadata": {},
   "source": [
    "<b> Note : you cannot access sets via index numbers and they are unordered."
   ]
  },
  {
   "cell_type": "code",
   "execution_count": 27,
   "id": "f0792b7e",
   "metadata": {},
   "outputs": [
    {
     "ename": "TypeError",
     "evalue": "'set' object is not subscriptable",
     "output_type": "error",
     "traceback": [
      "\u001b[1;31m---------------------------------------------------------------------------\u001b[0m",
      "\u001b[1;31mTypeError\u001b[0m                                 Traceback (most recent call last)",
      "\u001b[1;32m<ipython-input-27-c38563f1af7a>\u001b[0m in \u001b[0;36m<module>\u001b[1;34m\u001b[0m\n\u001b[1;32m----> 1\u001b[1;33m \u001b[0mset1\u001b[0m\u001b[1;33m[\u001b[0m\u001b[1;36m0\u001b[0m\u001b[1;33m]\u001b[0m\u001b[1;33m\u001b[0m\u001b[1;33m\u001b[0m\u001b[0m\n\u001b[0m",
      "\u001b[1;31mTypeError\u001b[0m: 'set' object is not subscriptable"
     ]
    }
   ],
   "source": [
    "set1[0]"
   ]
  },
  {
   "cell_type": "markdown",
   "id": "ee5ff4a6",
   "metadata": {},
   "source": [
    "# 6.Loop Dictionaries"
   ]
  },
  {
   "cell_type": "markdown",
   "id": "8d7b14ab",
   "metadata": {},
   "source": [
    "## a. Loop Through a Dictionary\n",
    "- You can loop through a dictionary by using a for loop.\n",
    "\n",
    "- When looping through a dictionary, the return value are the keys of the dictionary, but there are methods to return the values as well"
   ]
  },
  {
   "cell_type": "code",
   "execution_count": 28,
   "id": "ae55c6e2",
   "metadata": {},
   "outputs": [
    {
     "name": "stdout",
     "output_type": "stream",
     "text": [
      "brand\n",
      "model\n",
      "year\n"
     ]
    }
   ],
   "source": [
    "#Print all key names in the dictionary, one by one:\n",
    "\n",
    "dict1 = {\n",
    "  \"brand\": \"Ford\",\n",
    "  \"model\": \"Mustang\",\n",
    "  \"year\": 1964\n",
    "}\n",
    "\n",
    "for x in dict1:\n",
    "    print(x)"
   ]
  },
  {
   "cell_type": "code",
   "execution_count": 29,
   "id": "4c2fa518",
   "metadata": {},
   "outputs": [
    {
     "name": "stdout",
     "output_type": "stream",
     "text": [
      "Ford\n",
      "Mustang\n",
      "1964\n"
     ]
    }
   ],
   "source": [
    "#You can also use the values() method to return values of a dictionary\n",
    "\n",
    "for x in dict1.values():\n",
    "    print(x)"
   ]
  },
  {
   "cell_type": "code",
   "execution_count": 30,
   "id": "98f9e4fc",
   "metadata": {},
   "outputs": [
    {
     "name": "stdout",
     "output_type": "stream",
     "text": [
      "brand\n",
      "model\n",
      "year\n"
     ]
    }
   ],
   "source": [
    "#You can use the keys() method to return the keys of a dictionary\n",
    "\n",
    "for x in dict1.keys():\n",
    "    print(x)"
   ]
  },
  {
   "cell_type": "code",
   "execution_count": 31,
   "id": "82e8e8a5",
   "metadata": {},
   "outputs": [
    {
     "name": "stdout",
     "output_type": "stream",
     "text": [
      "brand Ford\n",
      "model Mustang\n",
      "year 1964\n"
     ]
    }
   ],
   "source": [
    "#Loop through both keys and values, by using the items() method\n",
    "\n",
    "for x, y in dict1.items():\n",
    "    print(x, y)"
   ]
  }
 ],
 "metadata": {
  "kernelspec": {
   "display_name": "Python 3 (ipykernel)",
   "language": "python",
   "name": "python3"
  },
  "language_info": {
   "codemirror_mode": {
    "name": "ipython",
    "version": 3
   },
   "file_extension": ".py",
   "mimetype": "text/x-python",
   "name": "python",
   "nbconvert_exporter": "python",
   "pygments_lexer": "ipython3",
   "version": "3.9.7"
  }
 },
 "nbformat": 4,
 "nbformat_minor": 5
}
