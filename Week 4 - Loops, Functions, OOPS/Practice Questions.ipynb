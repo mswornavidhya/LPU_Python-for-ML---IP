{
 "cells": [
  {
   "cell_type": "markdown",
   "id": "ef0a4d93",
   "metadata": {},
   "source": [
    "1. using map - Given my_str = \"Welcome you all to ta session on 9th 2022\" output must be in uppercase."
   ]
  },
  {
   "cell_type": "markdown",
   "id": "c76fc269",
   "metadata": {},
   "source": [
    "2. 2. my_str = \"Abhay, Welcome you all to ta session on 9th 2022\"\n",
    "\n",
    "output string must contain letters other than vowels"
   ]
  },
  {
   "cell_type": "markdown",
   "id": "74ccd3a2",
   "metadata": {},
   "source": [
    "## Start practice from 3rd question"
   ]
  },
  {
   "cell_type": "markdown",
   "id": "45502160",
   "metadata": {},
   "source": [
    "3. Consider first 100 numbers and print the result of the expression 2mn + 7n"
   ]
  },
  {
   "cell_type": "markdown",
   "id": "4d2ec286",
   "metadata": {},
   "source": [
    "4. Given a number, returns the number with reversed digits. The number could be either positive or negative.(Assumption: Integers)"
   ]
  },
  {
   "cell_type": "markdown",
   "id": "77e40cdb",
   "metadata": {},
   "source": [
    "5. using map function - Print the multiplication table of a given number N. Say N = 2. Output must be a list with format as [1 x 2 = 2, 2 x 2 = 4,...... ,20 x 2 = 40]"
   ]
  },
  {
   "cell_type": "markdown",
   "id": "6e2dc6f8",
   "metadata": {},
   "source": [
    "6. using reduce function - Given the first 2 terms a and b of an Arithmetic Series. Find the Nth term of the series. Output must show the two numbers along with result."
   ]
  },
  {
   "cell_type": "markdown",
   "id": "5c31b1d1",
   "metadata": {},
   "source": [
    "7. Given the first term as a1 and common ratio as r, of a GP series. Calculate the Nth term of the series and print the result in user readable format."
   ]
  },
  {
   "cell_type": "markdown",
   "id": "b890eec4",
   "metadata": {},
   "source": [
    "8. Write a program to sort the characters in this string. The first line of input contains an integer N, denoting the number of test cases. Following that are N test cases. In each of them is a string S. Output: For each test case, print the string S in sorted order."
   ]
  },
  {
   "cell_type": "markdown",
   "id": "503ca05c",
   "metadata": {},
   "source": [
    "9. For a given sentence, return the average word length in two decimal format provided the string must contain only. alphabets. \n",
    "\n",
    "consider: sentence = \"Hi tom, how are you doing? Coming for Python's class? Areey -- it's soo boring\"\n",
    "output must be: 3.93"
   ]
  },
  {
   "cell_type": "markdown",
   "id": "4953ff28",
   "metadata": {},
   "source": [
    "10. Given two numbers x,y, find ith digit from right of x^y. Explanation: Let x=y=3. i =1 will print 7, as 7 is the 1st number from right of 27."
   ]
  },
  {
   "cell_type": "markdown",
   "id": "f163d024",
   "metadata": {},
   "source": [
    "11. Given two non-negative integers num1 and num2 represented as string, return the sum of num1 and num2. You must not use any built-in BigInteger library or convert the inputs to integer directly."
   ]
  },
  {
   "cell_type": "markdown",
   "id": "1c943ce7",
   "metadata": {},
   "source": [
    "12. Given a string, find the first non-repeating character in it and return its index. If it doesn't exist, return -1."
   ]
  },
  {
   "cell_type": "markdown",
   "id": "29bb4678",
   "metadata": {},
   "source": [
    "13. Given a non-empty string s, you may delete at most one character. Judge whether you can make it a palindrome. Input:\"Malayalam\" Output=True."
   ]
  },
  {
   "cell_type": "markdown",
   "id": "12998290",
   "metadata": {},
   "source": [
    "14. Given an array nums, write a function to move all zeroes to the end of it while maintaining the relative order of the non-zero elements.\n",
    "\n",
    "Input: arr = [1,7,0,0,8,0,10,12,0,4]\n",
    "\n",
    "o,p: [1, 7, 8, 10, 12, 4, 0, 0, 0, 0]"
   ]
  },
  {
   "cell_type": "markdown",
   "id": "ba399525",
   "metadata": {},
   "source": [
    "15. Given an array containing None values fill in the None values with most recent non None value in the array \n",
    "\n",
    "array1 = [1,None,2,3,None,None,5,None]\n",
    "\n",
    "Output: [1, 1, 2, 3, 3, 3, 5, 5]"
   ]
  },
  {
   "cell_type": "markdown",
   "id": "18fb1248",
   "metadata": {},
   "source": [
    "16. Given two sentences, return a tuple that has the words that appear in one sentence and not the other and an array with the words in common.\n",
    "\n",
    "sentence1 = 'We are really pleased to meet you in our city'<br>\n",
    "sentence2 = 'The city was hit by a really heavy storm'\n",
    "\n",
    "Output:<br>\n",
    "(['The','We','a','are','by','heavy','hit','in','meet','our', 'pleased','storm','to','was','you'], ['city', 'really'])"
   ]
  },
  {
   "cell_type": "code",
   "execution_count": 1,
   "id": "228452ed",
   "metadata": {},
   "outputs": [
    {
     "ename": "TypeError",
     "evalue": "'in <string>' requires string as left operand, not list",
     "output_type": "error",
     "traceback": [
      "\u001b[1;31m---------------------------------------------------------------------------\u001b[0m",
      "\u001b[1;31mTypeError\u001b[0m                                 Traceback (most recent call last)",
      "Input \u001b[1;32mIn [1]\u001b[0m, in \u001b[0;36m<module>\u001b[1;34m\u001b[0m\n\u001b[0;32m      2\u001b[0m s2 \u001b[38;5;241m=\u001b[39m \u001b[38;5;124m'\u001b[39m\u001b[38;5;124mThe city was hit by a really heavy storm\u001b[39m\u001b[38;5;124m'\u001b[39m\n\u001b[0;32m      4\u001b[0m l1 \u001b[38;5;241m=\u001b[39m \u001b[38;5;28mfilter\u001b[39m((\u001b[38;5;28;01mlambda\u001b[39;00m x:x\u001b[38;5;241m.\u001b[39msplit() \u001b[38;5;129;01mnot\u001b[39;00m \u001b[38;5;129;01min\u001b[39;00m s2 ),s1)\n\u001b[1;32m----> 5\u001b[0m \u001b[38;5;28mprint\u001b[39m(\u001b[38;5;28;43mlist\u001b[39;49m\u001b[43m(\u001b[49m\u001b[43ml1\u001b[49m\u001b[43m)\u001b[49m)\n",
      "Input \u001b[1;32mIn [1]\u001b[0m, in \u001b[0;36m<lambda>\u001b[1;34m(x)\u001b[0m\n\u001b[0;32m      1\u001b[0m s1 \u001b[38;5;241m=\u001b[39m \u001b[38;5;124m'\u001b[39m\u001b[38;5;124mWe are really pleased to meet you in our city\u001b[39m\u001b[38;5;124m'\u001b[39m\n\u001b[0;32m      2\u001b[0m s2 \u001b[38;5;241m=\u001b[39m \u001b[38;5;124m'\u001b[39m\u001b[38;5;124mThe city was hit by a really heavy storm\u001b[39m\u001b[38;5;124m'\u001b[39m\n\u001b[1;32m----> 4\u001b[0m l1 \u001b[38;5;241m=\u001b[39m \u001b[38;5;28mfilter\u001b[39m((\u001b[38;5;28;01mlambda\u001b[39;00m x:\u001b[43mx\u001b[49m\u001b[38;5;241;43m.\u001b[39;49m\u001b[43msplit\u001b[49m\u001b[43m(\u001b[49m\u001b[43m)\u001b[49m\u001b[43m \u001b[49m\u001b[38;5;129;43;01mnot\u001b[39;49;00m\u001b[43m \u001b[49m\u001b[38;5;129;43;01min\u001b[39;49;00m\u001b[43m \u001b[49m\u001b[43ms2\u001b[49m ),s1)\n\u001b[0;32m      5\u001b[0m \u001b[38;5;28mprint\u001b[39m(\u001b[38;5;28mlist\u001b[39m(l1))\n",
      "\u001b[1;31mTypeError\u001b[0m: 'in <string>' requires string as left operand, not list"
     ]
    }
   ],
   "source": [
    "s1 = 'We are really pleased to meet you in our city'\n",
    "s2 = 'The city was hit by a really heavy storm'\n",
    "\n",
    "l1 = filter((lambda x:x.split() not in s2 ),s1)\n",
    "print(list(l1))"
   ]
  },
  {
   "cell_type": "code",
   "execution_count": 2,
   "id": "9aeac702",
   "metadata": {},
   "outputs": [
    {
     "ename": "IndentationError",
     "evalue": "expected an indented block (856588991.py, line 8)",
     "output_type": "error",
     "traceback": [
      "\u001b[1;36m  Input \u001b[1;32mIn [2]\u001b[1;36m\u001b[0m\n\u001b[1;33m    l.append(ch)\u001b[0m\n\u001b[1;37m    ^\u001b[0m\n\u001b[1;31mIndentationError\u001b[0m\u001b[1;31m:\u001b[0m expected an indented block\n"
     ]
    }
   ],
   "source": [
    "s1 = \"We are really pleased to meet you in our city\"\n",
    "s2 = \"The city was hit by a really heavy storm\"\n",
    "l1 = s1.split()\n",
    "l2 = s2.split()\n",
    "l = []\n",
    "for ch in l1:\n",
    "    if ch not in s2:\n",
    "    l.append(ch)\n",
    "for ch in l2:\n",
    "    if ch not in s1:\n",
    "    l.append(ch)\n",
    "print(l)"
   ]
  },
  {
   "cell_type": "code",
   "execution_count": 4,
   "id": "38e737a2",
   "metadata": {},
   "outputs": [
    {
     "name": "stdout",
     "output_type": "stream",
     "text": [
      "['The', 'was', 'hit', 'by', 'a', 'heavy', 'storm']\n",
      "['city', 'really']\n"
     ]
    }
   ],
   "source": [
    "s1 = 'We are really pleased to meet you in our city'\n",
    "s2 = 'The city was hit by a really heavy storm'\n",
    "\n",
    "ans= list(filter(lambda x: x not in s1.split(), s2.split()))\n",
    "anss= list(filter(lambda y: y in s1.split(), s2.split()))\n",
    "print(ans)\n",
    "print(anss)"
   ]
  },
  {
   "cell_type": "code",
   "execution_count": 13,
   "id": "f9b20742",
   "metadata": {},
   "outputs": [
    {
     "name": "stdout",
     "output_type": "stream",
     "text": [
      "common words list:  ['really', 'city']\n",
      "uncommon words list:  ['The', 'We', 'a', 'are', 'by', 'heavy', 'hit', 'in', 'meet', 'our', 'pleased', 'storm', 'to', 'was', 'you']\n",
      "(['The', 'We', 'a', 'are', 'by', 'heavy', 'hit', 'in', 'meet', 'our', 'pleased', 'storm', 'to', 'was', 'you'], ['really', 'city'])\n"
     ]
    }
   ],
   "source": [
    "string1 = 'We are really pleased to meet you in our city'\n",
    "string2 = 'The city was hit by a really heavy storm'\n",
    "\n",
    "s1 = set(string1.split())\n",
    "s2 = set(string2.split())\n",
    "ls = sorted(list(s1.symmetric_difference(s2)))\n",
    "# ls1 = list(s1&s2)\n",
    "print(\"common words list: \",ls1)\n",
    "print(\"uncommon words list: \",ls)\n",
    "print((ls, list(s1&s2)))"
   ]
  },
  {
   "cell_type": "code",
   "execution_count": 6,
   "id": "20f1b05e",
   "metadata": {},
   "outputs": [
    {
     "name": "stdout",
     "output_type": "stream",
     "text": [
      "(['heavy', 'a', 'are', 'you', 'pleased', 'to', 'our', 'meet', 'hit', 'by', 'was', 'The', 'storm', 'in', 'We'], ['really', 'city'])\n"
     ]
    }
   ],
   "source": [
    "## Manothama\n",
    "\n",
    "s1= 'We are really pleased to meet you in our city'\n",
    "s2= 'The city was hit by a really heavy storm'\n",
    "s_1=set(s1.split())\n",
    "s_2=set(s2.split())\n",
    "sa=list(s_1.symmetric_difference(s_2))\n",
    "sb=list(s_1.intersection(s_2))\n",
    "x=[]\n",
    "x.append(sa)\n",
    "x.append(sb)\n",
    "# print(tuple(x))\n",
    "print((sa,sb))"
   ]
  },
  {
   "cell_type": "markdown",
   "id": "912d0920",
   "metadata": {},
   "source": [
    "# mansi\n",
    "\n",
    "s1 = \"We are really pleased to meet you in our city\"\n",
    "s2 = \"The city was hit by a really heavy storm\"\n",
    "l1 = set(s1.split())\n",
    "l2 = set(s2.split())\n",
    "l = list(l1.symmetric_difference(l2))\n",
    "lc = list(l1.intersection(l2))\n",
    "#print(l)\n",
    "#print(lc)\n",
    "tup = (l,lc)\n",
    "print(tup)"
   ]
  },
  {
   "cell_type": "code",
   "execution_count": 9,
   "id": "7ac481f2",
   "metadata": {},
   "outputs": [
    {
     "name": "stdout",
     "output_type": "stream",
     "text": [
      "['The', 'was', 'hit', 'by', 'a', 'heavy', 'storm']\n",
      "['city', 'really']\n",
      "(['The', 'was', 'hit', 'by', 'a', 'heavy', 'storm'], ['city', 'really'])\n"
     ]
    }
   ],
   "source": [
    "s1 = 'We are really pleased to meet you in our city'\n",
    "s2 = 'The city was hit by a really heavy storm'\n",
    "l1=s1.split()\n",
    "l2=s2.split()\n",
    "l3=list(filter(lambda x:x not in l1,l2))\n",
    "l4= list(filter(lambda y: y in l1,l2))\n",
    "print(l3)\n",
    "print(l4)\n",
    "print((l3, l4))"
   ]
  },
  {
   "cell_type": "markdown",
   "id": "1c18ee6a",
   "metadata": {},
   "source": [
    "## During session"
   ]
  },
  {
   "cell_type": "markdown",
   "id": "d98bf1fb",
   "metadata": {},
   "source": [
    "1. What is the output of this and print the missing characters if missing. What steps you take to resolve this? <br>\n",
    "sentence=\"Sworna Vidhya is the best mother of universe\"<br>\n",
    "sentence[:14]+sentence[15:]"
   ]
  },
  {
   "cell_type": "markdown",
   "id": "73349b07",
   "metadata": {},
   "source": [
    "2. Explain the output of the following piece of code-<br>\n",
    "x=[‘ab’,’cd’] <br>\n",
    "print(len(map(list,x)))"
   ]
  },
  {
   "cell_type": "code",
   "execution_count": 15,
   "id": "7f8ce878",
   "metadata": {},
   "outputs": [
    {
     "name": "stdout",
     "output_type": "stream",
     "text": [
      "<map object at 0x000001FA9F18F6A0>\n"
     ]
    },
    {
     "ename": "TypeError",
     "evalue": "object of type 'map' has no len()",
     "output_type": "error",
     "traceback": [
      "\u001b[1;31m---------------------------------------------------------------------------\u001b[0m",
      "\u001b[1;31mTypeError\u001b[0m                                 Traceback (most recent call last)",
      "Input \u001b[1;32mIn [15]\u001b[0m, in \u001b[0;36m<module>\u001b[1;34m\u001b[0m\n\u001b[0;32m      1\u001b[0m x\u001b[38;5;241m=\u001b[39m[\u001b[38;5;124m'\u001b[39m\u001b[38;5;124m‘ab’\u001b[39m\u001b[38;5;124m'\u001b[39m,\u001b[38;5;124m'\u001b[39m\u001b[38;5;124m’cd’\u001b[39m\u001b[38;5;124m'\u001b[39m]\n\u001b[0;32m      2\u001b[0m \u001b[38;5;28mprint\u001b[39m(\u001b[38;5;28mmap\u001b[39m(\u001b[38;5;28mlist\u001b[39m,x))\n\u001b[1;32m----> 3\u001b[0m \u001b[38;5;28mprint\u001b[39m(\u001b[38;5;28;43mlen\u001b[39;49m\u001b[43m(\u001b[49m\u001b[38;5;28;43mmap\u001b[39;49m\u001b[43m(\u001b[49m\u001b[38;5;28;43mlist\u001b[39;49m\u001b[43m,\u001b[49m\u001b[43mx\u001b[49m\u001b[43m)\u001b[49m\u001b[43m)\u001b[49m)\n",
      "\u001b[1;31mTypeError\u001b[0m: object of type 'map' has no len()"
     ]
    }
   ],
   "source": [
    "x=['‘ab’','’cd’']\n",
    "print(map(list,x))\n",
    "print(len(map(list,x)))"
   ]
  },
  {
   "cell_type": "markdown",
   "id": "2afa26c3",
   "metadata": {},
   "source": [
    "3. Explain a few methods to implement Functionally Oriented Programming in Python.(Hint: MFR)"
   ]
  },
  {
   "cell_type": "markdown",
   "id": "817fdf88",
   "metadata": {},
   "source": [
    "4. Explain the output of the code: <br>\n",
    "x=['‘ab’','’cd’'] <br>\n",
    "mycode = tuple(map(list,x)) <br>\n",
    "print(len(mycode))"
   ]
  },
  {
   "cell_type": "markdown",
   "id": "b5cb6c13",
   "metadata": {},
   "source": [
    "5. Is del the same as remove()? What are they?"
   ]
  },
  {
   "cell_type": "markdown",
   "id": "5a2b6392",
   "metadata": {},
   "source": [
    "6. Explain the output of the following piece of code-<br>\n",
    "tuple=(2804,'Sworna') <br>\n",
    "tuple*=2 <br>\n",
    "tuple"
   ]
  },
  {
   "cell_type": "markdown",
   "id": "c68e23b6",
   "metadata": {},
   "source": [
    "7. Explain Python Error Handling, how many types you studied and what are they?"
   ]
  },
  {
   "cell_type": "markdown",
   "id": "d84fbcb1",
   "metadata": {},
   "source": [
    "8. Name some exceptions in python what you learnt so far?"
   ]
  },
  {
   "cell_type": "markdown",
   "id": "ebc103ca",
   "metadata": {},
   "source": [
    "9. Explain try, raise, and finally."
   ]
  },
  {
   "cell_type": "markdown",
   "id": "beb059a7",
   "metadata": {},
   "source": [
    "10. What happens if we do not handle an error in the except block? "
   ]
  },
  {
   "cell_type": "markdown",
   "id": "3a5050a8",
   "metadata": {},
   "source": [
    "11. What happens if we do not handle an error in the except block? <br>\n",
    "#Exception handlers with functions demonstration <br>\n",
    "def this_fails(): <br>\n",
    "     x = 1/0 <br>\n",
    " <br>\n",
    "this_fails()"
   ]
  },
  {
   "cell_type": "markdown",
   "id": "0a63a0ae",
   "metadata": {},
   "source": [
    "12. Explain the problem with the following piece of code- <br>\n",
    " <br>\n",
    "def func(n=[]): <br>\n",
    "    # Some code to implement <br>\n",
    "    pass <br>\n",
    "\n",
    "func([1,2,3]) <br>\n",
    "func() <br>\n",
    "n"
   ]
  },
  {
   "cell_type": "markdown",
   "id": "dfa93ba0",
   "metadata": {},
   "source": [
    "13. What happens to the following code? <br>\n",
    "s = a + '[' + b + ':' + c + ']' <br>\n",
    "s"
   ]
  },
  {
   "cell_type": "markdown",
   "id": "f2490770",
   "metadata": {},
   "source": [
    "14. What does the following code give us? <br>\n",
    "b=(1)<br>\n",
    "type(b)"
   ]
  },
  {
   "cell_type": "markdown",
   "id": "d372b41f",
   "metadata": {},
   "source": [
    "15. Where will you use while rather than for?"
   ]
  },
  {
   "cell_type": "markdown",
   "id": "3badf359",
   "metadata": {},
   "source": [
    "16. Take a look at this piece of code <br>\n",
    "\n",
    "A0= dict(zip(('s','w','o','r','n','a'),(11,22,33,44,55,66))) <br>\n",
    "A1= range(10) <br>\n",
    "A2= sorted([i for i in A1 if i in A0]) <br>\n",
    "A3= sorted([A0[s] for s in A0]) <br>\n",
    "A4= [i for i in A1 if i in A3] <br>\n",
    "A5= {i:i*i for i in A1} <br>\n",
    "A6= [[i,i*i] for i in A1] <br>\n",
    "\n",
    "What are the values of variables A0 to A6? Explain."
   ]
  }
 ],
 "metadata": {
  "kernelspec": {
   "display_name": "Python 3 (ipykernel)",
   "language": "python",
   "name": "python3"
  },
  "language_info": {
   "codemirror_mode": {
    "name": "ipython",
    "version": 3
   },
   "file_extension": ".py",
   "mimetype": "text/x-python",
   "name": "python",
   "nbconvert_exporter": "python",
   "pygments_lexer": "ipython3",
   "version": "3.9.7"
  }
 },
 "nbformat": 4,
 "nbformat_minor": 5
}
