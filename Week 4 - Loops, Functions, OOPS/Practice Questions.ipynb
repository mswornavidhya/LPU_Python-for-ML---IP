{
 "cells": [
  {
   "cell_type": "markdown",
   "id": "ef0a4d93",
   "metadata": {},
   "source": [
    "1. using map - Given my_str = \"Welcome you all to ta session on 9th 2022\" output must be in uppercase."
   ]
  },
  {
   "cell_type": "markdown",
   "id": "c76fc269",
   "metadata": {},
   "source": [
    "2. 2. my_str = \"Abhay, Welcome you all to ta session on 9th 2022\"\n",
    "\n",
    "output string must contain letters other than vowels"
   ]
  },
  {
   "cell_type": "markdown",
   "id": "74ccd3a2",
   "metadata": {},
   "source": [
    "## Start practice from 3rd question"
   ]
  },
  {
   "cell_type": "markdown",
   "id": "45502160",
   "metadata": {},
   "source": [
    "3. Consider first 100 numbers and print the result of the expression 2mn + 7n"
   ]
  },
  {
   "cell_type": "markdown",
   "id": "4d2ec286",
   "metadata": {},
   "source": [
    "4. Given a number, returns the number with reversed digits. The number could be either positive or negative.(Assumption: Integers)"
   ]
  },
  {
   "cell_type": "markdown",
   "id": "77e40cdb",
   "metadata": {},
   "source": [
    "5. using map function - Print the multiplication table of a given number N. Say N = 2. Output must be a list with format as [1 x 2 = 2, 2 x 2 = 4,...... ,20 x 2 = 40]"
   ]
  },
  {
   "cell_type": "markdown",
   "id": "6e2dc6f8",
   "metadata": {},
   "source": [
    "6. using reduce function - Given the first 2 terms a and b of an Arithmetic Series. Find the Nth term of the series. Output must show the two numbers along with result."
   ]
  },
  {
   "cell_type": "markdown",
   "id": "5c31b1d1",
   "metadata": {},
   "source": [
    "7. Given the first term as a1 and common ratio as r, of a GP series. Calculate the Nth term of the series and print the result in user readable format."
   ]
  },
  {
   "cell_type": "markdown",
   "id": "b890eec4",
   "metadata": {},
   "source": [
    "8. Write a program to sort the characters in this string. The first line of input contains an integer N, denoting the number of test cases. Following that are N test cases. In each of them is a string S. Output: For each test case, print the string S in sorted order."
   ]
  },
  {
   "cell_type": "markdown",
   "id": "503ca05c",
   "metadata": {},
   "source": [
    "9. For a given sentence, return the average word length in two decimal format provided the string must contain only. alphabets. \n",
    "\n",
    "consider: sentence = \"Hi tom, how are you doing? Coming for Python's class? Areey -- it's soo boring\"\n",
    "output must be: 3.93"
   ]
  },
  {
   "cell_type": "markdown",
   "id": "4953ff28",
   "metadata": {},
   "source": [
    "10. Given two numbers x,y, find ith digit from right of x^y. Explanation: Let x=y=3. i =1 will print 7, as 7 is the 1st number from right of 27."
   ]
  },
  {
   "cell_type": "markdown",
   "id": "f163d024",
   "metadata": {},
   "source": [
    "11. Given two non-negative integers num1 and num2 represented as string, return the sum of num1 and num2. You must not use any built-in BigInteger library or convert the inputs to integer directly."
   ]
  },
  {
   "cell_type": "markdown",
   "id": "1c943ce7",
   "metadata": {},
   "source": [
    "12. Given a string, find the first non-repeating character in it and return its index. If it doesn't exist, return -1."
   ]
  },
  {
   "cell_type": "markdown",
   "id": "29bb4678",
   "metadata": {},
   "source": [
    "13. Given a non-empty string s, you may delete at most one character. Judge whether you can make it a palindrome. Input:\"Malayalam\" Output=True."
   ]
  },
  {
   "cell_type": "markdown",
   "id": "12998290",
   "metadata": {},
   "source": [
    "14. Given an array nums, write a function to move all zeroes to the end of it while maintaining the relative order of the non-zero elements.\n",
    "\n",
    "Input: arr = [1,7,0,0,8,0,10,12,0,4]\n",
    "\n",
    "o,p: [1, 7, 8, 10, 12, 4, 0, 0, 0, 0]"
   ]
  },
  {
   "cell_type": "markdown",
   "id": "ba399525",
   "metadata": {},
   "source": [
    "15. Given an array containing None values fill in the None values with most recent non None value in the array \n",
    "\n",
    "array1 = [1,None,2,3,None,None,5,None]\n",
    "\n",
    "Output: [1, 1, 2, 3, 3, 3, 5, 5]"
   ]
  },
  {
   "cell_type": "markdown",
   "id": "18fb1248",
   "metadata": {},
   "source": [
    "16. Given two sentences, return a tuple that has the words that appear in one sentence and not the other and an array with the words in common.\n",
    "\n",
    "sentence1 = 'We are really pleased to meet you in our city'<br>\n",
    "sentence2 = 'The city was hit by a really heavy storm'\n",
    "\n",
    "Output:<br>\n",
    "(['The','We','a','are','by','heavy','hit','in','meet','our', 'pleased','storm','to','was','you'], ['city', 'really'])"
   ]
  },
  {
   "cell_type": "code",
   "execution_count": null,
   "id": "6c135cbe",
   "metadata": {},
   "outputs": [],
   "source": []
  }
 ],
 "metadata": {
  "kernelspec": {
   "display_name": "Python 3 (ipykernel)",
   "language": "python",
   "name": "python3"
  },
  "language_info": {
   "codemirror_mode": {
    "name": "ipython",
    "version": 3
   },
   "file_extension": ".py",
   "mimetype": "text/x-python",
   "name": "python",
   "nbconvert_exporter": "python",
   "pygments_lexer": "ipython3",
   "version": "3.9.7"
  }
 },
 "nbformat": 4,
 "nbformat_minor": 5
}
