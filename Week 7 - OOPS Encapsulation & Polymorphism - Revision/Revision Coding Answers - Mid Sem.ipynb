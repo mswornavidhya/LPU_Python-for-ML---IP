{
 "cells": [
  {
   "cell_type": "code",
   "execution_count": 22,
   "id": "9fa52c5f",
   "metadata": {},
   "outputs": [
    {
     "name": "stdout",
     "output_type": "stream",
     "text": [
      "Please enter the radius of the given circle: 34\n",
      " The area of the given circle is:  3629.84\n"
     ]
    }
   ],
   "source": [
    "π = 3.14  \n",
    "Radius = float (input (\"Please enter the radius of the given circle: \"))  \n",
    "area_of_the_circle = π * Radius * Radius  \n",
    "print (\" The area of the given circle is: \", area_of_the_circle)  "
   ]
  },
  {
   "cell_type": "code",
   "execution_count": 23,
   "id": "af13e3cd",
   "metadata": {},
   "outputs": [
    {
     "name": "stdout",
     "output_type": "stream",
     "text": [
      "Enter the radius : 2\n",
      "The area will be  12.56\n"
     ]
    }
   ],
   "source": [
    "rad = float(input(\"Enter the radius : \"))\n",
    "print(\"The area will be \",3.14*(rad**2))"
   ]
  },
  {
   "cell_type": "code",
   "execution_count": 24,
   "id": "b72b993c",
   "metadata": {},
   "outputs": [
    {
     "name": "stdout",
     "output_type": "stream",
     "text": [
      "enter the radius2\n",
      "12.56\n"
     ]
    }
   ],
   "source": [
    "r=int(input(\"enter the radius\"))\n",
    "area=3.14*(r*r)\n",
    "print(area)"
   ]
  },
  {
   "cell_type": "code",
   "execution_count": 25,
   "id": "c60dbb6f",
   "metadata": {},
   "outputs": [
    {
     "name": "stdout",
     "output_type": "stream",
     "text": [
      "[5, 2, 3, 4, 1]\n"
     ]
    }
   ],
   "source": [
    "l1 = [1,2,3,4,5]\n",
    "temp = l1[0]\n",
    "end = l1[len(l1)-1]\n",
    "l1[0] = end\n",
    "l1[len(l1)-1] = temp\n",
    "print(l1)"
   ]
  },
  {
   "cell_type": "code",
   "execution_count": 30,
   "id": "bde1e0f0",
   "metadata": {},
   "outputs": [
    {
     "name": "stdout",
     "output_type": "stream",
     "text": [
      "['abc', 145, 81, 'dog']\n"
     ]
    },
    {
     "data": {
      "text/plain": [
       "['dog', 145, 81, 'abc']"
      ]
     },
     "execution_count": 30,
     "metadata": {},
     "output_type": "execute_result"
    }
   ],
   "source": [
    "l1=['abc',145,81,\"dog\"]\n",
    "# temp = l1[0];\n",
    "\n",
    "# l1[0] =l1[3];\n",
    "\n",
    "# l1[3]= temp;\n",
    "\n",
    "print(l1)\n",
    "\n",
    "l1[0], l1[-1] = l1[-1], l1[0]\n",
    "\n",
    "l1\n"
   ]
  },
  {
   "cell_type": "code",
   "execution_count": 28,
   "id": "cf921c34",
   "metadata": {},
   "outputs": [
    {
     "name": "stdout",
     "output_type": "stream",
     "text": [
      "[9, 11, 5, 3, 6, 27, 4]\n",
      "[9, 11, 5, 3, 6, 27, 4]\n",
      "Swapped List:  [4, 11, 5, 3, 6, 27, 9]\n"
     ]
    }
   ],
   "source": [
    "import ast \n",
    "\n",
    "#swap first and last element in list\n",
    "\n",
    "# Swap function\n",
    "def swapList(sl):      \n",
    "    sl[0], sl[-1] = sl[-1], sl[0]\n",
    "    return sl\n",
    "      \n",
    "# List = [9, 11, 5, 3, 6, 27, 4]\n",
    "List = ast.literal_eval(input())\n",
    "print(List)\n",
    "print(\"Swapped List: \",swapList(List))"
   ]
  },
  {
   "cell_type": "code",
   "execution_count": 31,
   "id": "911aaa64",
   "metadata": {},
   "outputs": [
    {
     "name": "stdout",
     "output_type": "stream",
     "text": [
      "This is a python language\n",
      "This\n",
      "is\n",
      "python\n",
      "language\n"
     ]
    }
   ],
   "source": [
    "string = input()\n",
    "for i in string.split():\n",
    "    if len(i)%2==0:\n",
    "        print(i)"
   ]
  },
  {
   "cell_type": "code",
   "execution_count": 32,
   "id": "df397df0",
   "metadata": {},
   "outputs": [
    {
     "name": "stdout",
     "output_type": "stream",
     "text": [
      "Enter radius: 2\n",
      "12.57\n"
     ]
    }
   ],
   "source": [
    "import math\n",
    "\n",
    "class circle():\n",
    "\n",
    "    #constructor\n",
    "    def __init__(self,radius):\n",
    "        self.radius = radius;\n",
    "\n",
    "    def area(self):\n",
    "        ans = round(math.pi*(self.radius**2),2)\n",
    "        print(ans)\n",
    "\n",
    "#taking input\n",
    "rad = int(input(\"Enter radius: \"))\n",
    "\n",
    "#creating object\n",
    "obj = circle(rad)\n",
    "obj.area()       "
   ]
  },
  {
   "cell_type": "code",
   "execution_count": 1,
   "id": "54af6fa8",
   "metadata": {},
   "outputs": [
    {
     "name": "stdout",
     "output_type": "stream",
     "text": [
      "am\n",
      "muskan\n"
     ]
    }
   ],
   "source": [
    "# 7. Python program to print even length words in a string\n",
    "\n",
    "def printWords(s):\n",
    "\n",
    "    # split the string\n",
    "    s = s.split(' ')\n",
    "\n",
    "    # iterate in words of string\n",
    "    for word in s:\n",
    "\n",
    "        # if length is even\n",
    "        if len(word)%2==0:\n",
    "            print(word)\n",
    "\n",
    "# Driver Code\n",
    "s = \"i am muskan\"\n",
    "printWords(s)"
   ]
  },
  {
   "cell_type": "code",
   "execution_count": 33,
   "id": "a72b5a07",
   "metadata": {},
   "outputs": [
    {
     "name": "stdout",
     "output_type": "stream",
     "text": [
      "sunmontuewedthufrisat\n"
     ]
    }
   ],
   "source": [
    "list_1 = ['sun','mon','tue','wed','thu','fri','sat']\n",
    "str_1 =''.join(list_1)\n",
    "print(str_1)"
   ]
  },
  {
   "cell_type": "code",
   "execution_count": 36,
   "id": "285f2abb",
   "metadata": {},
   "outputs": [
    {
     "name": "stdout",
     "output_type": "stream",
     "text": [
      "sun mon tue wed thu fri sat\n"
     ]
    }
   ],
   "source": [
    "#list to string\n",
    "list = ['sun','mon','tue','wed','thu','fri','sat']\n",
    "\n",
    "#empty list to add list elements\n",
    "# string = \" \"\n",
    "# print(string.join(list))\n",
    "print(\" \".join(list))"
   ]
  },
  {
   "cell_type": "code",
   "execution_count": 37,
   "id": "9c3636a6",
   "metadata": {},
   "outputs": [
    {
     "name": "stdout",
     "output_type": "stream",
     "text": [
      "sun mon tue wed thu fri sat\n"
     ]
    }
   ],
   "source": [
    "print(\" \".join(['sun','mon','tue','wed','thu','fri','sat']))"
   ]
  },
  {
   "cell_type": "code",
   "execution_count": 38,
   "id": "1d0d90bd",
   "metadata": {},
   "outputs": [
    {
     "name": "stdout",
     "output_type": "stream",
     "text": [
      "Enter a stringSort Words in alphabetical order\n",
      "\n",
      "The words sorted in alphabetical order are as follows: \n",
      "alphabetical, in, order, sort, words\n"
     ]
    }
   ],
   "source": [
    "# 10. Python Program to Sort Words in Alphabetical Order and print as string with a comma and space deliminated.\n",
    "\n",
    "str_1 = input (\"Enter a string\")\n",
    "\n",
    "words = [word.lower () for word in str_1.split ()]\n",
    "\n",
    "words.sort ()\n",
    "\n",
    "print()\n",
    "\n",
    "print (\"The words sorted in alphabetical order are as follows: \")\n",
    "\n",
    "print (', '.join(word for word in words))"
   ]
  },
  {
   "cell_type": "code",
   "execution_count": 12,
   "id": "5ff7ca48",
   "metadata": {},
   "outputs": [
    {
     "name": "stdout",
     "output_type": "stream",
     "text": [
      "Enter a string that you want to arrange in alphabetical order: You can input different strings to test the program\n",
      "\n",
      "you, to, the, test, strings, program, input, different, can\n"
     ]
    }
   ],
   "source": [
    "# Python Program to Sort Words in reversed alphabetical Order using sorted \n",
    "# and print as string with a comma and space deliminated.\n",
    "\n",
    "def sortString (str_1):\n",
    "    words = [word.lower () for word in str_1.split ()]\n",
    "\n",
    "    return sorted(words, reverse=True)\n",
    "    \n",
    "strInput = input (\"Enter a string that you want to arrange in alphabetical order: \")\n",
    "\n",
    "print ()\n",
    "\n",
    "print (', '.join(word for word in sortString(strInput)))"
   ]
  },
  {
   "cell_type": "code",
   "execution_count": 21,
   "id": "6bbb3606",
   "metadata": {},
   "outputs": [
    {
     "name": "stdout",
     "output_type": "stream",
     "text": [
      "Enter any String: Enter a string that you want to arrange in alphabetical order You can input different strings to test the program\n",
      "starts with vowel ['Enter', 'a', 'alphabetical', 'arrange', 'in', 'input', 'order']\n"
     ]
    }
   ],
   "source": [
    "# Python program to check if string starts with vowel\n",
    "\n",
    "def checkVowelsInString(str_1):\n",
    "    words = [word for word in str_1.split() if word[0].lower() in 'aeiou']\n",
    "\n",
    "    return words\n",
    "\n",
    "# take inputs\n",
    "string = input('Enter any String: ')\n",
    "\n",
    "# check string starts with vowel or consonant\n",
    "print('starts with vowel',checkVowelsInString(string))"
   ]
  },
  {
   "cell_type": "code",
   "execution_count": null,
   "id": "b14ea2aa",
   "metadata": {},
   "outputs": [],
   "source": [
    "# Get user inputs as dictionary along with a key and remove a key from dictionary.\n",
    "\n",
    "# {\"Arushi\" : 22, \"Anuradha\" : 21, \"Mani\" : 21, \"Haritha\" : 21}\n",
    "\n",
    "import ast\n",
    "\n",
    "test_dict = ast.literal_eval(input('Input dictionary :'))\n",
    "\n",
    "key = input('Enter key to delete : ')\n",
    "  \n",
    "# Printing dictionary before removal\n",
    "print (\"The dictionary before performing remove is : \" + str(test_dict))\n",
    "\n",
    "try:\n",
    "    if key in test_dict: \n",
    "        # Using del to remove a dict\n",
    "        # removes Mani\n",
    "        del test_dict[key]\n",
    "\n",
    "    # Printing dictionary after removal\n",
    "    print (\"The dictionary after remove is : \" + str(test_dict))\n"
   ]
  }
 ],
 "metadata": {
  "kernelspec": {
   "display_name": "Python 3 (ipykernel)",
   "language": "python",
   "name": "python3"
  },
  "language_info": {
   "codemirror_mode": {
    "name": "ipython",
    "version": 3
   },
   "file_extension": ".py",
   "mimetype": "text/x-python",
   "name": "python",
   "nbconvert_exporter": "python",
   "pygments_lexer": "ipython3",
   "version": "3.9.7"
  }
 },
 "nbformat": 4,
 "nbformat_minor": 5
}
