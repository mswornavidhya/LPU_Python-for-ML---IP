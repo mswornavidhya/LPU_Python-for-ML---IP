{
 "cells": [
  {
   "cell_type": "markdown",
   "id": "36f53ddf",
   "metadata": {},
   "source": [
    "1. Name a few use cases where NumPy is useful. \n",
    "\n",
    "2. What is negative indexing in NumPy arrays? \n",
    "\n",
    "3. How are NumPy Arrays better than Lists in Python? \n",
    "\n",
    "4. Explain the data types supported by  NumPy. \n",
    "\n",
    "5. Python Program for Program to find the area of a circle using radius, with proper user prompt messages and result is printed with 2 decimal points.\n",
    "\n",
    "6. Write a Python program to interchange first and last elements in a list.\n",
    "\n",
    "7. Python program to print even length words in a string\n",
    "<pre>\n",
    "Input: s = \"This is a python language\"\n",
    "Output: This\n",
    "        is\n",
    "        python\n",
    "        language \n",
    "Input: s = \"i am muskan\"\n",
    "Output: am\n",
    "        muskan\n",
    "        \n",
    "8. How can you create Empty List, Tuple, set and dictionary In Python?\n",
    "\n",
    "9. How to convert a list ['sun','mon','tue','wed','thu','fri','sat'] into a string?\n",
    "\n",
    "10. Python Program to Sort Words in alphabetical order and print as string with a comma and space deliminated.\n",
    "\n",
    "11. Python Program to Sort Words in reversed alphabetical Order using sorted and print as string with a comma and space deliminated.\n",
    "\n",
    "12. Print words in a String starting with vowels in Python\n",
    "\n",
    "13. Get user inputs as dictionary along with a key and remove a key from dictionary with proper error handling."
   ]
  },
  {
   "cell_type": "code",
   "execution_count": null,
   "id": "54af6fa8",
   "metadata": {},
   "outputs": [],
   "source": [
    "# What is the output of this\n",
    "\n",
    "arr = np.array([[[10, 11, 12], [13, 14, 15], [16, 17, 18]], \n",
    "               [[20, 21, 22], [23, 24, 25], [26, 27, 28]], \n",
    "               [[30, 31, 32], [33, 34, 35], [36, 37, 38]]]) \n",
    " \n",
    "# print(arr[:2,1:,:2])"
   ]
  },
  {
   "cell_type": "code",
   "execution_count": null,
   "id": "7eee7495",
   "metadata": {},
   "outputs": [],
   "source": [
    "l = []\n",
    "t=( ,)\n",
    "s = set()\n",
    "d = {}"
   ]
  },
  {
   "cell_type": "code",
   "execution_count": 1,
   "id": "567f0869",
   "metadata": {},
   "outputs": [
    {
     "name": "stdout",
     "output_type": "stream",
     "text": [
      "<class 'tuple'> <class 'set'> <class 'dict'>\n"
     ]
    }
   ],
   "source": [
    "tuple1 = ()\n",
    "set1 = set()\n",
    "dict = {}\n",
    "\n",
    "print(type(tuple1),type(set1),type(dict))"
   ]
  },
  {
   "cell_type": "code",
   "execution_count": null,
   "id": "1041c335",
   "metadata": {},
   "outputs": [],
   "source": [
    "list-->[]\n",
    "tuple-->()\n",
    "set-->set([])\n",
    "dict-->{}"
   ]
  },
  {
   "cell_type": "code",
   "execution_count": 2,
   "id": "9d2fb596",
   "metadata": {},
   "outputs": [
    {
     "name": "stdout",
     "output_type": "stream",
     "text": [
      "Sort Words in alphabetical order\n",
      "t, t, s, r, r, r, r, p, o, o, o, n, l, l, i, i, h, e, e, d, d, c, b, a, a, a, W, S,  ,  ,  ,  \n"
     ]
    }
   ],
   "source": [
    "print(', '.join(sorted(input(),reverse=True)))"
   ]
  },
  {
   "cell_type": "code",
   "execution_count": 3,
   "id": "3411c2a0",
   "metadata": {},
   "outputs": [
    {
     "name": "stdout",
     "output_type": "stream",
     "text": [
      "Sort Words in alphabetical order\n",
      "order, in, alphabetical, Words, Sort\n"
     ]
    }
   ],
   "source": [
    "print(', '.join(sorted(input().split(),reverse=True)))"
   ]
  },
  {
   "cell_type": "code",
   "execution_count": 4,
   "id": "3f63340b",
   "metadata": {},
   "outputs": [
    {
     "name": "stdout",
     "output_type": "stream",
     "text": [
      "Sort Words in alphabetical order\n",
      "in\n",
      "alphabetical\n",
      "order\n"
     ]
    }
   ],
   "source": [
    "for i in input().split():\n",
    "    if i[0].lower() in 'aeiou':\n",
    "        print(i)"
   ]
  },
  {
   "cell_type": "code",
   "execution_count": null,
   "id": "b46c410b",
   "metadata": {},
   "outputs": [],
   "source": []
  }
 ],
 "metadata": {
  "kernelspec": {
   "display_name": "Python 3 (ipykernel)",
   "language": "python",
   "name": "python3"
  },
  "language_info": {
   "codemirror_mode": {
    "name": "ipython",
    "version": 3
   },
   "file_extension": ".py",
   "mimetype": "text/x-python",
   "name": "python",
   "nbconvert_exporter": "python",
   "pygments_lexer": "ipython3",
   "version": "3.9.7"
  }
 },
 "nbformat": 4,
 "nbformat_minor": 5
}
