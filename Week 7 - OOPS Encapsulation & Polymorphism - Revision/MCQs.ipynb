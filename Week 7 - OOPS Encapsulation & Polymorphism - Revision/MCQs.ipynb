{
 "cells": [
  {
   "cell_type": "markdown",
   "id": "b2a45ab3",
   "metadata": {},
   "source": [
    "1. Which of the following commands will create a list?\n",
    "* list1 = list()\n",
    "* list1 = []\n",
    "* list1 = list([1, 2, 3])\n",
    "* All of the mentioned"
   ]
  },
  {
   "cell_type": "markdown",
   "id": "418d7ace",
   "metadata": {},
   "source": [
    "2. What is the output when we execute list(“hello”)?\n",
    "*\t[‘h’, ‘e’, ‘l’, ‘l’, ‘o’].\n",
    "*\t[‘hello’].\n",
    "*\t[‘llo’].\n",
    "*\t[‘olleh’]."
   ]
  },
  {
   "cell_type": "markdown",
   "id": "5d378b12",
   "metadata": {},
   "source": [
    "3. Suppose tupleExample is (‘h’,’e’,’l’,’l’,’o’), what is len(tupleExample)?\n",
    "*\t5\n",
    "*\t4\n",
    "*\tNone\n",
    "*\tError\n",
    "\n"
   ]
  },
  {
   "cell_type": "markdown",
   "id": "6b8a7d57",
   "metadata": {},
   "source": [
    "4. Suppose list1 is [2445,133,12454,123], what is max(list1) ?\n",
    "*\t2445\n",
    "*\t133\n",
    "*\t12454\n",
    "*\t123\n",
    "\n"
   ]
  },
  {
   "cell_type": "markdown",
   "id": "7d08c342",
   "metadata": {},
   "source": [
    "5. Suppose list1 is [4, 2, 2, 4, 5, 2, 1, 0], Which of the following is correct syntax for slicing operation ?\n",
    "*\tprint(list1[0])\n",
    "*\tprint(list1[:2])\n",
    "*\tprint(list1[:-2])\n",
    "*\tAll of the mentioned"
   ]
  },
  {
   "cell_type": "markdown",
   "id": "70a3b7bb",
   "metadata": {},
   "source": [
    "6. Suppose list1 is [2, 33, 222, 14, 25], What is list1[:-1] ?\n",
    "* [2, 33, 222, 14].\n",
    "* Error\n",
    "* 25\n",
    "* [25, 14, 222, 33, 2]"
   ]
  },
  {
   "cell_type": "markdown",
   "id": "b2c42e87",
   "metadata": {},
   "source": [
    "7.  What is the output of the following code snippet?\n",
    "\n",
    "def example(a):<br>\n",
    "<span style=\"padding-left:2em\">a  = a+'2'</span><br>\n",
    "<span style=\"padding-left:2.5em\"> a = a*2</span><br>\n",
    "<span style=\"padding-left:2em\">return a<span><br><br>\n",
    "example('hello')\n",
    "\n",
    "* hello2hello2\n",
    "* Indentation Error\n",
    "* hello2\n",
    "* cannot perform mathematical operation on strings"
   ]
  },
  {
   "cell_type": "code",
   "execution_count": null,
   "id": "3ae6d417",
   "metadata": {},
   "outputs": [],
   "source": [
    "def example(a):\n",
    "    a = a+'2'\n",
    "     a = a*2\n",
    "    return a\n",
    "\n",
    "example('hello')"
   ]
  },
  {
   "cell_type": "markdown",
   "id": "b07aabc7",
   "metadata": {},
   "source": [
    "8. The output of which of the codes shown below will be: “There are 4 blue birds.”?\n",
    "* print(‘There are %g %d birds.’ %4 %blue)\n",
    "* print(‘There are %d %s birds.’ %(4, blue))\n",
    "* print(‘There are %s %d birds.’ %[4, blue])\n",
    "* print(‘There are %d %s birds.’ 4, blue)"
   ]
  },
  {
   "cell_type": "markdown",
   "id": "fa6dba63",
   "metadata": {},
   "source": [
    "9. Which of the following would give an error?\n",
    "* list1=[]\n",
    "* list1=[]*3\n",
    "* list1=[2,8,7]\n",
    "* None of the above"
   ]
  },
  {
   "cell_type": "markdown",
   "id": "7ae2655e",
   "metadata": {},
   "source": [
    "10. Select all options that print.<br>\n",
    "<b>hello-how-are-you<b>\n",
    "* print('hello-' + 'how-are-you')\n",
    "* print('hello' + '-' + 'how' + '-' + 'are' + 'you')\n",
    "* print('hello', 'how', 'are', 'you')\n",
    "* print('hello', 'how', 'are', 'you' + '-' * 4)"
   ]
  },
  {
   "cell_type": "markdown",
   "id": "3d36f6a4",
   "metadata": {},
   "source": [
    "11. Which of the following represents the bitwise XOR operator?\n",
    "* ^\n",
    "* !\n",
    "* |\n",
    "* &"
   ]
  },
  {
   "cell_type": "markdown",
   "id": "5dc6a41d",
   "metadata": {},
   "source": [
    "12. In python we do not specify types, it is directly interpreted by the compiler, so consider the\n",
    "following operation to be performed. <b style='color:red;'>x = 13 ? 2</b> objective is to make sure x has a integer value, select option(s) that apply\n",
    "* x = 13 % 2\n",
    "* x = 13 // 2\n",
    "* x = int(13 / 2)\n",
    "* All of the mentioned"
   ]
  },
  {
   "cell_type": "markdown",
   "id": "16535a5c",
   "metadata": {},
   "source": [
    "13. Which of the following is correct?<br>\n",
    "class Book:<br>\n",
    "&nbsp;&nbsp;&nbsp;def \\_\\_init\\_\\_(self,author):<br>\n",
    "&nbsp;&nbsp;&nbsp;&nbsp;&nbsp;&nbsp;self.author=author<br>\n",
    "<br>book1=Book(\"Michael\")<br>\n",
    "book2=book1\n",
    "\n",
    "* Both book1 and book2 will have reference to two different objects of class Book.<br>\n",
    "* id(book1) and id(book2) will have same value.<br>\n",
    "* It will throw error as multiple references to same object is not possible.<br>\n",
    "* None of the above<br>"
   ]
  },
  {
   "cell_type": "code",
   "execution_count": 2,
   "id": "08846681",
   "metadata": {},
   "outputs": [
    {
     "name": "stdout",
     "output_type": "stream",
     "text": [
      "2096215850624\n"
     ]
    },
    {
     "data": {
      "text/plain": [
       "2096215855488"
      ]
     },
     "execution_count": 2,
     "metadata": {},
     "output_type": "execute_result"
    }
   ],
   "source": [
    "list1 = [1,2,3,4]\n",
    "print(id(list1))\n",
    "list2 = list1.copy()\n",
    "id(list2)"
   ]
  },
  {
   "cell_type": "markdown",
   "id": "4ea7654a",
   "metadata": {},
   "source": [
    "14. What will be the output of below Python code?<br>\n",
    "class A:<br>\n",
    "&nbsp;&nbsp;&nbsp;def \\_\\_init\\_\\_(self,num):<br>\n",
    "&nbsp;&nbsp;&nbsp;&nbsp;&nbsp;&nbsp;num=3<br>\n",
    "&nbsp;&nbsp;&nbsp;&nbsp;&nbsp;&nbsp;self.num=num<br>\t\t\n",
    "&nbsp;&nbsp;&nbsp;def change(self):<br>\n",
    "&nbsp;&nbsp;&nbsp;&nbsp;&nbsp;&nbsp;self.num=7<br>\n",
    "a=A(5)<br>\n",
    "print(a.num)<br>\n",
    "a.change()<br>\n",
    "print(a.num)<br>\n",
    "\n",
    "\n",
    "\n",
    "* 5<br>\n",
    "7\n",
    "* 5<br>\n",
    "5\n",
    "* 3<br>\n",
    "3\n",
    "* 3<br>\n",
    "7"
   ]
  },
  {
   "cell_type": "markdown",
   "id": "026ab256",
   "metadata": {},
   "source": [
    "15. What will be the output of below Python code?<br>\n",
    "class A():<br>\n",
    "&nbsp;&nbsp;&nbsp;def \\_\\_init\\_\\_(self,count=100):<br>\n",
    "&nbsp;&nbsp;&nbsp;&nbsp;&nbsp;&nbsp;self.count=count<br><br>\n",
    "obj1=A()<br>\n",
    "obj2=A(102)<br>\n",
    "print(obj1.count)<br>\n",
    "print(obj2.count)<br>\n",
    "\n",
    "* 100<br>\n",
    "100\n",
    "* 100<br>\n",
    "102\n",
    "* 102<br>\n",
    "102\n",
    "* Error"
   ]
  },
  {
   "cell_type": "markdown",
   "id": "8cad6388",
   "metadata": {},
   "source": [
    "16. Which of the following is correct?<br>\n",
    "class A:<br>\n",
    "&nbsp;&nbsp;&nbsp;def \\_\\_init\\_\\_(self,name):<br>\n",
    "&nbsp;&nbsp;&nbsp;&nbsp;&nbsp;&nbsp;self.name=name<br><br>\n",
    "a1=A(\"sworna vidhya\")<br>\n",
    "a2=A(\"sworna vidhya\")\n",
    "\n",
    "* id(a1) and id(a2) will have same value.\n",
    "* id(a1) and id(a2) will have different values.\n",
    "* Two objects with same value of attribute cannot be created.\n",
    "* None of the above"
   ]
  },
  {
   "cell_type": "markdown",
   "id": "5c1c75ad",
   "metadata": {},
   "source": [
    "17. All classes have a function called?\n",
    "\n",
    "* \\_\\_init\\_\\_<br>\n",
    "* \\_\\_init\\_\\_()<br>\n",
    "* init<br>\n",
    "* init()"
   ]
  },
  {
   "cell_type": "markdown",
   "id": "408f7222",
   "metadata": {},
   "source": [
    "18. The \\________\\__ parameter is a reference to the current instance of the class, and is used to access variables that belong to the class.\n",
    "\n",
    "* \\_\\_init\\_\\_()\n",
    "* self\n",
    "* both A and B\n",
    "* None of the above"
   ]
  },
  {
   "cell_type": "markdown",
   "id": "41066dd2",
   "metadata": {},
   "source": [
    "19. The \\________\\__ parameter is a reference to the current instance of the class, and is used to access variables that belong to the class.\n",
    "\n",
    "* \\_\\_init\\_\\_()\n",
    "* self\n",
    "* both A and B\n",
    "* None of the above"
   ]
  },
  {
   "cell_type": "markdown",
   "id": "2462bbea",
   "metadata": {},
   "source": [
    "20. The class has a documentation string, which can be accessed via?\n",
    "\n",
    "* ClassName\n",
    "* ClassName \\_\\_doc\\_\\_\n",
    "* \\_\\_doc\\_\\_\n",
    "* ClassName.\\_\\_doc\\_\\_"
   ]
  },
  {
   "cell_type": "code",
   "execution_count": null,
   "id": "511fb8fe",
   "metadata": {},
   "outputs": [],
   "source": [
    "class MyClass:\n",
    "    def __init__(self,name=\"Python\"):\n",
    "        self.__doc__=name\n",
    "    \n",
    "    def setChange(value):\n",
    "        self.__doc__=value\n",
    "    \n",
    "    def displayValue():\n",
    "        return self.__doc__\n",
    "    \n",
    "a1 =MyClass()\n",
    "print(a1.displayValue())\n",
    "a1.setChange(\"Java\")\n",
    "print(a1.displayValue())"
   ]
  },
  {
   "cell_type": "markdown",
   "id": "a1293cfa",
   "metadata": {},
   "source": [
    "can a private variable be modified directly? If no, how i can do it?\n",
    "\n",
    "setValue\n",
    "\n",
    "setString\n",
    "\n",
    "def setString(value):\n"
   ]
  },
  {
   "cell_type": "markdown",
   "id": "791970ea",
   "metadata": {},
   "source": [
    "21. What will be the output of the following program on execution?<br>\n",
    "a=0<br>\n",
    "b=5<br>\n",
    "x=(a&b)|(a&a)|(a|b)<br>\n",
    "print(\"x\")\n",
    "\n",
    "* 1\n",
    "* 5\n",
    "* 0\n",
    "* None of the above\t"
   ]
  },
  {
   "cell_type": "markdown",
   "id": "e31289b0",
   "metadata": {},
   "source": [
    "22. What will be the output of the following program on execution?<br>\n",
    "if False:<br>\n",
    "&nbsp;&nbsp;&nbsp;print (\"inside if block\")<br>\n",
    "elif True:<br>\n",
    "&nbsp;&nbsp;&nbsp;print (\"inside elif block\")<br>\n",
    "else:<br>\n",
    "&nbsp;&nbsp;&nbsp;print (\"inside else block\")<br>\n",
    "\n",
    "* inside if block\n",
    "* inside elif block\n",
    "* inside else block\n",
    "* Error"
   ]
  },
  {
   "cell_type": "code",
   "execution_count": null,
   "id": "b622592a",
   "metadata": {},
   "outputs": [],
   "source": [
    "true = True\n",
    "True = True"
   ]
  },
  {
   "cell_type": "markdown",
   "id": "76cb69bd",
   "metadata": {},
   "source": [
    "23. Which of the following statements are correct?<br>\n",
    "(i) Python is a high level programming language<br>\n",
    "(ii) Python is an interpreted language<br>\n",
    "(iii) Python is a compiled language<br>\n",
    "(iv) Python program is compiled before it is interpreted<br>\n",
    "* i, ii\n",
    "* i, iv\n",
    "* ii, iii\n",
    "* ii, iv"
   ]
  },
  {
   "cell_type": "markdown",
   "id": "f9a71a00",
   "metadata": {},
   "source": [
    "24. What will be the output of following Python code snippet?<br>\n",
    "str1=\"012\"<br>\n",
    "num1=2<br>\n",
    "num2=0<br>\n",
    "for i in range(4):<br>\n",
    "&nbsp;&nbsp;&nbsp;&nbsp;&nbsp;&nbsp;num1+=2<br>\n",
    "&nbsp;&nbsp;&nbsp;&nbsp;&nbsp;&nbsp;for j in range(len(str1)):<br>\n",
    "&nbsp;&nbsp;&nbsp;&nbsp;&nbsp;&nbsp;&nbsp;&nbsp;&nbsp;&nbsp;&nbsp;&nbsp;num2=num2+num1<br>\n",
    "num3=num2%int(str1)<br>\n",
    "print(num3)\n",
    "* 7\n",
    "* Infinite Loop\n",
    "* 0\n",
    "* Error"
   ]
  },
  {
   "cell_type": "markdown",
   "id": "81f0faf0",
   "metadata": {},
   "source": [
    "25. Suppose we have two sets A & B, then A < B is:\n",
    "* True if len(A) is less than len(B).\n",
    "* True if A is a proper subset of B.\n",
    "* True if the elements in A when compared are less than the elements in B.\n",
    "* True if A is a proper superset of B."
   ]
  },
  {
   "cell_type": "markdown",
   "id": "426b8114",
   "metadata": {},
   "source": [
    "26. If __list1=[10,20,60,50]__<br>Which of the following will result in error? Name the type of error that occurs<br>\n",
    "(i) list1[3]=list1[2]<br>\n",
    "(ii) list1[3]=list1[4]<br>\n",
    "(iii) list1.insert(1,78)<br>\n",
    "(iv) list1.pop(50)\n",
    "* i, iii\n",
    "* i, iv\n",
    "* ii, iv\n",
    "* ii, iii"
   ]
  },
  {
   "cell_type": "markdown",
   "id": "b70662b3",
   "metadata": {},
   "source": [
    "27. If __str1=\"Programming Language\"__<br>\n",
    "What does str1.find(\"m\") return?<br>\n",
    "* Number of occurances of \"m\" in string str1.\n",
    "* Index positions of \"m\" in the string str1.\n",
    "* It returns the whole string str1 if it contains \"m\".\n",
    "* It returns the index position of first occurance of \"m\" in the string str1.\n",
    "\n",
    "\n",
    "import re\n",
    "\n",
    "pip "
   ]
  },
  {
   "cell_type": "markdown",
   "id": "5230f250",
   "metadata": {},
   "source": [
    "28 How to copy one list to another in python?\n",
    "\n",
    "* l1[] = l2[]\n",
    "* l1[] = l2\n",
    "* l1[] = l2[:]\n",
    "* l1 = l2"
   ]
  },
  {
   "cell_type": "markdown",
   "id": "e1a9f3cf",
   "metadata": {},
   "source": [
    "29. Can tuple be used as dictionary key in python?\n",
    "\n",
    "* True\n",
    "* False\n",
    "* Tuple is not used in python\n",
    "* None of the above"
   ]
  },
  {
   "cell_type": "code",
   "execution_count": 5,
   "id": "c738dfc4",
   "metadata": {},
   "outputs": [
    {
     "data": {
      "text/plain": [
       "{(1,): 'one'}"
      ]
     },
     "execution_count": 5,
     "metadata": {},
     "output_type": "execute_result"
    }
   ],
   "source": [
    "t1 = (1,)\n",
    "dict1 = {t1:'one'}\n",
    "dict1"
   ]
  },
  {
   "cell_type": "markdown",
   "id": "21424752",
   "metadata": {},
   "source": [
    "30. What is the output of the following program : print((1, 2) + (3, 4))\n",
    "\n",
    "* (1, 2), (3, 4)\n",
    "* (4, 6)\n",
    "* (1, 2, 3, 4)\n",
    "* Invalid Syntax"
   ]
  },
  {
   "cell_type": "markdown",
   "id": "6379c1ed",
   "metadata": {},
   "source": [
    "31. Which of the following is not valid variable name in Python?\n",
    "\n",
    "* \\_var\n",
    "* var_name\n",
    "* var11\n",
    "* 11var"
   ]
  },
  {
   "cell_type": "markdown",
   "id": "28dec8b7",
   "metadata": {},
   "source": [
    "32. All keyword in python are in\n",
    "\n",
    "* Lowercase\n",
    "* Uppercase\n",
    "* Both uppercase & Lowercase\n",
    "* None of the above\n",
    "\n",
    "True, False, None"
   ]
  },
  {
   "cell_type": "markdown",
   "id": "38615595",
   "metadata": {},
   "source": [
    "33. Which of the following is False regarding loops in Python?\n",
    "\n",
    "* Loops are used to perform certain tasks repeatedly.\n",
    "* While loop is used when multiple statements are to executed repeatedly until the given condition becomes False\n",
    "* While loop is used when multiple statements are to executed repeatedly until the given condition becomes True.\n",
    "* for loop can be used to iterate through the elements of lists."
   ]
  },
  {
   "cell_type": "markdown",
   "id": "22760831",
   "metadata": {},
   "source": [
    "34. What will be output of this expression:<br>\n",
    "'p' + 'q' if '12'.isdigit() else 'r' + 's'\n",
    "* pq\n",
    "* rs\n",
    "* pqrs\n",
    "* pq12"
   ]
  },
  {
   "cell_type": "code",
   "execution_count": 6,
   "id": "978f4756",
   "metadata": {},
   "outputs": [
    {
     "data": {
      "text/plain": [
       "'pq'"
      ]
     },
     "execution_count": 6,
     "metadata": {},
     "output_type": "execute_result"
    }
   ],
   "source": [
    "'p' + 'q' if '12'.isdigit() else 'r' + 's'"
   ]
  },
  {
   "cell_type": "markdown",
   "id": "53291be1",
   "metadata": {},
   "source": [
    "35. The ________ statement is a null operation.\n",
    "\n",
    "* break\n",
    "* exit\n",
    "* return\n",
    "* pass\n",
    "\n",
    "yield -- "
   ]
  },
  {
   "cell_type": "markdown",
   "id": "556011b4",
   "metadata": {},
   "source": [
    "36. If return statement is not used inside the function, the function will return:\n",
    "\n",
    "* None\n",
    "* 0\n",
    "* Null\n",
    "* Arbitary value"
   ]
  },
  {
   "cell_type": "markdown",
   "id": "53f1fb8f",
   "metadata": {},
   "source": [
    "37. Which of the following function headers is correct?\n",
    "\n",
    "* def fun(a = 2, b = 3, c)\n",
    "* def fun(a = 2, b, c = 3)\n",
    "* def fun(a, b = 2, c = 3)\n",
    "* def fun(a, b, c = 3, d)"
   ]
  },
  {
   "cell_type": "markdown",
   "id": "b7bfd708",
   "metadata": {},
   "source": [
    "38. A return statement with _____ arguments.\n",
    "\n",
    "* No\n",
    "* 1\n",
    "* 2\n",
    "* Any\n",
    "def retfun():\n",
    "return one, two, there, foru,[lsot],{1:'2'}\n",
    "\n",
    "a,b,c,d,e,f = retfun()"
   ]
  },
  {
   "cell_type": "markdown",
   "id": "0ccf16c6",
   "metadata": {},
   "source": [
    "39. ___________ are the arguments passed to a function in correct positional order.\n",
    "\n",
    "* Required arguments\n",
    "* Keyword arguments\n",
    "* Default arguments\n",
    "* Variable-length arguments"
   ]
  },
  {
   "cell_type": "markdown",
   "id": "79f612a5",
   "metadata": {},
   "source": [
    "40. In Python, how are arguments passed?\n",
    "\n",
    "* pass by value\n",
    "* pass by reference\n",
    "* It gives options to user to choose\n",
    "* Both A and B"
   ]
  },
  {
   "cell_type": "markdown",
   "id": "fd3261a6",
   "metadata": {},
   "source": [
    "41. What will be the output of the following Python code?<br>\n",
    "def function1(var1):<br>\n",
    "&nbsp;&nbsp;&nbsp;&nbsp;&nbsp;&nbsp;var1=var1+10<br>\n",
    "&nbsp;&nbsp;&nbsp;&nbsp;&nbsp;&nbsp;print (var1)<br>\n",
    "var1=12<br>\n",
    "function1(var1)<br>\n",
    "print(var1)\n",
    "\n",
    "* 22<br>\n",
    "22\n",
    "* 12<br>\n",
    "12\n",
    "* 22<br>\n",
    "12\n",
    "* 12<br>\n",
    "22"
   ]
  },
  {
   "cell_type": "markdown",
   "id": "ace2aed0",
   "metadata": {},
   "source": [
    "42. Given a function that does not return any value, What value is thrown by default when executed in shell.\n",
    "* int\n",
    "* bool\n",
    "* void\n",
    "* None"
   ]
  },
  {
   "cell_type": "markdown",
   "id": "7957c3c5",
   "metadata": {},
   "source": [
    "43. Which of the following will run without errors?\n",
    "* round(45.8)\n",
    "* round(6352.898,2,5)\n",
    "* round()\n",
    "* round(7463.123,2,1)"
   ]
  },
  {
   "cell_type": "markdown",
   "id": "46a19cad",
   "metadata": {},
   "source": [
    "44. What is the return type of function id?\n",
    "* int\n",
    "* float\n",
    "* bool\n",
    "* dict"
   ]
  },
  {
   "cell_type": "markdown",
   "id": "41e9b1c0",
   "metadata": {},
   "source": [
    "45. Which of the following results in a SyntaxError?\n",
    "* '\"Once upon a time…\", she said.'\n",
    "* \"He said, 'Yes!'\"\n",
    "* '3\\'\n",
    "* \"'That’s okay\"'"
   ]
  },
  {
   "cell_type": "markdown",
   "id": "9253c0ef",
   "metadata": {},
   "source": [
    "46. What is the average value of the following Python code snippet?\n",
    "<pre>\n",
    ">>>grade1 = 120\n",
    ">>>grade2 = 95\n",
    ">>>average = (grade1 + grade2) / 2\n",
    "* 106.5\n",
    "* 105.0\n",
    "* 107.5\n",
    "* 106.05"
   ]
  },
  {
   "cell_type": "markdown",
   "id": "586d4a81",
   "metadata": {},
   "source": [
    "47. What is the return value of trunc()?\n",
    "* int\n",
    "* bool\n",
    "* float\n",
    "* None"
   ]
  },
  {
   "cell_type": "markdown",
   "id": "4079b47f",
   "metadata": {},
   "source": [
    "48. What will be the output of the following Python code snippet?<br>\n",
    "print('a@ 1,'.islower())\n",
    "\n",
    "* Error\n",
    "* True\n",
    "* False\n",
    "* None"
   ]
  },
  {
   "cell_type": "markdown",
   "id": "4710fe56",
   "metadata": {},
   "source": [
    "49. What will be the output of the following Python code snippet?\n",
    "print('abcd'.partition('cd'))\n",
    "\n",
    "* error\n",
    "* ('ab', 'cd')\n",
    "* ('ab', 'cd', '')\n",
    "* none of the mentioned"
   ]
  },
  {
   "cell_type": "markdown",
   "id": "bdfc2527",
   "metadata": {},
   "source": [
    "50. What will be the output of the following Python code?<br>\n",
    "class Count:<br>\n",
    "&nbsp;&nbsp;&nbsp;&nbsp;&nbsp;&nbsp;def \\_\\_init\\_\\_(self, count = 0):<br>\n",
    "&nbsp;&nbsp;&nbsp;&nbsp;&nbsp;&nbsp;&nbsp;&nbsp;&nbsp;&nbsp;&nbsp;&nbsp;self.\\_\\_count = count<br><br>\n",
    "c1 = Count(2)<br>\n",
    "c2 = Count(2)<br>\n",
    "print(id(c1) == id(c2), end = \" \")<br><br>\n",
    "s1 = \"Good\"<br>\n",
    "s2 = \"Good\"<br>\n",
    "print(id(s1) == id(s2))\n",
    "\n",
    "* False False\n",
    "* False True\n",
    "* True True\n",
    "* True False"
   ]
  }
 ],
 "metadata": {
  "kernelspec": {
   "display_name": "Python 3 (ipykernel)",
   "language": "python",
   "name": "python3"
  },
  "language_info": {
   "codemirror_mode": {
    "name": "ipython",
    "version": 3
   },
   "file_extension": ".py",
   "mimetype": "text/x-python",
   "name": "python",
   "nbconvert_exporter": "python",
   "pygments_lexer": "ipython3",
   "version": "3.9.7"
  }
 },
 "nbformat": 4,
 "nbformat_minor": 5
}
