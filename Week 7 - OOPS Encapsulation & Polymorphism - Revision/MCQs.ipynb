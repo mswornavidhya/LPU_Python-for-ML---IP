{
 "cells": [
  {
   "cell_type": "markdown",
   "id": "b2a45ab3",
   "metadata": {},
   "source": [
    "1. Which of the following commands will create a list?\n",
    "* list1 = list()\n",
    "* list1 = []\n",
    "* list1 = list([1, 2, 3])\n",
    "* All of the mentioned"
   ]
  },
  {
   "cell_type": "markdown",
   "id": "418d7ace",
   "metadata": {},
   "source": [
    "2. What is the output when we execute list(“hello”)?\n",
    "*\t[‘h’, ‘e’, ‘l’, ‘l’, ‘o’].\n",
    "*\t[‘hello’].\n",
    "*\t[‘llo’].\n",
    "*\t[‘olleh’]."
   ]
  },
  {
   "cell_type": "markdown",
   "id": "5d378b12",
   "metadata": {},
   "source": [
    "3. Suppose tupleExample is (‘h’,’e’,’l’,’l’,’o’), what is len(tupleExample)?\n",
    "*\t5\n",
    "*\t4\n",
    "*\tNone\n",
    "*\tError\n",
    "\n"
   ]
  },
  {
   "cell_type": "markdown",
   "id": "6b8a7d57",
   "metadata": {},
   "source": [
    "4. Suppose list1 is [2445,133,12454,123], what is max(list1) ?\n",
    "*\t2445\n",
    "*\t133\n",
    "*\t12454\n",
    "*\t123\n",
    "\n"
   ]
  },
  {
   "cell_type": "markdown",
   "id": "7d08c342",
   "metadata": {},
   "source": [
    "5. Suppose list1 is [4, 2, 2, 4, 5, 2, 1, 0], Which of the following is correct syntax for slicing operation ?\n",
    "*\tprint(list1[0])\n",
    "*\tprint(list1[:2])\n",
    "*\tprint(list1[:-2])\n",
    "*\tAll of the mentioned"
   ]
  },
  {
   "cell_type": "markdown",
   "id": "70a3b7bb",
   "metadata": {},
   "source": [
    "6. Suppose list1 is [2, 33, 222, 14, 25], What is list1[:-1] ?\n",
    "* [2, 33, 222, 14].\n",
    "* Error\n",
    "* 25\n",
    "* [25, 14, 222, 33, 2]"
   ]
  },
  {
   "cell_type": "markdown",
   "id": "b2c42e87",
   "metadata": {},
   "source": [
    "7.  What is the output of the following code snippet?\n",
    "\n",
    "def example(a):<br>\n",
    "<span style=\"padding-left:2em\">a  = a+'2'</span><br>\n",
    "<span style=\"padding-left:2.5em\"> a = a*2</span><br>\n",
    "<span style=\"padding-left:2em\">return a<span><br>\n",
    "example('hello')\n",
    "\n",
    "* hello2hello2\n",
    "* Indentation Error\n",
    "* hello2\n",
    "* cannot perform mathematical operation on strings"
   ]
  },
  {
   "cell_type": "markdown",
   "id": "b07aabc7",
   "metadata": {},
   "source": [
    "8. The output of which of the codes shown below will be: “There are 4 blue birds.”?\n",
    "* print(‘There are %g %d birds.’ %4 %blue)\n",
    "* print(‘There are %d %s birds.’ %(4, blue))\n",
    "* print(‘There are %s %d birds.’ %[4, blue])\n",
    "* print(‘There are %d %s birds.’ 4, blue)"
   ]
  },
  {
   "cell_type": "markdown",
   "id": "fa6dba63",
   "metadata": {},
   "source": [
    "9. Which of the following would give an error?\n",
    "* list1=[]\n",
    "* list1=[]*3\n",
    "* list1=[2,8,7]\n",
    "* None of the above"
   ]
  },
  {
   "cell_type": "markdown",
   "id": "7ae2655e",
   "metadata": {},
   "source": [
    "10. Select all options that print.<br>\n",
    "<b>hello-how-are-you<b>\n",
    "* print('hello-' + 'how-are-you')\n",
    "* print('hello' + '-' + 'how' + '-' + 'are' + 'you')\n",
    "* print('hello', 'how', 'are', 'you')\n",
    "* print('hello', 'how', 'are', 'you' + '-' * 4)"
   ]
  },
  {
   "cell_type": "markdown",
   "id": "3d36f6a4",
   "metadata": {},
   "source": [
    "11. Which of the following represents the bitwise XOR operator?\n",
    "* ^\n",
    "* !\n",
    "* |\n",
    "* &"
   ]
  },
  {
   "cell_type": "markdown",
   "id": "5dc6a41d",
   "metadata": {},
   "source": [
    "12. In python we do not specify types, it is directly interpreted by the compiler, so consider the\n",
    "following operation to be performed. <b style='color:red;'>x = 13 ? 2</b> objective is to make sure x has a integer value, select option(s) that apply\n",
    "* x = 13 % 2\n",
    "* x = 13 // 2\n",
    "* All of the mentioned\n",
    "* x = int(13 / 2)"
   ]
  },
  {
   "cell_type": "code",
   "execution_count": null,
   "id": "f933fabd",
   "metadata": {},
   "outputs": [],
   "source": []
  }
 ],
 "metadata": {
  "kernelspec": {
   "display_name": "Python 3 (ipykernel)",
   "language": "python",
   "name": "python3"
  },
  "language_info": {
   "codemirror_mode": {
    "name": "ipython",
    "version": 3
   },
   "file_extension": ".py",
   "mimetype": "text/x-python",
   "name": "python",
   "nbconvert_exporter": "python",
   "pygments_lexer": "ipython3",
   "version": "3.9.7"
  }
 },
 "nbformat": 4,
 "nbformat_minor": 5
}
