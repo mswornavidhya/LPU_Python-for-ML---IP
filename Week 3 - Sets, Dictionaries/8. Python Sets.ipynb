{
 "cells": [
  {
   "cell_type": "markdown",
   "id": "37d55f7a",
   "metadata": {},
   "source": [
    "# Set\n",
    "- Sets are used to store multiple items in a single variable.\n",
    "\n",
    "- A set is a collection which is unordered, unchangeable*, and unindexed.\n",
    "\n",
    "- Set items are unchangeable, but you can remove items and add new items\n",
    "\n",
    "# Properties\n",
    "## Set Items\n",
    "- Set items are unordered, unchangeable, and do not allow duplicate values.\n",
    "\n",
    "## Unordered\n",
    "- Unordered means that the items in a set do not have a defined order.\n",
    "\n",
    "- Set items can appear in a different order every time you use them, and cannot be referred to by index or key.\n",
    "\n",
    "## Unchangeable\n",
    "- Set items are unchangeable, meaning that we cannot change the items after the set has been created."
   ]
  },
  {
   "cell_type": "markdown",
   "id": "bd496ba3",
   "metadata": {},
   "source": [
    "# 1. Python Sets"
   ]
  },
  {
   "cell_type": "markdown",
   "id": "86bc9050",
   "metadata": {},
   "source": [
    "## a. Create empty set"
   ]
  },
  {
   "cell_type": "code",
   "execution_count": 1,
   "id": "83c88f65",
   "metadata": {},
   "outputs": [
    {
     "name": "stdout",
     "output_type": "stream",
     "text": [
      "{}\n",
      "<class 'set'>\n"
     ]
    }
   ],
   "source": [
    "#Method-1\n",
    "set1 = {}\n",
    "print(set1)\n",
    "print(type(set()))"
   ]
  },
  {
   "cell_type": "code",
   "execution_count": 2,
   "id": "81e40df4",
   "metadata": {},
   "outputs": [
    {
     "name": "stdout",
     "output_type": "stream",
     "text": [
      "set()\n",
      "<class 'set'>\n"
     ]
    }
   ],
   "source": [
    "#Method-2\n",
    "set1 = set()\n",
    "print(set1)\n",
    "print(type(set()))"
   ]
  },
  {
   "cell_type": "markdown",
   "id": "c91a2dc7",
   "metadata": {},
   "source": [
    "## b. Duplicates Not Allowed\n",
    "- Sets cannot have two items with the same value."
   ]
  },
  {
   "cell_type": "code",
   "execution_count": 3,
   "id": "46ecccce",
   "metadata": {},
   "outputs": [
    {
     "name": "stdout",
     "output_type": "stream",
     "text": [
      "All the duplicate elements are removed :  {'apple', 'banana', 'cherry'}\n"
     ]
    }
   ],
   "source": [
    "set1 = {\"apple\", \"banana\", \"cherry\", \"apple\"} # duplicate elements in the set\n",
    "print(\"All the duplicate elements are removed : \",set1)"
   ]
  },
  {
   "cell_type": "markdown",
   "id": "83cc7b4d",
   "metadata": {},
   "source": [
    "## c. Get the Length of a Set\n",
    "- To determine how many items a set has, use the len() method"
   ]
  },
  {
   "cell_type": "code",
   "execution_count": 4,
   "id": "76932132",
   "metadata": {},
   "outputs": [
    {
     "name": "stdout",
     "output_type": "stream",
     "text": [
      "Number of elements in the set :  4\n"
     ]
    }
   ],
   "source": [
    "set1 = {\"apple\", \"banana\", \"cherry\", \"papaya\"}\n",
    "\n",
    "print(\"Number of elements in the set : \",len(set1))"
   ]
  },
  {
   "cell_type": "markdown",
   "id": "18597635",
   "metadata": {},
   "source": [
    "## d. Set- Data Types"
   ]
  },
  {
   "cell_type": "code",
   "execution_count": 5,
   "id": "a2a9b68e",
   "metadata": {},
   "outputs": [
    {
     "name": "stdout",
     "output_type": "stream",
     "text": [
      "String Sets :  {'apple', 'banana', 'cherry'}\n",
      "Numerical Sets :  {1, 3, 5, 7, 9}\n",
      "Boolean Sets :  {False, True}\n"
     ]
    }
   ],
   "source": [
    "set1 = {\"apple\", \"banana\", \"cherry\"}\n",
    "set2 = {1, 5, 7, 9, 3}\n",
    "set3 = {True, False, False}\n",
    "print(\"String Sets : \",set1)\n",
    "print(\"Numerical Sets : \",set2)\n",
    "print(\"Boolean Sets : \",set3)"
   ]
  },
  {
   "cell_type": "code",
   "execution_count": 6,
   "id": "491969d5",
   "metadata": {},
   "outputs": [
    {
     "name": "stdout",
     "output_type": "stream",
     "text": [
      "Combined Sets :  {True, 34, 40, 'abc', 'male'}\n"
     ]
    }
   ],
   "source": [
    "#combined sets\n",
    "set1 = {\"abc\", 34, True, 40, \"male\"}\n",
    "print(\"Combined Sets : \",set1)"
   ]
  },
  {
   "cell_type": "markdown",
   "id": "a2af53b6",
   "metadata": {},
   "source": [
    "# 2. Access Set Items"
   ]
  },
  {
   "cell_type": "markdown",
   "id": "ac1f77ca",
   "metadata": {},
   "source": [
    "## a. Access Items\n",
    "- You cannot access items in a set by referring to an index or a key.\n",
    "\n",
    "- But you can loop through the set items using a for loop, or ask if a specified value is present in a set, by using the in keyword."
   ]
  },
  {
   "cell_type": "code",
   "execution_count": 7,
   "id": "bd4247b0",
   "metadata": {},
   "outputs": [
    {
     "name": "stdout",
     "output_type": "stream",
     "text": [
      "apple\n",
      "banana\n",
      "papaya\n",
      "cherry\n"
     ]
    }
   ],
   "source": [
    "set1 = {\"apple\", \"banana\", \"cherry\", \"papaya\"}\n",
    "for x in set1:\n",
    "    print(x)"
   ]
  },
  {
   "cell_type": "code",
   "execution_count": 8,
   "id": "6e8fac93",
   "metadata": {},
   "outputs": [
    {
     "name": "stdout",
     "output_type": "stream",
     "text": [
      "True\n"
     ]
    }
   ],
   "source": [
    "#Check if \"cherry\" is present in the set:\n",
    "set1 = {\"apple\", \"banana\", \"cherry\", \"papaya\"}\n",
    "print(\"cherry\" in set1)"
   ]
  },
  {
   "cell_type": "markdown",
   "id": "e27429ac",
   "metadata": {},
   "source": [
    "## b. Change Items\n",
    "- Once a set is created, you cannot change its items, but you can add new items."
   ]
  },
  {
   "cell_type": "code",
   "execution_count": 9,
   "id": "d943df3b",
   "metadata": {},
   "outputs": [
    {
     "ename": "TypeError",
     "evalue": "'set' object does not support item assignment",
     "output_type": "error",
     "traceback": [
      "\u001b[1;31m---------------------------------------------------------------------------\u001b[0m",
      "\u001b[1;31mTypeError\u001b[0m                                 Traceback (most recent call last)",
      "\u001b[1;32m<ipython-input-9-41d2b175ec6e>\u001b[0m in \u001b[0;36m<module>\u001b[1;34m\u001b[0m\n\u001b[1;32m----> 1\u001b[1;33m \u001b[0mset1\u001b[0m\u001b[1;33m[\u001b[0m\u001b[1;36m1\u001b[0m\u001b[1;33m]\u001b[0m \u001b[1;33m=\u001b[0m \u001b[1;34m\"watermelon\"\u001b[0m \u001b[1;31m#error\u001b[0m\u001b[1;33m\u001b[0m\u001b[1;33m\u001b[0m\u001b[0m\n\u001b[0m",
      "\u001b[1;31mTypeError\u001b[0m: 'set' object does not support item assignment"
     ]
    }
   ],
   "source": [
    "set1[1] = \"watermelon\" #error"
   ]
  },
  {
   "cell_type": "markdown",
   "id": "4ca2ffad",
   "metadata": {},
   "source": [
    "# 3. Add Set Items"
   ]
  },
  {
   "cell_type": "markdown",
   "id": "96650952",
   "metadata": {},
   "source": [
    "## a. Add Items\n",
    "- Once a set is created, you cannot change its items, but you can add new items."
   ]
  },
  {
   "cell_type": "code",
   "execution_count": 10,
   "id": "c2089062",
   "metadata": {},
   "outputs": [
    {
     "name": "stdout",
     "output_type": "stream",
     "text": [
      "{'orange', 'papaya', 'cherry', 'apple', 'banana'}\n"
     ]
    }
   ],
   "source": [
    "set1 = {\"apple\", \"banana\", \"cherry\", \"papaya\"}\n",
    "set1.add(\"orange\")\n",
    "print(set1)"
   ]
  },
  {
   "cell_type": "markdown",
   "id": "a0b13471",
   "metadata": {},
   "source": [
    "## b. Add Sets\n",
    "- To add items from another set into the current set, use the update() method."
   ]
  },
  {
   "cell_type": "code",
   "execution_count": 11,
   "id": "964be920",
   "metadata": {},
   "outputs": [
    {
     "name": "stdout",
     "output_type": "stream",
     "text": [
      "Elements in set-1 :  {'apple', 'banana', 'cherry'}\n",
      "Elements in set-2 :  {'papaya', 'mango', 'pineapple'}\n",
      "Updated elements in set-1 :  {'apple', 'banana', 'mango', 'papaya', 'cherry', 'pineapple'}\n"
     ]
    }
   ],
   "source": [
    "set1 = {\"apple\", \"banana\", \"cherry\"}\n",
    "set2 = {\"pineapple\", \"mango\", \"papaya\"}\n",
    "print(\"Elements in set-1 : \",set1)\n",
    "print(\"Elements in set-2 : \",set2)\n",
    "set1.update(set2) #update set-1 and add set-2 elements in set-1\n",
    "print(\"Updated elements in set-1 : \",set1)"
   ]
  },
  {
   "cell_type": "markdown",
   "id": "408382f1",
   "metadata": {},
   "source": [
    "## c. Add Any Iterable\n",
    "- The object in the update() method does not have to be a set, it can be any iterable object (tuples, lists, dictionaries etc.)."
   ]
  },
  {
   "cell_type": "code",
   "execution_count": 12,
   "id": "901d8dc1",
   "metadata": {},
   "outputs": [
    {
     "name": "stdout",
     "output_type": "stream",
     "text": [
      "Elements in set-1 :  {'apple', 'banana', 'cherry'}\n",
      "Elements in list-1 :  ['kiwi', 'orange']\n",
      "Updated elements in set-1 :  {'orange', 'cherry', 'kiwi', 'apple', 'banana'}\n"
     ]
    }
   ],
   "source": [
    "#Add elements of a list to at set:\n",
    "\n",
    "set1 = {\"apple\", \"banana\", \"cherry\"}\n",
    "list1 = [\"kiwi\", \"orange\"]\n",
    "print(\"Elements in set-1 : \",set1)\n",
    "print(\"Elements in list-1 : \",list1)\n",
    "set1.update(list1) #update set-1 and add list-1 elements in set-1\n",
    "print(\"Updated elements in set-1 : \",set1)"
   ]
  },
  {
   "cell_type": "markdown",
   "id": "5d0d5a4a",
   "metadata": {},
   "source": [
    "# 4. Remove Set Items"
   ]
  },
  {
   "cell_type": "markdown",
   "id": "98a6e6f3",
   "metadata": {},
   "source": [
    "## a. Remove Function\n",
    "- To remove an item in a set, use the remove(), or the discard() method"
   ]
  },
  {
   "cell_type": "code",
   "execution_count": 13,
   "id": "11ca0223",
   "metadata": {},
   "outputs": [
    {
     "name": "stdout",
     "output_type": "stream",
     "text": [
      "Original set :  {'apple', 'banana', 'papaya', 'cherry'}\n",
      "Updated set after using remove function :  {'apple', 'banana', 'papaya'}\n"
     ]
    }
   ],
   "source": [
    "set1 = {\"apple\", \"banana\", \"cherry\", \"papaya\"}\n",
    "print(\"Original set : \",set1)\n",
    "set1.remove(\"cherry\") #removing an item from set\n",
    "print(\"Updated set after using remove function : \",set1)"
   ]
  },
  {
   "cell_type": "markdown",
   "id": "c42ab04a",
   "metadata": {},
   "source": [
    "## b. Discard Function"
   ]
  },
  {
   "cell_type": "code",
   "execution_count": 14,
   "id": "79f17255",
   "metadata": {},
   "outputs": [
    {
     "name": "stdout",
     "output_type": "stream",
     "text": [
      "Original set :  {'apple', 'banana', 'papaya', 'cherry'}\n",
      "Updated set after using remove function :  {'apple', 'banana', 'papaya'}\n"
     ]
    }
   ],
   "source": [
    "set1 = {\"apple\", \"banana\", \"cherry\", \"papaya\"}\n",
    "print(\"Original set : \",set1)\n",
    "set1.discard(\"cherry\") #discarding an item from set\n",
    "print(\"Updated set after using remove function : \",set1)"
   ]
  },
  {
   "cell_type": "markdown",
   "id": "e50ac8a2",
   "metadata": {},
   "source": [
    "<b> If the item to remove does not exist, discard() will NOT raise an error, where as remove will raise an error."
   ]
  },
  {
   "cell_type": "code",
   "execution_count": 15,
   "id": "edd10a2a",
   "metadata": {},
   "outputs": [
    {
     "ename": "KeyError",
     "evalue": "'parmeet'",
     "output_type": "error",
     "traceback": [
      "\u001b[1;31m---------------------------------------------------------------------------\u001b[0m",
      "\u001b[1;31mKeyError\u001b[0m                                  Traceback (most recent call last)",
      "\u001b[1;32m<ipython-input-15-fe52a3ee25b4>\u001b[0m in \u001b[0;36m<module>\u001b[1;34m\u001b[0m\n\u001b[1;32m----> 1\u001b[1;33m \u001b[0mset1\u001b[0m\u001b[1;33m.\u001b[0m\u001b[0mremove\u001b[0m\u001b[1;33m(\u001b[0m\u001b[1;34m\"parmeet\"\u001b[0m\u001b[1;33m)\u001b[0m \u001b[1;31m#element doesnot exist and it will raise an error\u001b[0m\u001b[1;33m\u001b[0m\u001b[1;33m\u001b[0m\u001b[0m\n\u001b[0m",
      "\u001b[1;31mKeyError\u001b[0m: 'parmeet'"
     ]
    }
   ],
   "source": [
    "set1.remove(\"parmeet\") #element doesnot exist and it will raise an error"
   ]
  },
  {
   "cell_type": "code",
   "execution_count": 16,
   "id": "9f09853a",
   "metadata": {},
   "outputs": [],
   "source": [
    "set1.discard(\"parmeet\") #element doesnot exist and it will not raise an error"
   ]
  },
  {
   "cell_type": "markdown",
   "id": "4f653058",
   "metadata": {},
   "source": [
    "<b> You can also use the pop() method to remove an item, but this method will remove the last item. Remember that sets are unordered, so you will not know what item that gets removed.\n",
    "\n",
    "The return value of the pop() method is the removed item."
   ]
  },
  {
   "cell_type": "markdown",
   "id": "7c67630f",
   "metadata": {},
   "source": [
    "## c. Pop Function"
   ]
  },
  {
   "cell_type": "code",
   "execution_count": 17,
   "id": "f8f0e083",
   "metadata": {},
   "outputs": [
    {
     "name": "stdout",
     "output_type": "stream",
     "text": [
      "Original set  {'apple', 'banana', 'papaya', 'cherry'}\n",
      "Popped item :  apple\n",
      "Updated set  {'banana', 'papaya', 'cherry'}\n"
     ]
    }
   ],
   "source": [
    "set1 = {\"apple\", \"banana\", \"cherry\", \"papaya\"}\n",
    "print(\"Original set \",set1)\n",
    "popped_item = set1.pop() #popping/removing item\n",
    "print(\"Popped item : \",popped_item)\n",
    "print(\"Updated set \",set1)"
   ]
  },
  {
   "cell_type": "markdown",
   "id": "2aed0789",
   "metadata": {},
   "source": [
    "## d. Clear Function"
   ]
  },
  {
   "cell_type": "code",
   "execution_count": 18,
   "id": "c296890f",
   "metadata": {},
   "outputs": [
    {
     "name": "stdout",
     "output_type": "stream",
     "text": [
      "Original Set :  {'apple', 'banana', 'papaya', 'cherry'}\n",
      "Updated Set :  set()\n"
     ]
    }
   ],
   "source": [
    "set1 = {\"apple\", \"banana\", \"cherry\", \"papaya\"}\n",
    "print(\"Original Set : \",set1)\n",
    "set1.clear() #clear the elements in the set\n",
    "print(\"Updated Set : \",set1)"
   ]
  },
  {
   "cell_type": "markdown",
   "id": "53ba2680",
   "metadata": {},
   "source": [
    "## e. del keyword"
   ]
  },
  {
   "cell_type": "code",
   "execution_count": 19,
   "id": "b35ab3fa",
   "metadata": {},
   "outputs": [
    {
     "name": "stdout",
     "output_type": "stream",
     "text": [
      "Original Set :  {'apple', 'banana', 'cherry'}\n"
     ]
    },
    {
     "ename": "NameError",
     "evalue": "name 'set1' is not defined",
     "output_type": "error",
     "traceback": [
      "\u001b[1;31m---------------------------------------------------------------------------\u001b[0m",
      "\u001b[1;31mNameError\u001b[0m                                 Traceback (most recent call last)",
      "\u001b[1;32m<ipython-input-19-3022c818cac5>\u001b[0m in \u001b[0;36m<module>\u001b[1;34m\u001b[0m\n\u001b[0;32m      3\u001b[0m \u001b[0mprint\u001b[0m\u001b[1;33m(\u001b[0m\u001b[1;34m\"Original Set : \"\u001b[0m\u001b[1;33m,\u001b[0m\u001b[0mset1\u001b[0m\u001b[1;33m)\u001b[0m\u001b[1;33m\u001b[0m\u001b[1;33m\u001b[0m\u001b[0m\n\u001b[0;32m      4\u001b[0m \u001b[1;32mdel\u001b[0m \u001b[0mset1\u001b[0m \u001b[1;31m#deleted set\u001b[0m\u001b[1;33m\u001b[0m\u001b[1;33m\u001b[0m\u001b[0m\n\u001b[1;32m----> 5\u001b[1;33m \u001b[0mprint\u001b[0m\u001b[1;33m(\u001b[0m\u001b[0mset1\u001b[0m\u001b[1;33m)\u001b[0m \u001b[1;31m#nthis wll give error as set1 dosnot exist\u001b[0m\u001b[1;33m\u001b[0m\u001b[1;33m\u001b[0m\u001b[0m\n\u001b[0m",
      "\u001b[1;31mNameError\u001b[0m: name 'set1' is not defined"
     ]
    }
   ],
   "source": [
    "#The del keyword will delete the set completely:\n",
    "set1 = {\"apple\", \"banana\", \"cherry\"}\n",
    "print(\"Original Set : \",set1)\n",
    "del set1 #deleted set\n",
    "print(set1) #nthis wll give error as set1 dosnot exist"
   ]
  },
  {
   "cell_type": "markdown",
   "id": "185f9602",
   "metadata": {},
   "source": [
    "# 5. Join Sets"
   ]
  },
  {
   "cell_type": "markdown",
   "id": "e8f9da73",
   "metadata": {},
   "source": [
    "## a. Join Two Sets\n",
    "\n",
    "- You can use the union() method that returns a new set containing all items from both sets, \n",
    "- You can also use the update() method that inserts all the items from one set into another"
   ]
  },
  {
   "cell_type": "code",
   "execution_count": 20,
   "id": "ca0e9968",
   "metadata": {},
   "outputs": [
    {
     "name": "stdout",
     "output_type": "stream",
     "text": [
      "set1 :  {'c', 'a', 'd', 'b'}\n",
      "set2 :  {1, 2, 3, 4}\n",
      "New set after union of set1 and set2 :  {1, 2, 3, 4, 'b', 'c', 'a', 'd'}\n"
     ]
    }
   ],
   "source": [
    "#The union() method returns a new set with all items from both sets:\n",
    "\n",
    "set1 = {\"a\", \"b\" , \"c\", \"d\"}\n",
    "set2 = {1, 2, 3, 4}\n",
    "print(\"set1 : \",set1)\n",
    "print(\"set2 : \",set2)\n",
    "set3 = set1.union(set2) #assigning it to new set\n",
    "print(\"New set after union of set1 and set2 : \", set3)"
   ]
  },
  {
   "cell_type": "code",
   "execution_count": 21,
   "id": "d206732b",
   "metadata": {},
   "outputs": [
    {
     "name": "stdout",
     "output_type": "stream",
     "text": [
      "set1 :  {'c', 'a', 'd', 'b'}\n",
      "set2 :  {1, 2, 3, 4}\n",
      "New set after updating set1 :  {1, 2, 3, 4, 'b', 'c', 'a', 'd'}\n"
     ]
    }
   ],
   "source": [
    "#The update() method inserts the items in set2 into set1:\n",
    "\n",
    "set1 = {\"a\", \"b\" , \"c\", \"d\"}\n",
    "set2 = {1, 2, 3, 4}\n",
    "print(\"set1 : \",set1)\n",
    "print(\"set2 : \",set2)\n",
    "set1.update(set2) #it will update the set-1 \n",
    "print(\"New set after updating set1 : \", set1)"
   ]
  },
  {
   "cell_type": "markdown",
   "id": "7a4ea12c",
   "metadata": {},
   "source": [
    "<b> Both union() and update() will exclude any duplicate items."
   ]
  },
  {
   "cell_type": "markdown",
   "id": "b849fbaa",
   "metadata": {},
   "source": [
    "## b Keep ONLY the Duplicates\n",
    "- The intersection_update() method will keep only the items that are present in both sets "
   ]
  },
  {
   "cell_type": "code",
   "execution_count": 22,
   "id": "779f8443",
   "metadata": {},
   "outputs": [
    {
     "name": "stdout",
     "output_type": "stream",
     "text": [
      "{'apple'}\n"
     ]
    }
   ],
   "source": [
    "x = {\"apple\", \"banana\", \"cherry\"}\n",
    "y = {\"google\", \"microsoft\", \"apple\"}\n",
    "\n",
    "x.intersection_update(y) #no assignment as it updates x with common element\n",
    "\n",
    "print(x)"
   ]
  },
  {
   "cell_type": "markdown",
   "id": "22347e13",
   "metadata": {},
   "source": [
    "- The intersection() method will return a new set, that only contains the items that are present in both sets."
   ]
  },
  {
   "cell_type": "code",
   "execution_count": 23,
   "id": "30563e57",
   "metadata": {},
   "outputs": [
    {
     "name": "stdout",
     "output_type": "stream",
     "text": [
      "{'apple'}\n"
     ]
    }
   ],
   "source": [
    "x = {\"apple\", \"banana\", \"cherry\"}\n",
    "y = {\"google\", \"microsoft\", \"apple\"}\n",
    "\n",
    "z = x.intersection(y) #assigned to new variable\n",
    "\n",
    "print(z)"
   ]
  },
  {
   "cell_type": "markdown",
   "id": "5c876c69",
   "metadata": {},
   "source": [
    "## c. Keep All, But NOT the Duplicates\n",
    "- The symmetric_difference_update() method will keep only the elements that are NOT present in both sets."
   ]
  },
  {
   "cell_type": "code",
   "execution_count": 24,
   "id": "22f964b9",
   "metadata": {},
   "outputs": [
    {
     "name": "stdout",
     "output_type": "stream",
     "text": [
      "{'google', 'banana', 'microsoft', 'cherry'}\n"
     ]
    }
   ],
   "source": [
    "x = {\"apple\", \"banana\", \"cherry\"}\n",
    "y = {\"google\", \"microsoft\", \"apple\"}\n",
    "\n",
    "x.symmetric_difference_update(y) #no assignment as it updates x - Keep the items that are not present in both sets\n",
    "\n",
    "print(x)"
   ]
  },
  {
   "cell_type": "markdown",
   "id": "c53099b4",
   "metadata": {},
   "source": [
    "- The symmetric_difference() method will return a new set, that contains only the elements that are NOT present in both sets."
   ]
  },
  {
   "cell_type": "code",
   "execution_count": 25,
   "id": "4e191348",
   "metadata": {},
   "outputs": [
    {
     "name": "stdout",
     "output_type": "stream",
     "text": [
      "{'banana', 'microsoft', 'google', 'cherry'}\n"
     ]
    }
   ],
   "source": [
    "x = {\"apple\", \"banana\", \"cherry\"}\n",
    "y = {\"google\", \"microsoft\", \"apple\"}\n",
    "\n",
    "z = x.symmetric_difference(y) #assigned to new variable - Return a set that contains all items from both sets, except items that are present in both\n",
    "\n",
    "print(z)"
   ]
  },
  {
   "cell_type": "markdown",
   "id": "72f16315",
   "metadata": {},
   "source": [
    "# 6. Set Methods"
   ]
  },
  {
   "cell_type": "markdown",
   "id": "a28f7c12",
   "metadata": {},
   "source": [
    "## a. isdisjoint()\t\n",
    "- Returns whether two sets have a intersection or not"
   ]
  },
  {
   "cell_type": "code",
   "execution_count": 26,
   "id": "a1d36c0a",
   "metadata": {},
   "outputs": [
    {
     "name": "stdout",
     "output_type": "stream",
     "text": [
      "True\n"
     ]
    }
   ],
   "source": [
    "# Return True if no items in set x is present in set y:\n",
    "\n",
    "x = {\"apple\", \"banana\", \"cherry\", \"papaya\"}\n",
    "y = {\"google\", \"microsoft\", \"facebook\", \"whatsapp\"}\n",
    "\n",
    "z = x.isdisjoint(y) #x and y sets doesnot have any elements in common\n",
    "print(z)"
   ]
  },
  {
   "cell_type": "code",
   "execution_count": 27,
   "id": "97be79d9",
   "metadata": {},
   "outputs": [
    {
     "name": "stdout",
     "output_type": "stream",
     "text": [
      "False\n"
     ]
    }
   ],
   "source": [
    "# Return True if no items in set x is present in set y:\n",
    "\n",
    "x = {\"apple\", \"banana\", \"cherry\", \"whatsapp\"}\n",
    "y = {\"google\", \"microsoft\", \"facebook\", \"whatsapp\"}\n",
    "\n",
    "z = x.isdisjoint(y) #x and y sets have one element in common\n",
    "print(z)"
   ]
  },
  {
   "cell_type": "markdown",
   "id": "fdc524dd",
   "metadata": {},
   "source": [
    "## b. issubset()\t\n",
    "- Returns whether another set contains this set or not"
   ]
  },
  {
   "cell_type": "code",
   "execution_count": 28,
   "id": "f1edcedf",
   "metadata": {},
   "outputs": [
    {
     "name": "stdout",
     "output_type": "stream",
     "text": [
      "False\n"
     ]
    }
   ],
   "source": [
    "x = {\"a\", \"b\", \"c\", \"x\"}\n",
    "y = {\"f\", \"e\", \"d\", \"c\", \"b\", \"z\"}\n",
    "\n",
    "z = x.issubset(y)\n",
    "\n",
    "print(z)"
   ]
  },
  {
   "cell_type": "code",
   "execution_count": 29,
   "id": "8a301bc4",
   "metadata": {},
   "outputs": [
    {
     "name": "stdout",
     "output_type": "stream",
     "text": [
      "True\n"
     ]
    }
   ],
   "source": [
    "x = {\"a\", \"b\"}\n",
    "y = {\"f\", \"e\", \"d\", \"c\", \"b\", \"a\"}\n",
    "\n",
    "z = x.issubset(y)\n",
    "\n",
    "print(z)"
   ]
  },
  {
   "cell_type": "markdown",
   "id": "359b6535",
   "metadata": {},
   "source": [
    "## c. issuperset()\t\n",
    "- Returns whether this set contains another set or not"
   ]
  },
  {
   "cell_type": "code",
   "execution_count": 30,
   "id": "230f6127",
   "metadata": {},
   "outputs": [
    {
     "name": "stdout",
     "output_type": "stream",
     "text": [
      "False\n"
     ]
    }
   ],
   "source": [
    "x = {\"f\", \"e\", \"d\", \"c\", \"b\"}\n",
    "y = {\"a\", \"b\", \"c\"}\n",
    "\n",
    "z = x.issuperset(y)\n",
    "print(z)"
   ]
  },
  {
   "cell_type": "code",
   "execution_count": 31,
   "id": "9b7b2986",
   "metadata": {},
   "outputs": [
    {
     "name": "stdout",
     "output_type": "stream",
     "text": [
      "True\n"
     ]
    }
   ],
   "source": [
    "x = {\"f\", \"e\", \"d\", \"c\", \"b\", \"a\"}\n",
    "y = {\"a\",\"b\"}\n",
    "\n",
    "z = x.issuperset(y)\n",
    "\n",
    "print(z)"
   ]
  }
 ],
 "metadata": {
  "kernelspec": {
   "display_name": "Python 3 (ipykernel)",
   "language": "python",
   "name": "python3"
  },
  "language_info": {
   "codemirror_mode": {
    "name": "ipython",
    "version": 3
   },
   "file_extension": ".py",
   "mimetype": "text/x-python",
   "name": "python",
   "nbconvert_exporter": "python",
   "pygments_lexer": "ipython3",
   "version": "3.9.7"
  }
 },
 "nbformat": 4,
 "nbformat_minor": 5
}
