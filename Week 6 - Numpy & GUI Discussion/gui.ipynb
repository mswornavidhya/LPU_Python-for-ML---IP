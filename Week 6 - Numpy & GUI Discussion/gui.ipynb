{
 "cells": [
  {
   "cell_type": "markdown",
   "id": "9227f822",
   "metadata": {},
   "source": [
    "Tkinter is defined as a module inside the Python standard library that helps to serve as an interface to an easy Toolkit Tk.  \n",
    "\n",
    "This has a variety of GUI to build an interface like buttons and widgets. \n",
    "\n",
    "The method mainloop plays a vital role in Tkinter as it is a core application that waits for events and helps in updating the GUI or in simple terms, we can say it is event-driven programming. If no mainloop() is used then nothing will appear on the window Screen. This method takes all the objects that were created and have interactions response."
   ]
  },
  {
   "cell_type": "markdown",
   "id": "243c4d89",
   "metadata": {},
   "source": [
    "a root window is created by calling Tkinter Constructor TK() as it creates a widget.\n",
    "\n",
    "Root=tk.TK() // Constructor"
   ]
  },
  {
   "cell_type": "markdown",
   "id": "d1156549",
   "metadata": {},
   "source": [
    "Creating window TK()<br>\n",
    "Window =TK()<br>\n",
    "……… <br>\n",
    "Window.mainloop()"
   ]
  },
  {
   "cell_type": "code",
   "execution_count": 9,
   "id": "1651ea13",
   "metadata": {},
   "outputs": [],
   "source": [
    "# Creating window Tk()\n",
    "Window =Tk()\n",
    "Window.mainloop()"
   ]
  },
  {
   "cell_type": "markdown",
   "id": "b5dd23ff",
   "metadata": {},
   "source": [
    "Methods<br>\n",
    "Tkinter provides the following methods to specify a widget to display on a window.\n",
    "\n",
    "pack():  This method helps in Placing the widgets within its master. With options like side, fill, expand.\n",
    "\n",
    "Widget.pack()"
   ]
  },
  {
   "cell_type": "code",
   "execution_count": 1,
   "id": "24043c0a",
   "metadata": {},
   "outputs": [],
   "source": [
    "#showing hello world in gui screen with the help of pack method \n",
    "from tkinter import *\n",
    "root=Tk()\n",
    "w=Label(root,text='hello world')\n",
    "w.pack()\n",
    "root.mainloop()"
   ]
  },
  {
   "cell_type": "markdown",
   "id": "648f0927",
   "metadata": {},
   "source": [
    "Place(): This method arranges the widgets by placing them in specific positions instructed by the programmer. It organizes with respective to X and Y coordinates.\n",
    "\n",
    "Widget.place()"
   ]
  },
  {
   "cell_type": "code",
   "execution_count": 4,
   "id": "9e96bf20",
   "metadata": {},
   "outputs": [],
   "source": [
    "#showing hello world in gui screen with the help of place method\n",
    "from tkinter import *\n",
    "root=Tk()\n",
    "w=Label(root,text='hello world')\n",
    "w.place(x=10,y=20)\n",
    "root.mainloop()"
   ]
  },
  {
   "cell_type": "markdown",
   "id": "d7de0105",
   "metadata": {},
   "source": [
    "grid(): This method helps to place a widget in a grid format or tabular form. We can specify in the method call with the number of rows and columns. It takes possible options like column, row, ipadx, and Y and sticky.\n",
    "\n",
    "Widget.grid()"
   ]
  },
  {
   "cell_type": "code",
   "execution_count": 5,
   "id": "5c78db31",
   "metadata": {},
   "outputs": [],
   "source": [
    "#showing hello world in gui screen with the help of grid method\n",
    "from tkinter import *\n",
    "root=Tk()\n",
    "w=Label(root,text='hello world')\n",
    "w.grid(row=0,column=0)\n",
    "w=Label(root,text='hello world1')\n",
    "w.grid(row=0,column=1)\n",
    "w=Label(root,text='hello world1')\n",
    "w.grid(row=1,column=0)\n",
    "root.mainloop()"
   ]
  },
  {
   "cell_type": "markdown",
   "id": "7bda6fca",
   "metadata": {},
   "source": [
    "Geometry: The Tkinter geometry is one of the built-in methods and it is used to set the dimensions while we used the Tkinter widget windows is mainly used to set the dimension length for the application window. \n",
    "\n",
    "Basically, we want to decorate the UI has textbox, labels, buttons, views, scroll box, etc mostly button will be the UI area to navigate the web pages. Once we clicked the button it performs the application logic and it works in the backend areas. The geometry() method is one of the UI decorative based widget method and it will pass the arguments in the set of rows and columns area of the application window. The geometry() method has geometry manager also known as pack manager and these packages will be a set of pre-defined methods and these have been covered among all the situations for the widgets. \n",
    "\n",
    "It's a Constructor\n",
    "The Tkinter geometry() constructor has a default set of arguments that will be passed into throughout the programming. Rows and Columns have a set of values and these arguments should be passed along the runtime."
   ]
  },
  {
   "cell_type": "code",
   "execution_count": 19,
   "id": "70cca3c1",
   "metadata": {},
   "outputs": [],
   "source": [
    "#Button widget and changing dimensio of window\n",
    "from tkinter import *\n",
    "root=Tk()\n",
    "root.title('Counting Seconds')\n",
    "root.geometry(\"400x400\")\n",
    "w=Label(root,text='Welcome to the python classes')\n",
    "w.pack()\n",
    "button = Button(root, text='Stop', width=25,command=root.destroy)\n",
    "button.pack()\n",
    "root.mainloop()"
   ]
  },
  {
   "cell_type": "code",
   "execution_count": 24,
   "id": "26b68392",
   "metadata": {},
   "outputs": [],
   "source": [
    "#changing the screen size\n",
    "import tkinter as tk\n",
    "r = tk.Tk()\n",
    "r.geometry(\"400x400\")\n",
    "r.title('Counting Seconds')\n",
    "user_name = tk.Label( r, text = \"Username\").grid(row = 17, column = 0)\n",
    "\n",
    "r.mainloop()"
   ]
  },
  {
   "cell_type": "code",
   "execution_count": 13,
   "id": "3a9eac35",
   "metadata": {},
   "outputs": [
    {
     "name": "stdout",
     "output_type": "stream",
     "text": [
      "Please select the new events from the list\n"
     ]
    }
   ],
   "source": [
    "import tkinter as tk\n",
    "from tkinter import ttk\n",
    "# def demo(events):\n",
    "print(\"Please select the new events from the list\")\n",
    "first = tk.Tk()\n",
    "first.geometry('310x110')\n",
    "def month():\n",
    "    example[\"values\"] = [\"first\", \"second\", \"third\", \"four\"] \n",
    "    lists = tk.Label(first,\n",
    "    text = \"Welcome User please select list of values\")\n",
    "    lists.grid(column=5, row=5)\n",
    "example = ttk.Combobox(first, values=[\"first\", \"second\", \"third\", \"four\"], postcommand=month)\n",
    "example.grid(column=5, row=5)\n",
    "first.mainloop()"
   ]
  },
  {
   "cell_type": "code",
   "execution_count": 20,
   "id": "1956aaa4",
   "metadata": {},
   "outputs": [],
   "source": [
    "#Entry method\n",
    "from tkinter import *\n",
    "master = Tk()\n",
    "Label(master, text='First Name').grid(row=0)\n",
    "Label(master, text='Last Name').grid(row=1)\n",
    "e1 = Entry(master)\n",
    "e2 = Entry(master)\n",
    "e1.grid(row=0, column=1)\n",
    "e2.grid(row=1, column=1)\n",
    "mainloop()"
   ]
  },
  {
   "cell_type": "code",
   "execution_count": 45,
   "id": "173ce954",
   "metadata": {},
   "outputs": [
    {
     "name": "stdout",
     "output_type": "stream",
     "text": [
      "hi welcome\n",
      "hi welcome\n"
     ]
    }
   ],
   "source": [
    "#Connecting function with button\n",
    "from tkinter import *\n",
    "root = Tk()\n",
    "\n",
    "def g():\n",
    "    h.config(text='hi welcome')\n",
    "    print('hi welcome')\n",
    "    \n",
    "h=Label(root)\n",
    "h.pack()\n",
    "Button(root, text = 'Brown', fg='brown', command=g).pack()\n",
    "root.mainloop()"
   ]
  },
  {
   "cell_type": "code",
   "execution_count": 49,
   "id": "e3ea1feb",
   "metadata": {},
   "outputs": [
    {
     "name": "stdout",
     "output_type": "stream",
     "text": [
      "3145\n"
     ]
    }
   ],
   "source": [
    "#partial function\n",
    "from functools import partial\n",
    "  \n",
    "# A normal function\n",
    "def f(a, b, c, x):\n",
    "    return 1000*a + 100*b + 10*c + x\n",
    "  \n",
    "# A partial function that calls f with\n",
    "# a as 3, b as 1 and c as 4.\n",
    "g = partial(f, 3, 1, 4)\n",
    "  \n",
    "# Calling g()\n",
    "print(g(5))"
   ]
  },
  {
   "cell_type": "code",
   "execution_count": 50,
   "id": "5365aac5",
   "metadata": {},
   "outputs": [
    {
     "name": "stdout",
     "output_type": "stream",
     "text": [
      "312\n"
     ]
    }
   ],
   "source": [
    "\n",
    "from functools import *\n",
    "  \n",
    "# A normal function\n",
    "def add(a, b, c):\n",
    "    return 100 * a + 10 * b + c\n",
    "  \n",
    "# A partial function with b = 1 and c = 2\n",
    "add_part = partial(add, c = 2, b = 1)\n",
    "  \n",
    "# Calling partial function\n",
    "print(add_part(3))"
   ]
  },
  {
   "cell_type": "markdown",
   "id": "067b4a2d",
   "metadata": {},
   "source": [
    "Entry:  The most generally used graphical user interface in python to design textboxes in GUIs. Here the entry widget in tkinter is a user for building customizable textboxes in the GUI interfaces which are being developed.\n",
    "\n",
    "Syntax:\n",
    "\n",
    "Entry(master,option=value,)"
   ]
  },
  {
   "cell_type": "code",
   "execution_count": 44,
   "id": "d9541c8f",
   "metadata": {},
   "outputs": [
    {
     "name": "stdout",
     "output_type": "stream",
     "text": [
      "<class 'bool'>\n",
      "<class 'int'>\n",
      "PY_VAR22 False\n",
      "<class 'bool'>\n",
      "<class 'int'>\n",
      "PY_VAR22 True\n"
     ]
    }
   ],
   "source": [
    "#VAriables and partial function\n",
    "from tkinter import *\n",
    "import tkinter as tk \n",
    "from functools import partial\n",
    "\n",
    "def call_result(label_result,number1):\n",
    "    label_result.config(text=number1.get()) \n",
    "    print(type(number1.get()))\n",
    "    #print(type(int(number1.get())))\n",
    "    print(number1.get())\n",
    "    return\n",
    "\n",
    "root = Tk() \n",
    "root.geometry('400x200+100+200')\n",
    "\n",
    "#number1 = StringVar()\n",
    "#number1 = IntVar()\n",
    "#number1 =DoubleVar()\n",
    "#number1=BooleanVar()\n",
    "labelResult = Label(root)\n",
    "labelResult.grid(row=7, column=2)\n",
    "entryNum1 = Entry(root, textvariable=number1).grid(row=1, column=2)\n",
    "call_result = partial(call_result, labelResult, number1)\n",
    "buttonCal = Button(root, text=\"Calculate\", command=call_result).grid(row=5, column=0)\n",
    "root.mainloop()"
   ]
  },
  {
   "cell_type": "code",
   "execution_count": 14,
   "id": "d80b1665",
   "metadata": {},
   "outputs": [],
   "source": [
    "import tkinter as tk\n",
    "from tkinter import messagebox\n",
    "def obj1_clear():\n",
    "    textbox.delete(0,10)\n",
    "    \n",
    "def message_box():\n",
    "    messagebox.showinfo(\"Yes\",textbox.get())\n",
    "\n",
    "\n",
    "obj1 = tk.Tk()\n",
    "textbox = tk.Entry(obj1, bg = \"yellow\", cursor =\"arrow\", exportselection=0, fg=\"blue\", \n",
    "                   highlightcolor=\"black\", justify=\"right\", textvariable=\"StringVar\", width=10, \n",
    "                   xscrollcommand=\"scrollbar\")\n",
    "textbox.pack()\n",
    "clear_button = tk.Button(obj1, text = \"clear\", command = obj1_clear)\n",
    "redisplay_button = tk.Button(obj1, text = \"Redisplay\", command = message_box)\n",
    "clear_button.pack()\n",
    "redisplay_button.pack()\n",
    "obj1.mainloop()"
   ]
  },
  {
   "attachments": {
    "image.png": {
     "image/png": "[encoded data removed]"
    }
   },
   "cell_type": "markdown",
   "id": "a4bbacbf",
   "metadata": {},
   "source": [
    "![image.png](attachment:image.png)"
   ]
  },
  {
   "cell_type": "code",
   "execution_count": null,
   "id": "195b010c",
   "metadata": {},
   "outputs": [],
   "source": []
  }
 ],
 "metadata": {
  "kernelspec": {
   "display_name": "Python 3 (ipykernel)",
   "language": "python",
   "name": "python3"
  },
  "language_info": {
   "codemirror_mode": {
    "name": "ipython",
    "version": 3
   },
   "file_extension": ".py",
   "mimetype": "text/x-python",
   "name": "python",
   "nbconvert_exporter": "python",
   "pygments_lexer": "ipython3",
   "version": "3.9.7"
  }
 },
 "nbformat": 4,
 "nbformat_minor": 5
}
